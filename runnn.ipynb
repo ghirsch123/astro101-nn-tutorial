{
 "cells": [
  {
   "cell_type": "markdown",
   "metadata": {},
   "source": [
    "## File to implement nn with wandb\n",
    "(note that we can't run wandb in terminal)"
   ]
  },
  {
   "cell_type": "code",
   "execution_count": 1,
   "metadata": {},
   "outputs": [
    {
     "name": "stderr",
     "output_type": "stream",
     "text": [
      "2022-12-06 17:45:27.993738: I tensorflow/core/platform/cpu_feature_guard.cc:193] This TensorFlow binary is optimized with oneAPI Deep Neural Network Library (oneDNN) to use the following CPU instructions in performance-critical operations:  AVX2 FMA\n",
      "To enable them in other operations, rebuild TensorFlow with the appropriate compiler flags.\n"
     ]
    },
    {
     "name": "stdout",
     "output_type": "stream",
     "text": [
      "Num GPUs Available:  0\n"
     ]
    },
    {
     "name": "stderr",
     "output_type": "stream",
     "text": [
      "Failed to detect the name of this notebook, you can set it manually with the WANDB_NOTEBOOK_NAME environment variable to enable code saving.\n",
      "\u001b[34m\u001b[1mwandb\u001b[0m: Currently logged in as: \u001b[33mghirsch\u001b[0m. Use \u001b[1m`wandb login --relogin`\u001b[0m to force relogin\n"
     ]
    },
    {
     "data": {
      "text/html": [
       "wandb version 0.13.6 is available!  To upgrade, please run:\n",
       " $ pip install wandb --upgrade"
      ],
      "text/plain": [
       "<IPython.core.display.HTML object>"
      ]
     },
     "metadata": {},
     "output_type": "display_data"
    },
    {
     "data": {
      "text/html": [
       "Tracking run with wandb version 0.12.20"
      ],
      "text/plain": [
       "<IPython.core.display.HTML object>"
      ]
     },
     "metadata": {},
     "output_type": "display_data"
    },
    {
     "data": {
      "text/html": [
       "Run data is saved locally in <code>/Users/morty/a101_comp/NN_Tutorial/NN_Tutorial_2/Graham-Data-Processing/nn_v0.0.1/wandb/run-20221206_174534-37woihe7</code>"
      ],
      "text/plain": [
       "<IPython.core.display.HTML object>"
      ]
     },
     "metadata": {},
     "output_type": "display_data"
    },
    {
     "data": {
      "text/html": [
       "Syncing run <strong><a href=\"https://wandb.ai/ghirsch/Astro101_project_v4/runs/37woihe7\" target=\"_blank\">treasured-smoke-1</a></strong> to <a href=\"https://wandb.ai/ghirsch/Astro101_project_v4\" target=\"_blank\">Weights & Biases</a> (<a href=\"https://wandb.me/run\" target=\"_blank\">docs</a>)<br/>"
      ],
      "text/plain": [
       "<IPython.core.display.HTML object>"
      ]
     },
     "metadata": {},
     "output_type": "display_data"
    },
    {
     "name": "stderr",
     "output_type": "stream",
     "text": [
      "\u001b[34m\u001b[1mwandb\u001b[0m: \u001b[33mWARNING\u001b[0m Malformed sweep config detected! This may cause your sweep to behave in unexpected ways.\n",
      "\u001b[34m\u001b[1mwandb\u001b[0m: \u001b[33mWARNING\u001b[0m To avoid this, please fix the sweep config schema violations below:\n",
      "\u001b[34m\u001b[1mwandb\u001b[0m: \u001b[33mWARNING\u001b[0m   Violation 1. Additional properties are not allowed ('goal' was unexpected)\n",
      "\u001b[34m\u001b[1mwandb\u001b[0m: \u001b[33mWARNING\u001b[0m   Violation 2. 'val_accuracy' is not of type 'object'\n",
      "\u001b[34m\u001b[1mwandb\u001b[0m: \u001b[33mWARNING\u001b[0m Calling wandb.login() after wandb.init() has no effect.\n"
     ]
    },
    {
     "name": "stdout",
     "output_type": "stream",
     "text": [
      "Create sweep with ID: 9sbj5834\n",
      "Sweep URL: https://wandb.ai/ghirsch/Astro101_project_v4/sweeps/9sbj5834\n"
     ]
    },
    {
     "name": "stderr",
     "output_type": "stream",
     "text": [
      "\u001b[34m\u001b[1mwandb\u001b[0m: Agent Starting Run: c5w2de8u with config:\n",
      "\u001b[34m\u001b[1mwandb\u001b[0m: \tbatch_size: 96\n",
      "\u001b[34m\u001b[1mwandb\u001b[0m: \tdropout: 0.235856711079073\n",
      "\u001b[34m\u001b[1mwandb\u001b[0m: \tepochs: 54\n",
      "\u001b[34m\u001b[1mwandb\u001b[0m: \tlearning_rate: 0.010220792419681657\n",
      "\u001b[34m\u001b[1mwandb\u001b[0m: \tsize_1: 72\n",
      "\u001b[34m\u001b[1mwandb\u001b[0m: \tsize_2: 140\n",
      "\u001b[34m\u001b[1mwandb\u001b[0m: \tsize_3: 136\n",
      "\u001b[34m\u001b[1mwandb\u001b[0m: \tsize_4: 223\n",
      "\u001b[34m\u001b[1mwandb\u001b[0m: \tsize_5: 124\n"
     ]
    },
    {
     "data": {
      "text/html": [
       "wandb version 0.13.6 is available!  To upgrade, please run:\n",
       " $ pip install wandb --upgrade"
      ],
      "text/plain": [
       "<IPython.core.display.HTML object>"
      ]
     },
     "metadata": {},
     "output_type": "display_data"
    },
    {
     "data": {
      "text/html": [
       "Tracking run with wandb version 0.12.20"
      ],
      "text/plain": [
       "<IPython.core.display.HTML object>"
      ]
     },
     "metadata": {},
     "output_type": "display_data"
    },
    {
     "data": {
      "text/html": [
       "Run data is saved locally in <code>/Users/morty/a101_comp/NN_Tutorial/NN_Tutorial_2/Graham-Data-Processing/nn_v0.0.1/wandb/run-20221206_174602-c5w2de8u</code>"
      ],
      "text/plain": [
       "<IPython.core.display.HTML object>"
      ]
     },
     "metadata": {},
     "output_type": "display_data"
    },
    {
     "data": {
      "text/html": [
       "Syncing run <strong><a href=\"https://wandb.ai/ghirsch/Astro101_project_v4/runs/c5w2de8u\" target=\"_blank\">valiant-sweep-1</a></strong> to <a href=\"https://wandb.ai/ghirsch/Astro101_project_v4\" target=\"_blank\">Weights & Biases</a> (<a href=\"https://wandb.me/run\" target=\"_blank\">docs</a>)<br/>Sweep page:  <a href=\"https://wandb.ai/ghirsch/Astro101_project_v4/sweeps/9sbj5834\" target=\"_blank\">https://wandb.ai/ghirsch/Astro101_project_v4/sweeps/9sbj5834</a>"
      ],
      "text/plain": [
       "<IPython.core.display.HTML object>"
      ]
     },
     "metadata": {},
     "output_type": "display_data"
    },
    {
     "name": "stderr",
     "output_type": "stream",
     "text": [
      "2022-12-06 17:46:14.620213: I tensorflow/core/platform/cpu_feature_guard.cc:193] This TensorFlow binary is optimized with oneAPI Deep Neural Network Library (oneDNN) to use the following CPU instructions in performance-critical operations:  AVX2 FMA\n",
      "To enable them in other operations, rebuild TensorFlow with the appropriate compiler flags.\n",
      "\u001b[34m\u001b[1mwandb\u001b[0m: \u001b[33mWARNING\u001b[0m The save_model argument by default saves the model in the HDF5 format that cannot save custom objects like subclassed models and custom layers. This behavior will be deprecated in a future release in favor of the SavedModel format. Meanwhile, the HDF5 model is saved as W&B files and the SavedModel as W&B Artifacts.\n"
     ]
    },
    {
     "name": "stdout",
     "output_type": "stream",
     "text": [
      "Epoch 1/54\n",
      "10/10 [==============================] - 1s 77ms/step - loss: 2.7053 - val_loss: 1.4530 - _timestamp: 1670377586.0000 - _runtime: 24.0000\n",
      "Epoch 2/54\n",
      "10/10 [==============================] - 0s 25ms/step - loss: 1.4510 - val_loss: 1.2010 - _timestamp: 1670377586.0000 - _runtime: 24.0000\n",
      "Epoch 3/54\n",
      "10/10 [==============================] - 0s 18ms/step - loss: 1.1876 - val_loss: 0.9697 - _timestamp: 1670377586.0000 - _runtime: 24.0000\n",
      "Epoch 4/54\n",
      "10/10 [==============================] - 0s 12ms/step - loss: 1.0222 - val_loss: 0.9748 - _timestamp: 1670377586.0000 - _runtime: 24.0000\n",
      "Epoch 5/54\n",
      "10/10 [==============================] - 0s 20ms/step - loss: 0.8966 - val_loss: 0.8170 - _timestamp: 1670377587.0000 - _runtime: 25.0000\n",
      "Epoch 6/54\n",
      "10/10 [==============================] - 0s 13ms/step - loss: 0.7995 - val_loss: 0.8214 - _timestamp: 1670377587.0000 - _runtime: 25.0000\n",
      "Epoch 7/54\n",
      "10/10 [==============================] - 0s 21ms/step - loss: 0.8126 - val_loss: 0.7211 - _timestamp: 1670377587.0000 - _runtime: 25.0000\n",
      "Epoch 8/54\n",
      "10/10 [==============================] - 0s 17ms/step - loss: 0.6954 - val_loss: 0.6306 - _timestamp: 1670377587.0000 - _runtime: 25.0000\n",
      "Epoch 9/54\n",
      "10/10 [==============================] - 0s 13ms/step - loss: 0.7112 - val_loss: 0.8632 - _timestamp: 1670377587.0000 - _runtime: 25.0000\n",
      "Epoch 10/54\n",
      "10/10 [==============================] - 0s 19ms/step - loss: 0.7313 - val_loss: 0.6303 - _timestamp: 1670377587.0000 - _runtime: 25.0000\n",
      "Epoch 11/54\n",
      "10/10 [==============================] - 0s 11ms/step - loss: 0.7178 - val_loss: 0.7815 - _timestamp: 1670377588.0000 - _runtime: 26.0000\n",
      "Epoch 12/54\n",
      "10/10 [==============================] - 0s 10ms/step - loss: 0.7925 - val_loss: 0.7879 - _timestamp: 1670377588.0000 - _runtime: 26.0000\n",
      "Epoch 13/54\n",
      "10/10 [==============================] - 0s 9ms/step - loss: 0.7208 - val_loss: 0.6358 - _timestamp: 1670377588.0000 - _runtime: 26.0000\n",
      "Epoch 14/54\n",
      "10/10 [==============================] - 0s 11ms/step - loss: 0.7353 - val_loss: 0.6621 - _timestamp: 1670377588.0000 - _runtime: 26.0000\n",
      "Epoch 15/54\n",
      "10/10 [==============================] - 0s 8ms/step - loss: 0.6843 - val_loss: 0.8372 - _timestamp: 1670377588.0000 - _runtime: 26.0000\n",
      "Epoch 16/54\n",
      "10/10 [==============================] - 0s 12ms/step - loss: 0.7187 - val_loss: 0.7131 - _timestamp: 1670377588.0000 - _runtime: 26.0000\n",
      "Epoch 17/54\n",
      "10/10 [==============================] - 0s 8ms/step - loss: 0.7463 - val_loss: 0.7450 - _timestamp: 1670377588.0000 - _runtime: 26.0000\n",
      "Epoch 18/54\n",
      "10/10 [==============================] - 0s 10ms/step - loss: 0.7373 - val_loss: 0.7091 - _timestamp: 1670377588.0000 - _runtime: 26.0000\n",
      "Epoch 19/54\n",
      "10/10 [==============================] - 0s 38ms/step - loss: 0.7794 - val_loss: 0.6203 - _timestamp: 1670377589.0000 - _runtime: 27.0000\n",
      "Epoch 20/54\n",
      "10/10 [==============================] - 0s 21ms/step - loss: 0.6756 - val_loss: 0.5713 - _timestamp: 1670377589.0000 - _runtime: 27.0000\n",
      "Epoch 21/54\n",
      "10/10 [==============================] - 0s 10ms/step - loss: 0.6296 - val_loss: 0.7925 - _timestamp: 1670377589.0000 - _runtime: 27.0000\n",
      "Epoch 22/54\n",
      "10/10 [==============================] - 0s 10ms/step - loss: 0.7128 - val_loss: 0.6628 - _timestamp: 1670377589.0000 - _runtime: 27.0000\n",
      "Epoch 23/54\n",
      "10/10 [==============================] - 0s 9ms/step - loss: 0.6939 - val_loss: 0.6873 - _timestamp: 1670377589.0000 - _runtime: 27.0000\n",
      "Epoch 24/54\n",
      "10/10 [==============================] - 0s 17ms/step - loss: 0.6736 - val_loss: 0.7193 - _timestamp: 1670377589.0000 - _runtime: 27.0000\n",
      "Epoch 25/54\n",
      "10/10 [==============================] - 0s 20ms/step - loss: 0.7764 - val_loss: 0.6864 - _timestamp: 1670377589.0000 - _runtime: 27.0000\n",
      "Epoch 26/54\n",
      "10/10 [==============================] - 0s 16ms/step - loss: 0.6681 - val_loss: 0.6146 - _timestamp: 1670377590.0000 - _runtime: 28.0000\n",
      "Epoch 27/54\n",
      "10/10 [==============================] - 0s 29ms/step - loss: 0.6155 - val_loss: 0.5282 - _timestamp: 1670377590.0000 - _runtime: 28.0000\n",
      "Epoch 28/54\n",
      "10/10 [==============================] - 0s 15ms/step - loss: 0.6252 - val_loss: 0.8183 - _timestamp: 1670377590.0000 - _runtime: 28.0000\n",
      "Epoch 29/54\n",
      "10/10 [==============================] - 0s 23ms/step - loss: 0.6762 - val_loss: 0.5261 - _timestamp: 1670377590.0000 - _runtime: 28.0000\n",
      "Epoch 30/54\n",
      "10/10 [==============================] - 0s 13ms/step - loss: 0.6525 - val_loss: 0.5944 - _timestamp: 1670377590.0000 - _runtime: 28.0000\n",
      "Epoch 31/54\n",
      "10/10 [==============================] - 0s 9ms/step - loss: 0.6511 - val_loss: 0.5705 - _timestamp: 1670377591.0000 - _runtime: 29.0000\n",
      "Epoch 32/54\n",
      "10/10 [==============================] - 0s 22ms/step - loss: 0.6674 - val_loss: 0.5822 - _timestamp: 1670377591.0000 - _runtime: 29.0000\n",
      "Epoch 33/54\n",
      "10/10 [==============================] - 0s 16ms/step - loss: 0.6037 - val_loss: 0.6900 - _timestamp: 1670377591.0000 - _runtime: 29.0000\n",
      "Epoch 34/54\n",
      "10/10 [==============================] - 0s 13ms/step - loss: 0.7024 - val_loss: 0.6245 - _timestamp: 1670377591.0000 - _runtime: 29.0000\n",
      "Epoch 35/54\n",
      "10/10 [==============================] - 0s 9ms/step - loss: 0.5936 - val_loss: 0.5268 - _timestamp: 1670377591.0000 - _runtime: 29.0000\n",
      "Epoch 36/54\n",
      "10/10 [==============================] - 0s 51ms/step - loss: 0.5943 - val_loss: 0.5258 - _timestamp: 1670377591.0000 - _runtime: 29.0000\n",
      "Epoch 37/54\n",
      "10/10 [==============================] - 0s 15ms/step - loss: 0.6549 - val_loss: 0.6244 - _timestamp: 1670377592.0000 - _runtime: 30.0000\n",
      "Epoch 38/54\n",
      "10/10 [==============================] - 0s 19ms/step - loss: 0.6981 - val_loss: 0.7999 - _timestamp: 1670377592.0000 - _runtime: 30.0000\n",
      "Epoch 39/54\n",
      "10/10 [==============================] - 0s 14ms/step - loss: 0.6862 - val_loss: 0.5340 - _timestamp: 1670377592.0000 - _runtime: 30.0000\n",
      "Epoch 40/54\n",
      "10/10 [==============================] - 0s 15ms/step - loss: 0.5833 - val_loss: 0.6434 - _timestamp: 1670377592.0000 - _runtime: 30.0000\n",
      "Epoch 41/54\n",
      "10/10 [==============================] - 0s 15ms/step - loss: 0.6838 - val_loss: 0.8811 - _timestamp: 1670377592.0000 - _runtime: 30.0000\n",
      "Epoch 42/54\n",
      "10/10 [==============================] - 0s 16ms/step - loss: 0.7752 - val_loss: 0.7541 - _timestamp: 1670377592.0000 - _runtime: 30.0000\n",
      "Epoch 43/54\n",
      "10/10 [==============================] - 0s 19ms/step - loss: 0.6844 - val_loss: 0.5710 - _timestamp: 1670377593.0000 - _runtime: 31.0000\n",
      "Epoch 44/54\n",
      "10/10 [==============================] - 0s 22ms/step - loss: 0.6041 - val_loss: 0.5855 - _timestamp: 1670377593.0000 - _runtime: 31.0000\n",
      "Epoch 45/54\n",
      "10/10 [==============================] - 0s 25ms/step - loss: 0.6084 - val_loss: 0.6377 - _timestamp: 1670377593.0000 - _runtime: 31.0000\n",
      "Epoch 46/54\n",
      "10/10 [==============================] - 0s 15ms/step - loss: 0.6542 - val_loss: 0.5806 - _timestamp: 1670377593.0000 - _runtime: 31.0000\n",
      "Epoch 47/54\n",
      "10/10 [==============================] - 0s 42ms/step - loss: 0.6082 - val_loss: 0.5244 - _timestamp: 1670377593.0000 - _runtime: 31.0000\n",
      "Epoch 48/54\n",
      "10/10 [==============================] - 0s 17ms/step - loss: 0.6426 - val_loss: 0.6022 - _timestamp: 1670377594.0000 - _runtime: 32.0000\n",
      "Epoch 49/54\n",
      "10/10 [==============================] - 0s 28ms/step - loss: 0.7031 - val_loss: 0.6014 - _timestamp: 1670377594.0000 - _runtime: 32.0000\n",
      "Epoch 50/54\n",
      "10/10 [==============================] - 0s 17ms/step - loss: 0.6953 - val_loss: 0.7419 - _timestamp: 1670377594.0000 - _runtime: 32.0000\n",
      "Epoch 51/54\n",
      "10/10 [==============================] - 0s 17ms/step - loss: 0.6903 - val_loss: 0.5910 - _timestamp: 1670377594.0000 - _runtime: 32.0000\n",
      "Epoch 52/54\n",
      "10/10 [==============================] - 0s 14ms/step - loss: 0.6403 - val_loss: 0.5913 - _timestamp: 1670377595.0000 - _runtime: 33.0000\n",
      "Epoch 53/54\n",
      "10/10 [==============================] - 0s 11ms/step - loss: 0.6262 - val_loss: 0.6028 - _timestamp: 1670377595.0000 - _runtime: 33.0000\n",
      "Epoch 54/54\n",
      "10/10 [==============================] - 0s 13ms/step - loss: 0.6625 - val_loss: 0.5490 - _timestamp: 1670377595.0000 - _runtime: 33.0000\n"
     ]
    },
    {
     "data": {
      "text/html": [
       "Waiting for W&B process to finish... <strong style=\"color:green\">(success).</strong>"
      ],
      "text/plain": [
       "<IPython.core.display.HTML object>"
      ]
     },
     "metadata": {},
     "output_type": "display_data"
    },
    {
     "data": {
      "application/vnd.jupyter.widget-view+json": {
       "model_id": "2e6b79647aea489494c877ad69289024",
       "version_major": 2,
       "version_minor": 0
      },
      "text/plain": [
       "VBox(children=(Label(value='1.086 MB of 1.086 MB uploaded (0.000 MB deduped)\\r'), FloatProgress(value=1.0, max…"
      ]
     },
     "metadata": {},
     "output_type": "display_data"
    },
    {
     "name": "stderr",
     "output_type": "stream",
     "text": [
      "wandb: Network error (ConnectTimeout), entering retry loop.\n"
     ]
    },
    {
     "data": {
      "text/html": [
       "<style>\n",
       "    table.wandb td:nth-child(1) { padding: 0 10px; text-align: left ; width: auto;} td:nth-child(2) {text-align: left ; width: 100%}\n",
       "    .wandb-row { display: flex; flex-direction: row; flex-wrap: wrap; justify-content: flex-start; width: 100% }\n",
       "    .wandb-col { display: flex; flex-direction: column; flex-basis: 100%; flex: 1; padding: 10px; }\n",
       "    </style>\n",
       "<div class=\"wandb-row\"><div class=\"wandb-col\"><h3>Run history:</h3><br/><table class=\"wandb\"><tr><td>epoch</td><td>▁▁▁▂▂▂▂▂▂▃▃▃▃▃▄▄▄▄▄▄▅▅▅▅▅▅▆▆▆▆▆▇▇▇▇▇▇███</td></tr><tr><td>loss</td><td>█▄▃▂▂▂▁▁▁▁▂▁▂▂▁▁▁▁▂▁▁▁▁▁▁▁▁▁▁▁▁▁▁▁▁▁▁▁▁▁</td></tr><tr><td>val_loss</td><td>█▆▄▃▃▂▄▂▃▂▂▃▃▂▁▃▂▂▂▂▃▁▂▁▂▂▁▂▁▂▄▁▁▂▁▂▂▂▂▁</td></tr></table><br/></div><div class=\"wandb-col\"><h3>Run summary:</h3><br/><table class=\"wandb\"><tr><td>best_epoch</td><td>46</td></tr><tr><td>best_val_loss</td><td>0.52438</td></tr><tr><td>epoch</td><td>53</td></tr><tr><td>loss</td><td>0.66246</td></tr><tr><td>val_loss</td><td>0.54897</td></tr></table><br/></div></div>"
      ],
      "text/plain": [
       "<IPython.core.display.HTML object>"
      ]
     },
     "metadata": {},
     "output_type": "display_data"
    },
    {
     "data": {
      "text/html": [
       "Synced <strong style=\"color:#cdcd00\">valiant-sweep-1</strong>: <a href=\"https://wandb.ai/ghirsch/Astro101_project_v4/runs/c5w2de8u\" target=\"_blank\">https://wandb.ai/ghirsch/Astro101_project_v4/runs/c5w2de8u</a><br/>Synced 6 W&B file(s), 1 media file(s), 0 artifact file(s) and 1 other file(s)"
      ],
      "text/plain": [
       "<IPython.core.display.HTML object>"
      ]
     },
     "metadata": {},
     "output_type": "display_data"
    },
    {
     "data": {
      "text/html": [
       "Find logs at: <code>./wandb/run-20221206_174602-c5w2de8u/logs</code>"
      ],
      "text/plain": [
       "<IPython.core.display.HTML object>"
      ]
     },
     "metadata": {},
     "output_type": "display_data"
    },
    {
     "name": "stderr",
     "output_type": "stream",
     "text": [
      "\u001b[34m\u001b[1mwandb\u001b[0m: Sweep Agent: Waiting for job.\n",
      "\u001b[34m\u001b[1mwandb\u001b[0m: Job received.\n",
      "\u001b[34m\u001b[1mwandb\u001b[0m: Agent Starting Run: iudlo05j with config:\n",
      "\u001b[34m\u001b[1mwandb\u001b[0m: \tbatch_size: 96\n",
      "\u001b[34m\u001b[1mwandb\u001b[0m: \tdropout: 0.03272040131692302\n",
      "\u001b[34m\u001b[1mwandb\u001b[0m: \tepochs: 78\n",
      "\u001b[34m\u001b[1mwandb\u001b[0m: \tlearning_rate: 0.08201765813854357\n",
      "\u001b[34m\u001b[1mwandb\u001b[0m: \tsize_1: 233\n",
      "\u001b[34m\u001b[1mwandb\u001b[0m: \tsize_2: 66\n",
      "\u001b[34m\u001b[1mwandb\u001b[0m: \tsize_3: 73\n",
      "\u001b[34m\u001b[1mwandb\u001b[0m: \tsize_4: 124\n",
      "\u001b[34m\u001b[1mwandb\u001b[0m: \tsize_5: 206\n"
     ]
    },
    {
     "data": {
      "text/html": [
       "wandb version 0.13.6 is available!  To upgrade, please run:\n",
       " $ pip install wandb --upgrade"
      ],
      "text/plain": [
       "<IPython.core.display.HTML object>"
      ]
     },
     "metadata": {},
     "output_type": "display_data"
    },
    {
     "data": {
      "text/html": [
       "Tracking run with wandb version 0.12.20"
      ],
      "text/plain": [
       "<IPython.core.display.HTML object>"
      ]
     },
     "metadata": {},
     "output_type": "display_data"
    },
    {
     "data": {
      "text/html": [
       "Run data is saved locally in <code>/Users/morty/a101_comp/NN_Tutorial/NN_Tutorial_2/Graham-Data-Processing/nn_v0.0.1/wandb/run-20221206_174723-iudlo05j</code>"
      ],
      "text/plain": [
       "<IPython.core.display.HTML object>"
      ]
     },
     "metadata": {},
     "output_type": "display_data"
    },
    {
     "data": {
      "text/html": [
       "Syncing run <strong><a href=\"https://wandb.ai/ghirsch/Astro101_project_v4/runs/iudlo05j\" target=\"_blank\">ethereal-sweep-2</a></strong> to <a href=\"https://wandb.ai/ghirsch/Astro101_project_v4\" target=\"_blank\">Weights & Biases</a> (<a href=\"https://wandb.me/run\" target=\"_blank\">docs</a>)<br/>Sweep page:  <a href=\"https://wandb.ai/ghirsch/Astro101_project_v4/sweeps/9sbj5834\" target=\"_blank\">https://wandb.ai/ghirsch/Astro101_project_v4/sweeps/9sbj5834</a>"
      ],
      "text/plain": [
       "<IPython.core.display.HTML object>"
      ]
     },
     "metadata": {},
     "output_type": "display_data"
    },
    {
     "name": "stdout",
     "output_type": "stream",
     "text": [
      "Epoch 1/78\n",
      "10/10 [==============================] - 1s 26ms/step - loss: 7027.8960 - val_loss: 7656.1689 - _timestamp: 1670377664.0000 - _runtime: 21.0000\n",
      "Epoch 2/78\n",
      "10/10 [==============================] - 0s 9ms/step - loss: 9613.1572 - val_loss: 2186.0608 - _timestamp: 1670377664.0000 - _runtime: 21.0000\n",
      "Epoch 3/78\n",
      "10/10 [==============================] - 0s 9ms/step - loss: 1304.5837 - val_loss: 465.6115 - _timestamp: 1670377664.0000 - _runtime: 21.0000\n",
      "Epoch 4/78\n",
      "10/10 [==============================] - 0s 9ms/step - loss: 765.1977 - val_loss: 428.2627 - _timestamp: 1670377664.0000 - _runtime: 21.0000\n",
      "Epoch 5/78\n",
      "10/10 [==============================] - 0s 19ms/step - loss: 277.6887 - val_loss: 197.7806 - _timestamp: 1670377664.0000 - _runtime: 21.0000\n",
      "Epoch 6/78\n",
      "10/10 [==============================] - 0s 23ms/step - loss: 136.0186 - val_loss: 94.9002 - _timestamp: 1670377664.0000 - _runtime: 21.0000\n",
      "Epoch 7/78\n",
      "10/10 [==============================] - 0s 28ms/step - loss: 50.2071 - val_loss: 21.7153 - _timestamp: 1670377664.0000 - _runtime: 21.0000\n",
      "Epoch 8/78\n",
      "10/10 [==============================] - 0s 16ms/step - loss: 22.0250 - val_loss: 11.5811 - _timestamp: 1670377665.0000 - _runtime: 22.0000\n",
      "Epoch 9/78\n",
      "10/10 [==============================] - 0s 23ms/step - loss: 12.0524 - val_loss: 8.4271 - _timestamp: 1670377665.0000 - _runtime: 22.0000\n",
      "Epoch 10/78\n",
      "10/10 [==============================] - 0s 23ms/step - loss: 6.9642 - val_loss: 4.9618 - _timestamp: 1670377665.0000 - _runtime: 22.0000\n",
      "Epoch 11/78\n",
      "10/10 [==============================] - 0s 20ms/step - loss: 4.0286 - val_loss: 2.9302 - _timestamp: 1670377665.0000 - _runtime: 22.0000\n",
      "Epoch 12/78\n",
      "10/10 [==============================] - 0s 21ms/step - loss: 2.6863 - val_loss: 1.8613 - _timestamp: 1670377665.0000 - _runtime: 22.0000\n",
      "Epoch 13/78\n",
      "10/10 [==============================] - 0s 14ms/step - loss: 2.0403 - val_loss: 2.1474 - _timestamp: 1670377666.0000 - _runtime: 23.0000\n",
      "Epoch 14/78\n",
      "10/10 [==============================] - 0s 22ms/step - loss: 1.7801 - val_loss: 1.3555 - _timestamp: 1670377666.0000 - _runtime: 23.0000\n",
      "Epoch 15/78\n",
      "10/10 [==============================] - 0s 21ms/step - loss: 1.4650 - val_loss: 1.1895 - _timestamp: 1670377666.0000 - _runtime: 23.0000\n",
      "Epoch 16/78\n",
      "10/10 [==============================] - 0s 33ms/step - loss: 1.2363 - val_loss: 1.0634 - _timestamp: 1670377666.0000 - _runtime: 23.0000\n",
      "Epoch 17/78\n",
      "10/10 [==============================] - 0s 12ms/step - loss: 1.2272 - val_loss: 1.2867 - _timestamp: 1670377666.0000 - _runtime: 23.0000\n",
      "Epoch 18/78\n",
      "10/10 [==============================] - 0s 29ms/step - loss: 1.2340 - val_loss: 1.0170 - _timestamp: 1670377667.0000 - _runtime: 24.0000\n",
      "Epoch 19/78\n",
      "10/10 [==============================] - 0s 33ms/step - loss: 1.1706 - val_loss: 0.9640 - _timestamp: 1670377667.0000 - _runtime: 24.0000\n",
      "Epoch 20/78\n",
      "10/10 [==============================] - 0s 9ms/step - loss: 1.2227 - val_loss: 1.0450 - _timestamp: 1670377667.0000 - _runtime: 24.0000\n",
      "Epoch 21/78\n",
      "10/10 [==============================] - 0s 23ms/step - loss: 1.2070 - val_loss: 0.8527 - _timestamp: 1670377667.0000 - _runtime: 24.0000\n",
      "Epoch 22/78\n",
      "10/10 [==============================] - 0s 12ms/step - loss: 1.0672 - val_loss: 0.8896 - _timestamp: 1670377668.0000 - _runtime: 25.0000\n",
      "Epoch 23/78\n",
      "10/10 [==============================] - 0s 11ms/step - loss: 0.9798 - val_loss: 0.9160 - _timestamp: 1670377668.0000 - _runtime: 25.0000\n",
      "Epoch 24/78\n",
      "10/10 [==============================] - 0s 10ms/step - loss: 1.1651 - val_loss: 1.0744 - _timestamp: 1670377668.0000 - _runtime: 25.0000\n",
      "Epoch 25/78\n",
      "10/10 [==============================] - 0s 18ms/step - loss: 1.1440 - val_loss: 0.8950 - _timestamp: 1670377668.0000 - _runtime: 25.0000\n",
      "Epoch 26/78\n",
      "10/10 [==============================] - 0s 21ms/step - loss: 0.9844 - val_loss: 0.8030 - _timestamp: 1670377668.0000 - _runtime: 25.0000\n",
      "Epoch 27/78\n",
      "10/10 [==============================] - 0s 16ms/step - loss: 0.9695 - val_loss: 0.9394 - _timestamp: 1670377668.0000 - _runtime: 25.0000\n",
      "Epoch 28/78\n",
      "10/10 [==============================] - 0s 23ms/step - loss: 0.9534 - val_loss: 0.8009 - _timestamp: 1670377668.0000 - _runtime: 25.0000\n",
      "Epoch 29/78\n",
      "10/10 [==============================] - 0s 10ms/step - loss: 0.9421 - val_loss: 0.9337 - _timestamp: 1670377669.0000 - _runtime: 26.0000\n",
      "Epoch 30/78\n",
      "10/10 [==============================] - 0s 9ms/step - loss: 0.9868 - val_loss: 0.8437 - _timestamp: 1670377669.0000 - _runtime: 26.0000\n",
      "Epoch 31/78\n",
      "10/10 [==============================] - 0s 31ms/step - loss: 0.9629 - val_loss: 0.7632 - _timestamp: 1670377669.0000 - _runtime: 26.0000\n",
      "Epoch 32/78\n",
      "10/10 [==============================] - 0s 8ms/step - loss: 0.8679 - val_loss: 0.8574 - _timestamp: 1670377669.0000 - _runtime: 26.0000\n",
      "Epoch 33/78\n",
      "10/10 [==============================] - 0s 13ms/step - loss: 0.9341 - val_loss: 0.8037 - _timestamp: 1670377669.0000 - _runtime: 26.0000\n",
      "Epoch 34/78\n",
      "10/10 [==============================] - 0s 37ms/step - loss: 0.8491 - val_loss: 0.7505 - _timestamp: 1670377669.0000 - _runtime: 26.0000\n",
      "Epoch 35/78\n",
      "10/10 [==============================] - 0s 37ms/step - loss: 0.8021 - val_loss: 0.7262 - _timestamp: 1670377670.0000 - _runtime: 27.0000\n",
      "Epoch 36/78\n",
      "10/10 [==============================] - 0s 18ms/step - loss: 0.9106 - val_loss: 0.7748 - _timestamp: 1670377670.0000 - _runtime: 27.0000\n",
      "Epoch 37/78\n",
      "10/10 [==============================] - 0s 15ms/step - loss: 0.8566 - val_loss: 0.7666 - _timestamp: 1670377670.0000 - _runtime: 27.0000\n",
      "Epoch 38/78\n",
      "10/10 [==============================] - 0s 27ms/step - loss: 0.7741 - val_loss: 0.7637 - _timestamp: 1670377670.0000 - _runtime: 27.0000\n",
      "Epoch 39/78\n",
      "10/10 [==============================] - 1s 42ms/step - loss: 0.7892 - val_loss: 0.7261 - _timestamp: 1670377671.0000 - _runtime: 28.0000\n",
      "Epoch 40/78\n",
      "10/10 [==============================] - 0s 23ms/step - loss: 0.8318 - val_loss: 0.6978 - _timestamp: 1670377671.0000 - _runtime: 28.0000\n",
      "Epoch 41/78\n",
      "10/10 [==============================] - 0s 44ms/step - loss: 0.7968 - val_loss: 0.6952 - _timestamp: 1670377671.0000 - _runtime: 28.0000\n",
      "Epoch 42/78\n",
      "10/10 [==============================] - 0s 23ms/step - loss: 0.9044 - val_loss: 0.7037 - _timestamp: 1670377672.0000 - _runtime: 29.0000\n",
      "Epoch 43/78\n",
      "10/10 [==============================] - 0s 17ms/step - loss: 1.0287 - val_loss: 0.7613 - _timestamp: 1670377672.0000 - _runtime: 29.0000\n",
      "Epoch 44/78\n",
      "10/10 [==============================] - 0s 18ms/step - loss: 0.9453 - val_loss: 0.7813 - _timestamp: 1670377672.0000 - _runtime: 29.0000\n",
      "Epoch 45/78\n",
      "10/10 [==============================] - 0s 15ms/step - loss: 1.0147 - val_loss: 0.9105 - _timestamp: 1670377672.0000 - _runtime: 29.0000\n",
      "Epoch 46/78\n",
      "10/10 [==============================] - 0s 17ms/step - loss: 0.9612 - val_loss: 0.8274 - _timestamp: 1670377672.0000 - _runtime: 29.0000\n",
      "Epoch 47/78\n",
      "10/10 [==============================] - 0s 17ms/step - loss: 0.8159 - val_loss: 0.7528 - _timestamp: 1670377673.0000 - _runtime: 30.0000\n",
      "Epoch 48/78\n",
      "10/10 [==============================] - 0s 13ms/step - loss: 0.8089 - val_loss: 0.8468 - _timestamp: 1670377673.0000 - _runtime: 30.0000\n",
      "Epoch 49/78\n",
      "10/10 [==============================] - 0s 10ms/step - loss: 0.7676 - val_loss: 0.7374 - _timestamp: 1670377673.0000 - _runtime: 30.0000\n",
      "Epoch 50/78\n",
      "10/10 [==============================] - 0s 19ms/step - loss: 0.7230 - val_loss: 0.6368 - _timestamp: 1670377673.0000 - _runtime: 30.0000\n",
      "Epoch 51/78\n",
      "10/10 [==============================] - 0s 19ms/step - loss: 0.6832 - val_loss: 0.6862 - _timestamp: 1670377673.0000 - _runtime: 30.0000\n",
      "Epoch 52/78\n",
      "10/10 [==============================] - 0s 8ms/step - loss: 0.7089 - val_loss: 0.7909 - _timestamp: 1670377673.0000 - _runtime: 30.0000\n",
      "Epoch 53/78\n",
      "10/10 [==============================] - 0s 22ms/step - loss: 0.7512 - val_loss: 0.5923 - _timestamp: 1670377673.0000 - _runtime: 30.0000\n",
      "Epoch 54/78\n",
      "10/10 [==============================] - 0s 15ms/step - loss: 0.7232 - val_loss: 0.7110 - _timestamp: 1670377674.0000 - _runtime: 31.0000\n",
      "Epoch 55/78\n",
      "10/10 [==============================] - 0s 11ms/step - loss: 0.7341 - val_loss: 0.7775 - _timestamp: 1670377674.0000 - _runtime: 31.0000\n",
      "Epoch 56/78\n",
      "10/10 [==============================] - 0s 11ms/step - loss: 0.7211 - val_loss: 0.7759 - _timestamp: 1670377674.0000 - _runtime: 31.0000\n",
      "Epoch 57/78\n",
      "10/10 [==============================] - 0s 10ms/step - loss: 0.7237 - val_loss: 0.5953 - _timestamp: 1670377674.0000 - _runtime: 31.0000\n",
      "Epoch 58/78\n",
      "10/10 [==============================] - 0s 10ms/step - loss: 0.6818 - val_loss: 0.6399 - _timestamp: 1670377674.0000 - _runtime: 31.0000\n",
      "Epoch 59/78\n",
      "10/10 [==============================] - 0s 9ms/step - loss: 0.8356 - val_loss: 0.6887 - _timestamp: 1670377674.0000 - _runtime: 31.0000\n",
      "Epoch 60/78\n",
      "10/10 [==============================] - 0s 12ms/step - loss: 0.7567 - val_loss: 0.8690 - _timestamp: 1670377674.0000 - _runtime: 31.0000\n",
      "Epoch 61/78\n",
      "10/10 [==============================] - 0s 23ms/step - loss: 0.8155 - val_loss: 0.6592 - _timestamp: 1670377675.0000 - _runtime: 32.0000\n",
      "Epoch 62/78\n",
      "10/10 [==============================] - 0s 39ms/step - loss: 0.8870 - val_loss: 0.8342 - _timestamp: 1670377675.0000 - _runtime: 32.0000\n",
      "Epoch 63/78\n",
      "10/10 [==============================] - 0s 15ms/step - loss: 0.7890 - val_loss: 0.9266 - _timestamp: 1670377675.0000 - _runtime: 32.0000\n",
      "Epoch 64/78\n",
      "10/10 [==============================] - 0s 15ms/step - loss: 0.8331 - val_loss: 0.9404 - _timestamp: 1670377675.0000 - _runtime: 32.0000\n",
      "Epoch 65/78\n",
      "10/10 [==============================] - 0s 9ms/step - loss: 0.8532 - val_loss: 0.7728 - _timestamp: 1670377675.0000 - _runtime: 32.0000\n",
      "Epoch 66/78\n",
      "10/10 [==============================] - 0s 12ms/step - loss: 0.8149 - val_loss: 0.6420 - _timestamp: 1670377675.0000 - _runtime: 32.0000\n",
      "Epoch 67/78\n",
      "10/10 [==============================] - 0s 12ms/step - loss: 0.6916 - val_loss: 0.6149 - _timestamp: 1670377676.0000 - _runtime: 33.0000\n",
      "Epoch 68/78\n",
      "10/10 [==============================] - 0s 8ms/step - loss: 0.6435 - val_loss: 0.6358 - _timestamp: 1670377676.0000 - _runtime: 33.0000\n",
      "Epoch 69/78\n",
      "10/10 [==============================] - 0s 14ms/step - loss: 0.6089 - val_loss: 0.6583 - _timestamp: 1670377676.0000 - _runtime: 33.0000\n",
      "Epoch 70/78\n",
      "10/10 [==============================] - 0s 8ms/step - loss: 0.7330 - val_loss: 0.6847 - _timestamp: 1670377676.0000 - _runtime: 33.0000\n",
      "Epoch 71/78\n",
      "10/10 [==============================] - 0s 10ms/step - loss: 0.6553 - val_loss: 0.7457 - _timestamp: 1670377676.0000 - _runtime: 33.0000\n",
      "Epoch 72/78\n",
      "10/10 [==============================] - 0s 10ms/step - loss: 0.7466 - val_loss: 0.6176 - _timestamp: 1670377676.0000 - _runtime: 33.0000\n",
      "Epoch 73/78\n",
      "10/10 [==============================] - 0s 10ms/step - loss: 0.7044 - val_loss: 0.6226 - _timestamp: 1670377676.0000 - _runtime: 33.0000\n",
      "Epoch 74/78\n",
      "10/10 [==============================] - 0s 8ms/step - loss: 0.8117 - val_loss: 0.6512 - _timestamp: 1670377676.0000 - _runtime: 33.0000\n",
      "Epoch 75/78\n",
      "10/10 [==============================] - 0s 8ms/step - loss: 0.9625 - val_loss: 0.7104 - _timestamp: 1670377676.0000 - _runtime: 33.0000\n",
      "Epoch 76/78\n",
      "10/10 [==============================] - 0s 12ms/step - loss: 0.8382 - val_loss: 1.2494 - _timestamp: 1670377676.0000 - _runtime: 33.0000\n",
      "Epoch 77/78\n",
      "10/10 [==============================] - 0s 7ms/step - loss: 0.8885 - val_loss: 1.2055 - _timestamp: 1670377677.0000 - _runtime: 34.0000\n",
      "Epoch 78/78\n",
      "10/10 [==============================] - 0s 8ms/step - loss: 0.9729 - val_loss: 0.8652 - _timestamp: 1670377677.0000 - _runtime: 34.0000\n"
     ]
    },
    {
     "data": {
      "text/html": [
       "Waiting for W&B process to finish... <strong style=\"color:green\">(success).</strong>"
      ],
      "text/plain": [
       "<IPython.core.display.HTML object>"
      ]
     },
     "metadata": {},
     "output_type": "display_data"
    },
    {
     "data": {
      "application/vnd.jupyter.widget-view+json": {
       "model_id": "374fdf70b82045a1a24404cb08249422",
       "version_major": 2,
       "version_minor": 0
      },
      "text/plain": [
       "VBox(children=(Label(value='0.644 MB of 0.644 MB uploaded (0.000 MB deduped)\\r'), FloatProgress(value=1.0, max…"
      ]
     },
     "metadata": {},
     "output_type": "display_data"
    },
    {
     "data": {
      "text/html": [
       "<style>\n",
       "    table.wandb td:nth-child(1) { padding: 0 10px; text-align: left ; width: auto;} td:nth-child(2) {text-align: left ; width: 100%}\n",
       "    .wandb-row { display: flex; flex-direction: row; flex-wrap: wrap; justify-content: flex-start; width: 100% }\n",
       "    .wandb-col { display: flex; flex-direction: column; flex-basis: 100%; flex: 1; padding: 10px; }\n",
       "    </style>\n",
       "<div class=\"wandb-row\"><div class=\"wandb-col\"><h3>Run history:</h3><br/><table class=\"wandb\"><tr><td>epoch</td><td>▁▁▁▁▂▂▂▂▂▃▃▃▃▃▃▄▄▄▄▄▅▅▅▅▅▅▆▆▆▆▆▇▇▇▇▇▇███</td></tr><tr><td>loss</td><td>▆█▂▁▁▁▁▁▁▁▁▁▁▁▁▁▁▁▁▁▁▁▁▁▁▁▁▁▁▁▁▁▁▁▁▁▁▁▁▁</td></tr><tr><td>val_loss</td><td>█▃▁▁▁▁▁▁▁▁▁▁▁▁▁▁▁▁▁▁▁▁▁▁▁▁▁▁▁▁▁▁▁▁▁▁▁▁▁▁</td></tr></table><br/></div><div class=\"wandb-col\"><h3>Run summary:</h3><br/><table class=\"wandb\"><tr><td>best_epoch</td><td>52</td></tr><tr><td>best_val_loss</td><td>0.59227</td></tr><tr><td>epoch</td><td>77</td></tr><tr><td>loss</td><td>0.97287</td></tr><tr><td>val_loss</td><td>0.86524</td></tr></table><br/></div></div>"
      ],
      "text/plain": [
       "<IPython.core.display.HTML object>"
      ]
     },
     "metadata": {},
     "output_type": "display_data"
    },
    {
     "data": {
      "text/html": [
       "Synced <strong style=\"color:#cdcd00\">ethereal-sweep-2</strong>: <a href=\"https://wandb.ai/ghirsch/Astro101_project_v4/runs/iudlo05j\" target=\"_blank\">https://wandb.ai/ghirsch/Astro101_project_v4/runs/iudlo05j</a><br/>Synced 6 W&B file(s), 1 media file(s), 0 artifact file(s) and 1 other file(s)"
      ],
      "text/plain": [
       "<IPython.core.display.HTML object>"
      ]
     },
     "metadata": {},
     "output_type": "display_data"
    },
    {
     "data": {
      "text/html": [
       "Find logs at: <code>./wandb/run-20221206_174723-iudlo05j/logs</code>"
      ],
      "text/plain": [
       "<IPython.core.display.HTML object>"
      ]
     },
     "metadata": {},
     "output_type": "display_data"
    },
    {
     "name": "stderr",
     "output_type": "stream",
     "text": [
      "\u001b[34m\u001b[1mwandb\u001b[0m: Agent Starting Run: tppbmmwj with config:\n",
      "\u001b[34m\u001b[1mwandb\u001b[0m: \tbatch_size: 64\n",
      "\u001b[34m\u001b[1mwandb\u001b[0m: \tdropout: 0.12052014709083868\n",
      "\u001b[34m\u001b[1mwandb\u001b[0m: \tepochs: 53\n",
      "\u001b[34m\u001b[1mwandb\u001b[0m: \tlearning_rate: 0.010235076213484906\n",
      "\u001b[34m\u001b[1mwandb\u001b[0m: \tsize_1: 195\n",
      "\u001b[34m\u001b[1mwandb\u001b[0m: \tsize_2: 67\n",
      "\u001b[34m\u001b[1mwandb\u001b[0m: \tsize_3: 192\n",
      "\u001b[34m\u001b[1mwandb\u001b[0m: \tsize_4: 99\n",
      "\u001b[34m\u001b[1mwandb\u001b[0m: \tsize_5: 223\n"
     ]
    },
    {
     "data": {
      "text/html": [
       "wandb version 0.13.6 is available!  To upgrade, please run:\n",
       " $ pip install wandb --upgrade"
      ],
      "text/plain": [
       "<IPython.core.display.HTML object>"
      ]
     },
     "metadata": {},
     "output_type": "display_data"
    },
    {
     "data": {
      "text/html": [
       "Tracking run with wandb version 0.12.20"
      ],
      "text/plain": [
       "<IPython.core.display.HTML object>"
      ]
     },
     "metadata": {},
     "output_type": "display_data"
    },
    {
     "data": {
      "text/html": [
       "Run data is saved locally in <code>/Users/morty/a101_comp/NN_Tutorial/NN_Tutorial_2/Graham-Data-Processing/nn_v0.0.1/wandb/run-20221206_174805-tppbmmwj</code>"
      ],
      "text/plain": [
       "<IPython.core.display.HTML object>"
      ]
     },
     "metadata": {},
     "output_type": "display_data"
    },
    {
     "data": {
      "text/html": [
       "Syncing run <strong><a href=\"https://wandb.ai/ghirsch/Astro101_project_v4/runs/tppbmmwj\" target=\"_blank\">confused-sweep-3</a></strong> to <a href=\"https://wandb.ai/ghirsch/Astro101_project_v4\" target=\"_blank\">Weights & Biases</a> (<a href=\"https://wandb.me/run\" target=\"_blank\">docs</a>)<br/>Sweep page:  <a href=\"https://wandb.ai/ghirsch/Astro101_project_v4/sweeps/9sbj5834\" target=\"_blank\">https://wandb.ai/ghirsch/Astro101_project_v4/sweeps/9sbj5834</a>"
      ],
      "text/plain": [
       "<IPython.core.display.HTML object>"
      ]
     },
     "metadata": {},
     "output_type": "display_data"
    },
    {
     "name": "stdout",
     "output_type": "stream",
     "text": [
      "Epoch 1/53\n",
      "15/15 [==============================] - 2s 35ms/step - loss: 2.5578 - val_loss: 1.7207 - _timestamp: 1670377708.0000 - _runtime: 23.0000\n",
      "Epoch 2/53\n",
      "15/15 [==============================] - 0s 17ms/step - loss: 1.5089 - val_loss: 1.2279 - _timestamp: 1670377708.0000 - _runtime: 23.0000\n",
      "Epoch 3/53\n",
      "15/15 [==============================] - 0s 22ms/step - loss: 1.1893 - val_loss: 0.9007 - _timestamp: 1670377709.0000 - _runtime: 24.0000\n",
      "Epoch 4/53\n",
      "15/15 [==============================] - 0s 9ms/step - loss: 0.9796 - val_loss: 0.9783 - _timestamp: 1670377709.0000 - _runtime: 24.0000\n",
      "Epoch 5/53\n",
      "15/15 [==============================] - 0s 12ms/step - loss: 1.1880 - val_loss: 1.1086 - _timestamp: 1670377709.0000 - _runtime: 24.0000\n",
      "Epoch 6/53\n",
      "15/15 [==============================] - 0s 14ms/step - loss: 1.0657 - val_loss: 0.8206 - _timestamp: 1670377709.0000 - _runtime: 24.0000\n",
      "Epoch 7/53\n",
      "15/15 [==============================] - 0s 16ms/step - loss: 0.8284 - val_loss: 0.7448 - _timestamp: 1670377710.0000 - _runtime: 25.0000\n",
      "Epoch 8/53\n",
      "15/15 [==============================] - 0s 11ms/step - loss: 0.8294 - val_loss: 0.7303 - _timestamp: 1670377710.0000 - _runtime: 25.0000\n",
      "Epoch 9/53\n",
      "15/15 [==============================] - 0s 9ms/step - loss: 0.8724 - val_loss: 0.7738 - _timestamp: 1670377710.0000 - _runtime: 25.0000\n",
      "Epoch 10/53\n",
      "15/15 [==============================] - 0s 23ms/step - loss: 0.7959 - val_loss: 0.6657 - _timestamp: 1670377710.0000 - _runtime: 25.0000\n",
      "Epoch 11/53\n",
      "15/15 [==============================] - 0s 9ms/step - loss: 0.7970 - val_loss: 0.9020 - _timestamp: 1670377710.0000 - _runtime: 25.0000\n",
      "Epoch 12/53\n",
      "15/15 [==============================] - 0s 9ms/step - loss: 0.8395 - val_loss: 0.7650 - _timestamp: 1670377711.0000 - _runtime: 26.0000\n",
      "Epoch 13/53\n",
      "15/15 [==============================] - 0s 16ms/step - loss: 0.7383 - val_loss: 0.6376 - _timestamp: 1670377711.0000 - _runtime: 26.0000\n",
      "Epoch 14/53\n",
      "15/15 [==============================] - 0s 9ms/step - loss: 0.7656 - val_loss: 0.9189 - _timestamp: 1670377711.0000 - _runtime: 26.0000\n",
      "Epoch 15/53\n",
      "15/15 [==============================] - 0s 10ms/step - loss: 0.7874 - val_loss: 0.7631 - _timestamp: 1670377711.0000 - _runtime: 26.0000\n",
      "Epoch 16/53\n",
      "15/15 [==============================] - 0s 12ms/step - loss: 0.6666 - val_loss: 0.6070 - _timestamp: 1670377711.0000 - _runtime: 26.0000\n",
      "Epoch 17/53\n",
      "15/15 [==============================] - 0s 12ms/step - loss: 0.7066 - val_loss: 0.6701 - _timestamp: 1670377711.0000 - _runtime: 26.0000\n",
      "Epoch 18/53\n",
      "15/15 [==============================] - 0s 6ms/step - loss: 0.7079 - val_loss: 0.6227 - _timestamp: 1670377712.0000 - _runtime: 27.0000\n",
      "Epoch 19/53\n",
      "15/15 [==============================] - 0s 13ms/step - loss: 0.7321 - val_loss: 0.6053 - _timestamp: 1670377712.0000 - _runtime: 27.0000\n",
      "Epoch 20/53\n",
      "15/15 [==============================] - 0s 7ms/step - loss: 0.6875 - val_loss: 0.6865 - _timestamp: 1670377712.0000 - _runtime: 27.0000\n",
      "Epoch 21/53\n",
      "15/15 [==============================] - 0s 8ms/step - loss: 0.6990 - val_loss: 0.6338 - _timestamp: 1670377712.0000 - _runtime: 27.0000\n",
      "Epoch 22/53\n",
      "15/15 [==============================] - 0s 11ms/step - loss: 0.6579 - val_loss: 0.5896 - _timestamp: 1670377712.0000 - _runtime: 27.0000\n",
      "Epoch 23/53\n",
      "15/15 [==============================] - 0s 12ms/step - loss: 0.7355 - val_loss: 0.6437 - _timestamp: 1670377712.0000 - _runtime: 27.0000\n",
      "Epoch 24/53\n",
      "15/15 [==============================] - 0s 11ms/step - loss: 0.8873 - val_loss: 0.7576 - _timestamp: 1670377712.0000 - _runtime: 27.0000\n",
      "Epoch 25/53\n",
      "15/15 [==============================] - 0s 10ms/step - loss: 0.7281 - val_loss: 0.5936 - _timestamp: 1670377713.0000 - _runtime: 28.0000\n",
      "Epoch 26/53\n",
      "15/15 [==============================] - 0s 35ms/step - loss: 0.6775 - val_loss: 0.5467 - _timestamp: 1670377713.0000 - _runtime: 28.0000\n",
      "Epoch 27/53\n",
      "15/15 [==============================] - 0s 11ms/step - loss: 0.7467 - val_loss: 0.7187 - _timestamp: 1670377713.0000 - _runtime: 28.0000\n",
      "Epoch 28/53\n",
      "15/15 [==============================] - 0s 7ms/step - loss: 0.8724 - val_loss: 0.7750 - _timestamp: 1670377713.0000 - _runtime: 28.0000\n",
      "Epoch 29/53\n",
      "15/15 [==============================] - 0s 8ms/step - loss: 0.8482 - val_loss: 1.0169 - _timestamp: 1670377714.0000 - _runtime: 29.0000\n",
      "Epoch 30/53\n",
      "15/15 [==============================] - 0s 7ms/step - loss: 0.8603 - val_loss: 0.6246 - _timestamp: 1670377714.0000 - _runtime: 29.0000\n",
      "Epoch 31/53\n",
      "15/15 [==============================] - 0s 7ms/step - loss: 0.7365 - val_loss: 0.6907 - _timestamp: 1670377714.0000 - _runtime: 29.0000\n",
      "Epoch 32/53\n",
      "15/15 [==============================] - 0s 10ms/step - loss: 0.6153 - val_loss: 0.6376 - _timestamp: 1670377714.0000 - _runtime: 29.0000\n",
      "Epoch 33/53\n",
      "15/15 [==============================] - 0s 12ms/step - loss: 0.6561 - val_loss: 0.5921 - _timestamp: 1670377714.0000 - _runtime: 29.0000\n",
      "Epoch 34/53\n",
      "15/15 [==============================] - 0s 12ms/step - loss: 0.6332 - val_loss: 0.5807 - _timestamp: 1670377714.0000 - _runtime: 29.0000\n",
      "Epoch 35/53\n",
      "15/15 [==============================] - 0s 20ms/step - loss: 0.6703 - val_loss: 0.5857 - _timestamp: 1670377715.0000 - _runtime: 30.0000\n",
      "Epoch 36/53\n",
      "15/15 [==============================] - 0s 16ms/step - loss: 0.6508 - val_loss: 0.6115 - _timestamp: 1670377715.0000 - _runtime: 30.0000\n",
      "Epoch 37/53\n",
      "15/15 [==============================] - 0s 18ms/step - loss: 0.6894 - val_loss: 0.6761 - _timestamp: 1670377715.0000 - _runtime: 30.0000\n",
      "Epoch 38/53\n",
      "15/15 [==============================] - 0s 15ms/step - loss: 0.7876 - val_loss: 0.6050 - _timestamp: 1670377715.0000 - _runtime: 30.0000\n",
      "Epoch 39/53\n",
      "15/15 [==============================] - 0s 16ms/step - loss: 0.6050 - val_loss: 0.7376 - _timestamp: 1670377716.0000 - _runtime: 31.0000\n",
      "Epoch 40/53\n",
      "15/15 [==============================] - 0s 31ms/step - loss: 0.6538 - val_loss: 0.5110 - _timestamp: 1670377716.0000 - _runtime: 31.0000\n",
      "Epoch 41/53\n",
      "15/15 [==============================] - 0s 27ms/step - loss: 0.5616 - val_loss: 0.4916 - _timestamp: 1670377716.0000 - _runtime: 31.0000\n",
      "Epoch 42/53\n",
      "15/15 [==============================] - 0s 22ms/step - loss: 0.5932 - val_loss: 0.6106 - _timestamp: 1670377717.0000 - _runtime: 32.0000\n",
      "Epoch 43/53\n",
      "15/15 [==============================] - 0s 16ms/step - loss: 0.6548 - val_loss: 0.6618 - _timestamp: 1670377717.0000 - _runtime: 32.0000\n",
      "Epoch 44/53\n",
      "15/15 [==============================] - 0s 14ms/step - loss: 0.6319 - val_loss: 0.7461 - _timestamp: 1670377717.0000 - _runtime: 32.0000\n",
      "Epoch 45/53\n",
      "15/15 [==============================] - 0s 20ms/step - loss: 0.7102 - val_loss: 0.5426 - _timestamp: 1670377717.0000 - _runtime: 32.0000\n",
      "Epoch 46/53\n",
      "15/15 [==============================] - 0s 16ms/step - loss: 0.6538 - val_loss: 0.6026 - _timestamp: 1670377718.0000 - _runtime: 33.0000\n",
      "Epoch 47/53\n",
      "15/15 [==============================] - 0s 22ms/step - loss: 0.5975 - val_loss: 0.5246 - _timestamp: 1670377718.0000 - _runtime: 33.0000\n",
      "Epoch 48/53\n",
      "15/15 [==============================] - 0s 14ms/step - loss: 0.5639 - val_loss: 0.5508 - _timestamp: 1670377718.0000 - _runtime: 33.0000\n",
      "Epoch 49/53\n",
      "15/15 [==============================] - 0s 16ms/step - loss: 0.6038 - val_loss: 0.6367 - _timestamp: 1670377718.0000 - _runtime: 33.0000\n",
      "Epoch 50/53\n",
      "15/15 [==============================] - 0s 12ms/step - loss: 0.6081 - val_loss: 0.5629 - _timestamp: 1670377719.0000 - _runtime: 34.0000\n",
      "Epoch 51/53\n",
      "15/15 [==============================] - 0s 15ms/step - loss: 0.6775 - val_loss: 0.5203 - _timestamp: 1670377719.0000 - _runtime: 34.0000\n",
      "Epoch 52/53\n",
      "15/15 [==============================] - 0s 18ms/step - loss: 0.5775 - val_loss: 0.5000 - _timestamp: 1670377719.0000 - _runtime: 34.0000\n",
      "Epoch 53/53\n",
      "15/15 [==============================] - 0s 14ms/step - loss: 0.5603 - val_loss: 0.5659 - _timestamp: 1670377719.0000 - _runtime: 34.0000\n"
     ]
    },
    {
     "data": {
      "text/html": [
       "Waiting for W&B process to finish... <strong style=\"color:green\">(success).</strong>"
      ],
      "text/plain": [
       "<IPython.core.display.HTML object>"
      ]
     },
     "metadata": {},
     "output_type": "display_data"
    },
    {
     "data": {
      "application/vnd.jupyter.widget-view+json": {
       "model_id": "a4cee8253f06498294089923310d357d",
       "version_major": 2,
       "version_minor": 0
      },
      "text/plain": [
       "VBox(children=(Label(value='0.884 MB of 0.884 MB uploaded (0.000 MB deduped)\\r'), FloatProgress(value=1.0, max…"
      ]
     },
     "metadata": {},
     "output_type": "display_data"
    },
    {
     "data": {
      "text/html": [
       "<style>\n",
       "    table.wandb td:nth-child(1) { padding: 0 10px; text-align: left ; width: auto;} td:nth-child(2) {text-align: left ; width: 100%}\n",
       "    .wandb-row { display: flex; flex-direction: row; flex-wrap: wrap; justify-content: flex-start; width: 100% }\n",
       "    .wandb-col { display: flex; flex-direction: column; flex-basis: 100%; flex: 1; padding: 10px; }\n",
       "    </style>\n",
       "<div class=\"wandb-row\"><div class=\"wandb-col\"><h3>Run history:</h3><br/><table class=\"wandb\"><tr><td>epoch</td><td>▁▁▁▂▂▂▂▂▂▃▃▃▃▃▃▄▄▄▄▄▅▅▅▅▅▅▆▆▆▆▆▇▇▇▇▇▇███</td></tr><tr><td>loss</td><td>█▄▃▃▃▂▂▂▂▂▂▂▂▂▂▁▁▂▂▁▂▂▂▂▁▁▁▁▂▁▁▁▁▂▁▁▁▁▁▁</td></tr><tr><td>val_loss</td><td>█▅▃▅▃▂▃▂▃▂▃▃▂▂▂▂▂▂▂▁▂▄▂▂▂▂▂▂▂▂▁▂▂▁▂▁▂▁▁▁</td></tr></table><br/></div><div class=\"wandb-col\"><h3>Run summary:</h3><br/><table class=\"wandb\"><tr><td>best_epoch</td><td>40</td></tr><tr><td>best_val_loss</td><td>0.49162</td></tr><tr><td>epoch</td><td>52</td></tr><tr><td>loss</td><td>0.56033</td></tr><tr><td>val_loss</td><td>0.56589</td></tr></table><br/></div></div>"
      ],
      "text/plain": [
       "<IPython.core.display.HTML object>"
      ]
     },
     "metadata": {},
     "output_type": "display_data"
    },
    {
     "data": {
      "text/html": [
       "Synced <strong style=\"color:#cdcd00\">confused-sweep-3</strong>: <a href=\"https://wandb.ai/ghirsch/Astro101_project_v4/runs/tppbmmwj\" target=\"_blank\">https://wandb.ai/ghirsch/Astro101_project_v4/runs/tppbmmwj</a><br/>Synced 6 W&B file(s), 1 media file(s), 0 artifact file(s) and 1 other file(s)"
      ],
      "text/plain": [
       "<IPython.core.display.HTML object>"
      ]
     },
     "metadata": {},
     "output_type": "display_data"
    },
    {
     "data": {
      "text/html": [
       "Find logs at: <code>./wandb/run-20221206_174805-tppbmmwj/logs</code>"
      ],
      "text/plain": [
       "<IPython.core.display.HTML object>"
      ]
     },
     "metadata": {},
     "output_type": "display_data"
    },
    {
     "name": "stderr",
     "output_type": "stream",
     "text": [
      "\u001b[34m\u001b[1mwandb\u001b[0m: Agent Starting Run: hlcxju4n with config:\n",
      "\u001b[34m\u001b[1mwandb\u001b[0m: \tbatch_size: 96\n",
      "\u001b[34m\u001b[1mwandb\u001b[0m: \tdropout: 0.4370742634106684\n",
      "\u001b[34m\u001b[1mwandb\u001b[0m: \tepochs: 74\n",
      "\u001b[34m\u001b[1mwandb\u001b[0m: \tlearning_rate: 0.03901768528433113\n",
      "\u001b[34m\u001b[1mwandb\u001b[0m: \tsize_1: 156\n",
      "\u001b[34m\u001b[1mwandb\u001b[0m: \tsize_2: 249\n",
      "\u001b[34m\u001b[1mwandb\u001b[0m: \tsize_3: 182\n",
      "\u001b[34m\u001b[1mwandb\u001b[0m: \tsize_4: 195\n",
      "\u001b[34m\u001b[1mwandb\u001b[0m: \tsize_5: 158\n",
      "wandb: ERROR Dropped streaming file chunk (see wandb/debug-internal.log)\n",
      "ERROR:root:dropped chunk 404 Client Error: Not Found for url: https://api.wandb.ai/files/ghirsch/Astro101_project_v4/37woihe7/file_stream\n",
      "NoneType: None\n"
     ]
    },
    {
     "data": {
      "text/html": [
       "wandb version 0.13.6 is available!  To upgrade, please run:\n",
       " $ pip install wandb --upgrade"
      ],
      "text/plain": [
       "<IPython.core.display.HTML object>"
      ]
     },
     "metadata": {},
     "output_type": "display_data"
    },
    {
     "data": {
      "text/html": [
       "Tracking run with wandb version 0.12.20"
      ],
      "text/plain": [
       "<IPython.core.display.HTML object>"
      ]
     },
     "metadata": {},
     "output_type": "display_data"
    },
    {
     "data": {
      "text/html": [
       "Run data is saved locally in <code>/Users/morty/a101_comp/NN_Tutorial/NN_Tutorial_2/Graham-Data-Processing/nn_v0.0.1/wandb/run-20221206_174846-hlcxju4n</code>"
      ],
      "text/plain": [
       "<IPython.core.display.HTML object>"
      ]
     },
     "metadata": {},
     "output_type": "display_data"
    },
    {
     "data": {
      "text/html": [
       "Syncing run <strong><a href=\"https://wandb.ai/ghirsch/Astro101_project_v4/runs/hlcxju4n\" target=\"_blank\">polar-sweep-4</a></strong> to <a href=\"https://wandb.ai/ghirsch/Astro101_project_v4\" target=\"_blank\">Weights & Biases</a> (<a href=\"https://wandb.me/run\" target=\"_blank\">docs</a>)<br/>Sweep page:  <a href=\"https://wandb.ai/ghirsch/Astro101_project_v4/sweeps/9sbj5834\" target=\"_blank\">https://wandb.ai/ghirsch/Astro101_project_v4/sweeps/9sbj5834</a>"
      ],
      "text/plain": [
       "<IPython.core.display.HTML object>"
      ]
     },
     "metadata": {},
     "output_type": "display_data"
    },
    {
     "name": "stdout",
     "output_type": "stream",
     "text": [
      "Epoch 1/74\n",
      "10/10 [==============================] - 1s 29ms/step - loss: 837.3395 - val_loss: 498.6943 - _timestamp: 1670377748.0000 - _runtime: 22.0000\n",
      "Epoch 2/74\n",
      "10/10 [==============================] - 0s 13ms/step - loss: 677.4933 - val_loss: 324.4294 - _timestamp: 1670377748.0000 - _runtime: 22.0000\n",
      "Epoch 3/74\n",
      "10/10 [==============================] - 0s 11ms/step - loss: 132.5145 - val_loss: 107.3276 - _timestamp: 1670377748.0000 - _runtime: 22.0000\n",
      "Epoch 4/74\n",
      "10/10 [==============================] - 0s 11ms/step - loss: 66.0106 - val_loss: 32.4805 - _timestamp: 1670377748.0000 - _runtime: 22.0000\n",
      "Epoch 5/74\n",
      "10/10 [==============================] - 0s 13ms/step - loss: 19.0994 - val_loss: 5.1194 - _timestamp: 1670377748.0000 - _runtime: 22.0000\n",
      "Epoch 6/74\n",
      "10/10 [==============================] - 0s 11ms/step - loss: 7.7909 - val_loss: 3.5991 - _timestamp: 1670377748.0000 - _runtime: 22.0000\n",
      "Epoch 7/74\n",
      "10/10 [==============================] - 0s 12ms/step - loss: 3.9495 - val_loss: 2.0109 - _timestamp: 1670377748.0000 - _runtime: 22.0000\n",
      "Epoch 8/74\n",
      "10/10 [==============================] - 0s 11ms/step - loss: 2.9503 - val_loss: 1.5872 - _timestamp: 1670377749.0000 - _runtime: 23.0000\n",
      "Epoch 9/74\n",
      "10/10 [==============================] - 0s 11ms/step - loss: 2.0217 - val_loss: 0.8097 - _timestamp: 1670377749.0000 - _runtime: 23.0000\n",
      "Epoch 10/74\n",
      "10/10 [==============================] - 0s 13ms/step - loss: 1.5537 - val_loss: 0.7622 - _timestamp: 1670377749.0000 - _runtime: 23.0000\n",
      "Epoch 11/74\n",
      "10/10 [==============================] - 0s 15ms/step - loss: 1.0781 - val_loss: 0.6564 - _timestamp: 1670377749.0000 - _runtime: 23.0000\n",
      "Epoch 12/74\n",
      "10/10 [==============================] - 0s 7ms/step - loss: 0.9192 - val_loss: 0.6655 - _timestamp: 1670377749.0000 - _runtime: 23.0000\n",
      "Epoch 13/74\n",
      "10/10 [==============================] - 0s 11ms/step - loss: 0.8920 - val_loss: 0.5905 - _timestamp: 1670377749.0000 - _runtime: 23.0000\n",
      "Epoch 14/74\n",
      "10/10 [==============================] - 0s 7ms/step - loss: 0.8439 - val_loss: 0.6654 - _timestamp: 1670377749.0000 - _runtime: 23.0000\n",
      "Epoch 15/74\n",
      "10/10 [==============================] - 0s 13ms/step - loss: 0.7246 - val_loss: 0.5386 - _timestamp: 1670377749.0000 - _runtime: 23.0000\n",
      "Epoch 16/74\n",
      "10/10 [==============================] - 0s 5ms/step - loss: 0.7093 - val_loss: 0.6772 - _timestamp: 1670377749.0000 - _runtime: 23.0000\n",
      "Epoch 17/74\n",
      "10/10 [==============================] - 0s 6ms/step - loss: 0.7611 - val_loss: 0.5584 - _timestamp: 1670377749.0000 - _runtime: 23.0000\n",
      "Epoch 18/74\n",
      "10/10 [==============================] - 0s 6ms/step - loss: 0.7139 - val_loss: 0.6496 - _timestamp: 1670377750.0000 - _runtime: 24.0000\n",
      "Epoch 19/74\n",
      "10/10 [==============================] - 0s 6ms/step - loss: 0.6772 - val_loss: 0.5399 - _timestamp: 1670377750.0000 - _runtime: 24.0000\n",
      "Epoch 20/74\n",
      "10/10 [==============================] - 0s 11ms/step - loss: 0.6509 - val_loss: 0.5176 - _timestamp: 1670377750.0000 - _runtime: 24.0000\n",
      "Epoch 21/74\n",
      "10/10 [==============================] - 0s 6ms/step - loss: 0.6662 - val_loss: 0.5560 - _timestamp: 1670377750.0000 - _runtime: 24.0000\n",
      "Epoch 22/74\n",
      "10/10 [==============================] - 0s 6ms/step - loss: 0.6594 - val_loss: 0.5404 - _timestamp: 1670377750.0000 - _runtime: 24.0000\n",
      "Epoch 23/74\n",
      "10/10 [==============================] - 0s 6ms/step - loss: 0.6744 - val_loss: 0.5675 - _timestamp: 1670377750.0000 - _runtime: 24.0000\n",
      "Epoch 24/74\n",
      "10/10 [==============================] - 0s 11ms/step - loss: 0.6916 - val_loss: 0.5175 - _timestamp: 1670377750.0000 - _runtime: 24.0000\n",
      "Epoch 25/74\n",
      "10/10 [==============================] - 0s 6ms/step - loss: 0.6574 - val_loss: 0.5552 - _timestamp: 1670377750.0000 - _runtime: 24.0000\n",
      "Epoch 26/74\n",
      "10/10 [==============================] - 0s 6ms/step - loss: 0.6319 - val_loss: 0.5642 - _timestamp: 1670377750.0000 - _runtime: 24.0000\n",
      "Epoch 27/74\n",
      "10/10 [==============================] - 0s 21ms/step - loss: 0.6172 - val_loss: 0.5093 - _timestamp: 1670377750.0000 - _runtime: 24.0000\n",
      "Epoch 28/74\n",
      "10/10 [==============================] - 0s 12ms/step - loss: 0.6161 - val_loss: 0.4988 - _timestamp: 1670377750.0000 - _runtime: 24.0000\n",
      "Epoch 29/74\n",
      "10/10 [==============================] - 0s 6ms/step - loss: 0.5981 - val_loss: 0.5143 - _timestamp: 1670377750.0000 - _runtime: 24.0000\n",
      "Epoch 30/74\n",
      "10/10 [==============================] - 0s 6ms/step - loss: 0.6064 - val_loss: 0.5343 - _timestamp: 1670377751.0000 - _runtime: 25.0000\n",
      "Epoch 31/74\n",
      "10/10 [==============================] - 0s 6ms/step - loss: 0.6356 - val_loss: 0.5338 - _timestamp: 1670377751.0000 - _runtime: 25.0000\n",
      "Epoch 32/74\n",
      "10/10 [==============================] - 0s 11ms/step - loss: 0.6469 - val_loss: 0.4956 - _timestamp: 1670377751.0000 - _runtime: 25.0000\n",
      "Epoch 33/74\n",
      "10/10 [==============================] - 0s 7ms/step - loss: 0.6047 - val_loss: 0.5054 - _timestamp: 1670377751.0000 - _runtime: 25.0000\n",
      "Epoch 34/74\n",
      "10/10 [==============================] - 0s 11ms/step - loss: 0.5825 - val_loss: 0.4834 - _timestamp: 1670377751.0000 - _runtime: 25.0000\n",
      "Epoch 35/74\n",
      "10/10 [==============================] - 0s 6ms/step - loss: 0.5812 - val_loss: 0.5412 - _timestamp: 1670377751.0000 - _runtime: 25.0000\n",
      "Epoch 36/74\n",
      "10/10 [==============================] - 0s 11ms/step - loss: 0.6142 - val_loss: 0.4798 - _timestamp: 1670377751.0000 - _runtime: 25.0000\n",
      "Epoch 37/74\n",
      "10/10 [==============================] - 0s 9ms/step - loss: 0.5984 - val_loss: 0.4893 - _timestamp: 1670377751.0000 - _runtime: 25.0000\n",
      "Epoch 38/74\n",
      "10/10 [==============================] - 0s 6ms/step - loss: 0.5623 - val_loss: 0.5009 - _timestamp: 1670377751.0000 - _runtime: 25.0000\n",
      "Epoch 39/74\n",
      "10/10 [==============================] - 0s 6ms/step - loss: 0.5991 - val_loss: 0.5580 - _timestamp: 1670377751.0000 - _runtime: 25.0000\n",
      "Epoch 40/74\n",
      "10/10 [==============================] - 0s 6ms/step - loss: 0.6334 - val_loss: 0.5001 - _timestamp: 1670377751.0000 - _runtime: 25.0000\n",
      "Epoch 41/74\n",
      "10/10 [==============================] - 0s 6ms/step - loss: 0.5835 - val_loss: 0.5431 - _timestamp: 1670377751.0000 - _runtime: 25.0000\n",
      "Epoch 42/74\n",
      "10/10 [==============================] - 0s 6ms/step - loss: 0.6191 - val_loss: 0.5165 - _timestamp: 1670377751.0000 - _runtime: 25.0000\n",
      "Epoch 43/74\n",
      "10/10 [==============================] - 0s 6ms/step - loss: 0.6108 - val_loss: 0.4930 - _timestamp: 1670377751.0000 - _runtime: 25.0000\n",
      "Epoch 44/74\n",
      "10/10 [==============================] - 0s 6ms/step - loss: 0.5880 - val_loss: 0.4804 - _timestamp: 1670377752.0000 - _runtime: 26.0000\n",
      "Epoch 45/74\n",
      "10/10 [==============================] - 0s 6ms/step - loss: 0.5372 - val_loss: 0.4867 - _timestamp: 1670377752.0000 - _runtime: 26.0000\n",
      "Epoch 46/74\n",
      "10/10 [==============================] - 0s 11ms/step - loss: 0.6018 - val_loss: 0.4691 - _timestamp: 1670377752.0000 - _runtime: 26.0000\n",
      "Epoch 47/74\n",
      "10/10 [==============================] - 0s 6ms/step - loss: 0.5556 - val_loss: 0.5183 - _timestamp: 1670377752.0000 - _runtime: 26.0000\n",
      "Epoch 48/74\n",
      "10/10 [==============================] - 0s 11ms/step - loss: 0.5869 - val_loss: 0.4662 - _timestamp: 1670377752.0000 - _runtime: 26.0000\n",
      "Epoch 49/74\n",
      "10/10 [==============================] - 0s 6ms/step - loss: 0.5973 - val_loss: 0.5400 - _timestamp: 1670377752.0000 - _runtime: 26.0000\n",
      "Epoch 50/74\n",
      "10/10 [==============================] - 0s 6ms/step - loss: 0.6082 - val_loss: 0.4939 - _timestamp: 1670377752.0000 - _runtime: 26.0000\n",
      "Epoch 51/74\n",
      "10/10 [==============================] - 0s 10ms/step - loss: 0.5697 - val_loss: 0.4615 - _timestamp: 1670377752.0000 - _runtime: 26.0000\n",
      "Epoch 52/74\n",
      "10/10 [==============================] - 0s 11ms/step - loss: 0.6123 - val_loss: 0.4488 - _timestamp: 1670377752.0000 - _runtime: 26.0000\n",
      "Epoch 53/74\n",
      "10/10 [==============================] - 0s 6ms/step - loss: 0.5425 - val_loss: 0.4802 - _timestamp: 1670377752.0000 - _runtime: 26.0000\n",
      "Epoch 54/74\n",
      "10/10 [==============================] - 0s 6ms/step - loss: 0.5457 - val_loss: 0.4646 - _timestamp: 1670377752.0000 - _runtime: 26.0000\n",
      "Epoch 55/74\n",
      "10/10 [==============================] - 0s 6ms/step - loss: 0.5701 - val_loss: 0.4824 - _timestamp: 1670377752.0000 - _runtime: 26.0000\n",
      "Epoch 56/74\n",
      "10/10 [==============================] - 0s 7ms/step - loss: 0.5666 - val_loss: 0.5234 - _timestamp: 1670377752.0000 - _runtime: 26.0000\n",
      "Epoch 57/74\n",
      "10/10 [==============================] - 0s 6ms/step - loss: 0.6189 - val_loss: 0.5291 - _timestamp: 1670377752.0000 - _runtime: 26.0000\n",
      "Epoch 58/74\n",
      "10/10 [==============================] - 0s 7ms/step - loss: 0.6918 - val_loss: 0.5644 - _timestamp: 1670377753.0000 - _runtime: 27.0000\n",
      "Epoch 59/74\n",
      "10/10 [==============================] - 0s 6ms/step - loss: 0.6897 - val_loss: 0.5681 - _timestamp: 1670377753.0000 - _runtime: 27.0000\n",
      "Epoch 60/74\n",
      "10/10 [==============================] - 0s 6ms/step - loss: 0.5826 - val_loss: 0.5149 - _timestamp: 1670377753.0000 - _runtime: 27.0000\n",
      "Epoch 61/74\n",
      "10/10 [==============================] - 0s 6ms/step - loss: 0.5530 - val_loss: 0.4813 - _timestamp: 1670377753.0000 - _runtime: 27.0000\n",
      "Epoch 62/74\n",
      "10/10 [==============================] - 0s 6ms/step - loss: 0.5685 - val_loss: 0.4898 - _timestamp: 1670377753.0000 - _runtime: 27.0000\n",
      "Epoch 63/74\n",
      "10/10 [==============================] - 0s 6ms/step - loss: 0.5366 - val_loss: 0.4976 - _timestamp: 1670377753.0000 - _runtime: 27.0000\n",
      "Epoch 64/74\n",
      "10/10 [==============================] - 0s 6ms/step - loss: 0.5952 - val_loss: 0.5027 - _timestamp: 1670377753.0000 - _runtime: 27.0000\n",
      "Epoch 65/74\n",
      "10/10 [==============================] - 0s 6ms/step - loss: 0.5757 - val_loss: 0.4755 - _timestamp: 1670377753.0000 - _runtime: 27.0000\n",
      "Epoch 66/74\n",
      "10/10 [==============================] - 0s 11ms/step - loss: 0.5679 - val_loss: 0.4385 - _timestamp: 1670377753.0000 - _runtime: 27.0000\n",
      "Epoch 67/74\n",
      "10/10 [==============================] - 0s 6ms/step - loss: 0.5504 - val_loss: 0.4846 - _timestamp: 1670377753.0000 - _runtime: 27.0000\n",
      "Epoch 68/74\n",
      "10/10 [==============================] - 0s 6ms/step - loss: 0.5653 - val_loss: 0.4938 - _timestamp: 1670377753.0000 - _runtime: 27.0000\n",
      "Epoch 69/74\n",
      "10/10 [==============================] - 0s 6ms/step - loss: 0.6299 - val_loss: 0.4794 - _timestamp: 1670377753.0000 - _runtime: 27.0000\n",
      "Epoch 70/74\n",
      "10/10 [==============================] - 0s 6ms/step - loss: 0.5658 - val_loss: 0.4606 - _timestamp: 1670377753.0000 - _runtime: 27.0000\n",
      "Epoch 71/74\n",
      "10/10 [==============================] - 0s 6ms/step - loss: 0.5500 - val_loss: 0.4544 - _timestamp: 1670377753.0000 - _runtime: 27.0000\n",
      "Epoch 72/74\n",
      "10/10 [==============================] - 0s 7ms/step - loss: 0.5448 - val_loss: 0.4823 - _timestamp: 1670377753.0000 - _runtime: 27.0000\n",
      "Epoch 73/74\n",
      "10/10 [==============================] - 0s 6ms/step - loss: 0.5622 - val_loss: 0.4704 - _timestamp: 1670377753.0000 - _runtime: 27.0000\n",
      "Epoch 74/74\n",
      "10/10 [==============================] - 0s 6ms/step - loss: 0.6113 - val_loss: 0.5694 - _timestamp: 1670377754.0000 - _runtime: 28.0000\n"
     ]
    },
    {
     "data": {
      "text/html": [
       "Waiting for W&B process to finish... <strong style=\"color:green\">(success).</strong>"
      ],
      "text/plain": [
       "<IPython.core.display.HTML object>"
      ]
     },
     "metadata": {},
     "output_type": "display_data"
    },
    {
     "data": {
      "application/vnd.jupyter.widget-view+json": {
       "model_id": "17d939fee2ea407b8ad57c9adf2f5c65",
       "version_major": 2,
       "version_minor": 0
      },
      "text/plain": [
       "VBox(children=(Label(value='1.248 MB of 1.248 MB uploaded (0.000 MB deduped)\\r'), FloatProgress(value=1.0, max…"
      ]
     },
     "metadata": {},
     "output_type": "display_data"
    },
    {
     "name": "stderr",
     "output_type": "stream",
     "text": [
      "wandb: ERROR Dropped streaming file chunk (see wandb/debug-internal.log)\n",
      "ERROR:root:dropped chunk 404 Client Error: Not Found for url: https://api.wandb.ai/files/ghirsch/Astro101_project_v4/37woihe7/file_stream\n",
      "NoneType: None\n"
     ]
    },
    {
     "data": {
      "text/html": [
       "<style>\n",
       "    table.wandb td:nth-child(1) { padding: 0 10px; text-align: left ; width: auto;} td:nth-child(2) {text-align: left ; width: 100%}\n",
       "    .wandb-row { display: flex; flex-direction: row; flex-wrap: wrap; justify-content: flex-start; width: 100% }\n",
       "    .wandb-col { display: flex; flex-direction: column; flex-basis: 100%; flex: 1; padding: 10px; }\n",
       "    </style>\n",
       "<div class=\"wandb-row\"><div class=\"wandb-col\"><h3>Run history:</h3><br/><table class=\"wandb\"><tr><td>epoch</td><td>▁▁▁▁▂▂▂▂▂▃▃▃▃▃▃▄▄▄▄▄▅▅▅▅▅▅▆▆▆▆▆▇▇▇▇▇▇███</td></tr><tr><td>loss</td><td>█▇▂▁▁▁▁▁▁▁▁▁▁▁▁▁▁▁▁▁▁▁▁▁▁▁▁▁▁▁▁▁▁▁▁▁▁▁▁▁</td></tr><tr><td>val_loss</td><td>█▆▁▁▁▁▁▁▁▁▁▁▁▁▁▁▁▁▁▁▁▁▁▁▁▁▁▁▁▁▁▁▁▁▁▁▁▁▁▁</td></tr></table><br/></div><div class=\"wandb-col\"><h3>Run summary:</h3><br/><table class=\"wandb\"><tr><td>best_epoch</td><td>65</td></tr><tr><td>best_val_loss</td><td>0.43852</td></tr><tr><td>epoch</td><td>73</td></tr><tr><td>loss</td><td>0.61126</td></tr><tr><td>val_loss</td><td>0.56937</td></tr></table><br/></div></div>"
      ],
      "text/plain": [
       "<IPython.core.display.HTML object>"
      ]
     },
     "metadata": {},
     "output_type": "display_data"
    },
    {
     "data": {
      "text/html": [
       "Synced <strong style=\"color:#cdcd00\">polar-sweep-4</strong>: <a href=\"https://wandb.ai/ghirsch/Astro101_project_v4/runs/hlcxju4n\" target=\"_blank\">https://wandb.ai/ghirsch/Astro101_project_v4/runs/hlcxju4n</a><br/>Synced 6 W&B file(s), 1 media file(s), 0 artifact file(s) and 1 other file(s)"
      ],
      "text/plain": [
       "<IPython.core.display.HTML object>"
      ]
     },
     "metadata": {},
     "output_type": "display_data"
    },
    {
     "data": {
      "text/html": [
       "Find logs at: <code>./wandb/run-20221206_174846-hlcxju4n/logs</code>"
      ],
      "text/plain": [
       "<IPython.core.display.HTML object>"
      ]
     },
     "metadata": {},
     "output_type": "display_data"
    },
    {
     "name": "stderr",
     "output_type": "stream",
     "text": [
      "\u001b[34m\u001b[1mwandb\u001b[0m: Agent Starting Run: 7aghkcg4 with config:\n",
      "\u001b[34m\u001b[1mwandb\u001b[0m: \tbatch_size: 32\n",
      "\u001b[34m\u001b[1mwandb\u001b[0m: \tdropout: 0.5737769462086205\n",
      "\u001b[34m\u001b[1mwandb\u001b[0m: \tepochs: 69\n",
      "\u001b[34m\u001b[1mwandb\u001b[0m: \tlearning_rate: 0.057455589473617875\n",
      "\u001b[34m\u001b[1mwandb\u001b[0m: \tsize_1: 252\n",
      "\u001b[34m\u001b[1mwandb\u001b[0m: \tsize_2: 236\n",
      "\u001b[34m\u001b[1mwandb\u001b[0m: \tsize_3: 73\n",
      "\u001b[34m\u001b[1mwandb\u001b[0m: \tsize_4: 108\n",
      "\u001b[34m\u001b[1mwandb\u001b[0m: \tsize_5: 79\n"
     ]
    },
    {
     "data": {
      "text/html": [
       "wandb version 0.13.6 is available!  To upgrade, please run:\n",
       " $ pip install wandb --upgrade"
      ],
      "text/plain": [
       "<IPython.core.display.HTML object>"
      ]
     },
     "metadata": {},
     "output_type": "display_data"
    },
    {
     "data": {
      "text/html": [
       "Tracking run with wandb version 0.12.20"
      ],
      "text/plain": [
       "<IPython.core.display.HTML object>"
      ]
     },
     "metadata": {},
     "output_type": "display_data"
    },
    {
     "data": {
      "text/html": [
       "Run data is saved locally in <code>/Users/morty/a101_comp/NN_Tutorial/NN_Tutorial_2/Graham-Data-Processing/nn_v0.0.1/wandb/run-20221206_174936-7aghkcg4</code>"
      ],
      "text/plain": [
       "<IPython.core.display.HTML object>"
      ]
     },
     "metadata": {},
     "output_type": "display_data"
    },
    {
     "data": {
      "text/html": [
       "Syncing run <strong><a href=\"https://wandb.ai/ghirsch/Astro101_project_v4/runs/7aghkcg4\" target=\"_blank\">daily-sweep-5</a></strong> to <a href=\"https://wandb.ai/ghirsch/Astro101_project_v4\" target=\"_blank\">Weights & Biases</a> (<a href=\"https://wandb.me/run\" target=\"_blank\">docs</a>)<br/>Sweep page:  <a href=\"https://wandb.ai/ghirsch/Astro101_project_v4/sweeps/9sbj5834\" target=\"_blank\">https://wandb.ai/ghirsch/Astro101_project_v4/sweeps/9sbj5834</a>"
      ],
      "text/plain": [
       "<IPython.core.display.HTML object>"
      ]
     },
     "metadata": {},
     "output_type": "display_data"
    },
    {
     "name": "stderr",
     "output_type": "stream",
     "text": [
      "wandb: ERROR Dropped streaming file chunk (see wandb/debug-internal.log)\n",
      "ERROR:root:dropped chunk 404 Client Error: Not Found for url: https://api.wandb.ai/files/ghirsch/Astro101_project_v4/37woihe7/file_stream\n",
      "NoneType: None\n"
     ]
    },
    {
     "name": "stdout",
     "output_type": "stream",
     "text": [
      "Epoch 1/69\n",
      "29/29 [==============================] - 1s 10ms/step - loss: 500.2323 - val_loss: 86.1722 - _timestamp: 1670377795.0000 - _runtime: 19.0000\n",
      "Epoch 2/69\n",
      "29/29 [==============================] - 0s 12ms/step - loss: 36.5085 - val_loss: 5.7526 - _timestamp: 1670377796.0000 - _runtime: 20.0000\n",
      "Epoch 3/69\n",
      "29/29 [==============================] - 0s 7ms/step - loss: 3.8955 - val_loss: 1.1915 - _timestamp: 1670377796.0000 - _runtime: 20.0000\n",
      "Epoch 4/69\n",
      "29/29 [==============================] - 0s 7ms/step - loss: 1.5223 - val_loss: 0.9160 - _timestamp: 1670377796.0000 - _runtime: 20.0000\n",
      "Epoch 5/69\n",
      "29/29 [==============================] - 0s 9ms/step - loss: 1.2851 - val_loss: 0.8414 - _timestamp: 1670377796.0000 - _runtime: 20.0000\n",
      "Epoch 6/69\n",
      "29/29 [==============================] - 0s 8ms/step - loss: 1.1847 - val_loss: 0.8197 - _timestamp: 1670377796.0000 - _runtime: 20.0000\n",
      "Epoch 7/69\n",
      "29/29 [==============================] - 0s 6ms/step - loss: 1.0688 - val_loss: 0.7794 - _timestamp: 1670377797.0000 - _runtime: 21.0000\n",
      "Epoch 8/69\n",
      "29/29 [==============================] - 0s 5ms/step - loss: 1.0584 - val_loss: 0.7381 - _timestamp: 1670377797.0000 - _runtime: 21.0000\n",
      "Epoch 9/69\n",
      "29/29 [==============================] - 0s 6ms/step - loss: 1.0438 - val_loss: 0.6685 - _timestamp: 1670377797.0000 - _runtime: 21.0000\n",
      "Epoch 10/69\n",
      "29/29 [==============================] - 0s 5ms/step - loss: 0.9669 - val_loss: 0.6884 - _timestamp: 1670377797.0000 - _runtime: 21.0000\n",
      "Epoch 11/69\n",
      "29/29 [==============================] - 0s 4ms/step - loss: 0.9103 - val_loss: 0.7404 - _timestamp: 1670377797.0000 - _runtime: 21.0000\n",
      "Epoch 12/69\n",
      "29/29 [==============================] - 0s 7ms/step - loss: 0.8550 - val_loss: 0.6612 - _timestamp: 1670377797.0000 - _runtime: 21.0000\n",
      "Epoch 13/69\n",
      "29/29 [==============================] - 0s 6ms/step - loss: 0.8295 - val_loss: 0.7881 - _timestamp: 1670377798.0000 - _runtime: 22.0000\n",
      "Epoch 14/69\n",
      "29/29 [==============================] - 0s 8ms/step - loss: 0.9074 - val_loss: 0.6411 - _timestamp: 1670377798.0000 - _runtime: 22.0000\n",
      "Epoch 15/69\n",
      "29/29 [==============================] - 0s 5ms/step - loss: 0.8426 - val_loss: 0.7465 - _timestamp: 1670377798.0000 - _runtime: 22.0000\n",
      "Epoch 16/69\n",
      "29/29 [==============================] - 0s 9ms/step - loss: 0.7407 - val_loss: 0.5806 - _timestamp: 1670377798.0000 - _runtime: 22.0000\n",
      "Epoch 17/69\n",
      "29/29 [==============================] - 0s 6ms/step - loss: 0.7274 - val_loss: 0.6482 - _timestamp: 1670377798.0000 - _runtime: 22.0000\n",
      "Epoch 18/69\n",
      "29/29 [==============================] - 0s 4ms/step - loss: 0.7971 - val_loss: 0.7326 - _timestamp: 1670377799.0000 - _runtime: 23.0000\n",
      "Epoch 19/69\n",
      "29/29 [==============================] - 0s 5ms/step - loss: 0.8278 - val_loss: 0.5922 - _timestamp: 1670377799.0000 - _runtime: 23.0000\n",
      "Epoch 20/69\n",
      "29/29 [==============================] - 0s 6ms/step - loss: 0.6967 - val_loss: 0.7370 - _timestamp: 1670377799.0000 - _runtime: 23.0000\n",
      "Epoch 21/69\n",
      "29/29 [==============================] - 0s 10ms/step - loss: 0.7784 - val_loss: 0.6855 - _timestamp: 1670377799.0000 - _runtime: 23.0000\n",
      "Epoch 22/69\n",
      "29/29 [==============================] - 0s 6ms/step - loss: 0.7415 - val_loss: 0.6824 - _timestamp: 1670377799.0000 - _runtime: 23.0000\n",
      "Epoch 23/69\n",
      "29/29 [==============================] - 0s 5ms/step - loss: 0.8066 - val_loss: 0.6290 - _timestamp: 1670377800.0000 - _runtime: 24.0000\n",
      "Epoch 24/69\n",
      "29/29 [==============================] - 0s 5ms/step - loss: 0.8102 - val_loss: 0.5928 - _timestamp: 1670377800.0000 - _runtime: 24.0000\n",
      "Epoch 25/69\n",
      "29/29 [==============================] - 0s 7ms/step - loss: 0.6659 - val_loss: 0.5800 - _timestamp: 1670377800.0000 - _runtime: 24.0000\n",
      "Epoch 26/69\n",
      "29/29 [==============================] - 0s 7ms/step - loss: 0.8828 - val_loss: 0.6687 - _timestamp: 1670377800.0000 - _runtime: 24.0000\n",
      "Epoch 27/69\n",
      "29/29 [==============================] - 0s 5ms/step - loss: 0.7054 - val_loss: 0.5833 - _timestamp: 1670377800.0000 - _runtime: 24.0000\n",
      "Epoch 28/69\n",
      "29/29 [==============================] - 0s 9ms/step - loss: 0.8315 - val_loss: 0.6300 - _timestamp: 1670377800.0000 - _runtime: 24.0000\n",
      "Epoch 29/69\n",
      "29/29 [==============================] - 0s 8ms/step - loss: 0.7564 - val_loss: 0.6797 - _timestamp: 1670377801.0000 - _runtime: 25.0000\n",
      "Epoch 30/69\n",
      "29/29 [==============================] - 0s 8ms/step - loss: 0.9287 - val_loss: 1.0024 - _timestamp: 1670377801.0000 - _runtime: 25.0000\n",
      "Epoch 31/69\n",
      "29/29 [==============================] - 0s 14ms/step - loss: 0.8387 - val_loss: 0.5693 - _timestamp: 1670377801.0000 - _runtime: 25.0000\n",
      "Epoch 32/69\n",
      "29/29 [==============================] - 0s 14ms/step - loss: 0.7577 - val_loss: 0.5697 - _timestamp: 1670377802.0000 - _runtime: 26.0000\n",
      "Epoch 33/69\n",
      "29/29 [==============================] - 0s 10ms/step - loss: 0.7591 - val_loss: 0.6349 - _timestamp: 1670377802.0000 - _runtime: 26.0000\n",
      "Epoch 34/69\n",
      "29/29 [==============================] - 0s 10ms/step - loss: 0.7462 - val_loss: 0.7763 - _timestamp: 1670377802.0000 - _runtime: 26.0000\n",
      "Epoch 35/69\n",
      "29/29 [==============================] - 0s 11ms/step - loss: 0.7542 - val_loss: 0.6128 - _timestamp: 1670377803.0000 - _runtime: 27.0000\n",
      "Epoch 36/69\n",
      "29/29 [==============================] - 0s 8ms/step - loss: 0.7518 - val_loss: 0.6000 - _timestamp: 1670377803.0000 - _runtime: 27.0000\n",
      "Epoch 37/69\n",
      "29/29 [==============================] - 0s 12ms/step - loss: 0.8020 - val_loss: 0.6481 - _timestamp: 1670377803.0000 - _runtime: 27.0000\n",
      "Epoch 38/69\n",
      "29/29 [==============================] - 0s 13ms/step - loss: 0.7012 - val_loss: 0.6374 - _timestamp: 1670377804.0000 - _runtime: 28.0000\n",
      "Epoch 39/69\n",
      "29/29 [==============================] - 1s 30ms/step - loss: 0.7515 - val_loss: 0.5489 - _timestamp: 1670377804.0000 - _runtime: 28.0000\n",
      "Epoch 40/69\n",
      "29/29 [==============================] - 0s 13ms/step - loss: 0.7520 - val_loss: 0.6400 - _timestamp: 1670377805.0000 - _runtime: 29.0000\n",
      "Epoch 41/69\n",
      "29/29 [==============================] - 0s 8ms/step - loss: 0.7321 - val_loss: 0.6345 - _timestamp: 1670377805.0000 - _runtime: 29.0000\n",
      "Epoch 42/69\n",
      "29/29 [==============================] - 0s 7ms/step - loss: 0.7234 - val_loss: 0.5691 - _timestamp: 1670377805.0000 - _runtime: 29.0000\n",
      "Epoch 43/69\n",
      "29/29 [==============================] - 0s 6ms/step - loss: 0.6782 - val_loss: 0.6308 - _timestamp: 1670377805.0000 - _runtime: 29.0000\n",
      "Epoch 44/69\n",
      "29/29 [==============================] - 0s 13ms/step - loss: 0.8024 - val_loss: 0.7101 - _timestamp: 1670377806.0000 - _runtime: 30.0000\n",
      "Epoch 45/69\n",
      "29/29 [==============================] - 0s 14ms/step - loss: 0.6637 - val_loss: 0.5225 - _timestamp: 1670377806.0000 - _runtime: 30.0000\n",
      "Epoch 46/69\n",
      "29/29 [==============================] - 0s 9ms/step - loss: 0.7133 - val_loss: 0.6543 - _timestamp: 1670377807.0000 - _runtime: 31.0000\n",
      "Epoch 47/69\n",
      "29/29 [==============================] - 0s 7ms/step - loss: 0.7290 - val_loss: 0.6319 - _timestamp: 1670377807.0000 - _runtime: 31.0000\n",
      "Epoch 48/69\n",
      "29/29 [==============================] - 0s 7ms/step - loss: 0.6881 - val_loss: 0.6850 - _timestamp: 1670377807.0000 - _runtime: 31.0000\n",
      "Epoch 49/69\n",
      "29/29 [==============================] - 0s 8ms/step - loss: 0.7688 - val_loss: 0.7307 - _timestamp: 1670377807.0000 - _runtime: 31.0000\n",
      "Epoch 50/69\n",
      "29/29 [==============================] - 0s 5ms/step - loss: 0.7575 - val_loss: 0.6882 - _timestamp: 1670377807.0000 - _runtime: 31.0000\n",
      "Epoch 51/69\n",
      "29/29 [==============================] - 0s 7ms/step - loss: 0.7300 - val_loss: 0.6227 - _timestamp: 1670377808.0000 - _runtime: 32.0000\n",
      "Epoch 52/69\n",
      "29/29 [==============================] - 0s 6ms/step - loss: 0.6762 - val_loss: 0.5970 - _timestamp: 1670377808.0000 - _runtime: 32.0000\n",
      "Epoch 53/69\n",
      "29/29 [==============================] - 0s 6ms/step - loss: 0.6640 - val_loss: 0.5928 - _timestamp: 1670377808.0000 - _runtime: 32.0000\n",
      "Epoch 54/69\n",
      "29/29 [==============================] - 0s 7ms/step - loss: 0.8670 - val_loss: 0.6465 - _timestamp: 1670377808.0000 - _runtime: 32.0000\n",
      "Epoch 55/69\n",
      "29/29 [==============================] - 0s 12ms/step - loss: 0.7592 - val_loss: 0.5684 - _timestamp: 1670377808.0000 - _runtime: 32.0000\n",
      "Epoch 56/69\n",
      "29/29 [==============================] - 0s 11ms/step - loss: 0.6480 - val_loss: 0.6056 - _timestamp: 1670377809.0000 - _runtime: 33.0000\n",
      "Epoch 57/69\n",
      "29/29 [==============================] - 0s 9ms/step - loss: 0.7036 - val_loss: 0.5773 - _timestamp: 1670377809.0000 - _runtime: 33.0000\n",
      "Epoch 58/69\n",
      "29/29 [==============================] - 0s 6ms/step - loss: 0.7609 - val_loss: 0.5840 - _timestamp: 1670377809.0000 - _runtime: 33.0000\n",
      "Epoch 59/69\n",
      "29/29 [==============================] - 0s 7ms/step - loss: 0.7305 - val_loss: 0.5585 - _timestamp: 1670377809.0000 - _runtime: 33.0000\n",
      "Epoch 60/69\n",
      "29/29 [==============================] - 0s 12ms/step - loss: 0.6294 - val_loss: 0.5517 - _timestamp: 1670377810.0000 - _runtime: 34.0000\n",
      "Epoch 61/69\n",
      "29/29 [==============================] - 0s 6ms/step - loss: 0.5984 - val_loss: 0.5759 - _timestamp: 1670377810.0000 - _runtime: 34.0000\n",
      "Epoch 62/69\n",
      "29/29 [==============================] - 0s 5ms/step - loss: 0.7097 - val_loss: 0.7421 - _timestamp: 1670377810.0000 - _runtime: 34.0000\n",
      "Epoch 63/69\n",
      "29/29 [==============================] - 0s 7ms/step - loss: 0.8588 - val_loss: 0.6980 - _timestamp: 1670377810.0000 - _runtime: 34.0000\n",
      "Epoch 64/69\n",
      "29/29 [==============================] - 0s 7ms/step - loss: 0.7303 - val_loss: 0.5650 - _timestamp: 1670377811.0000 - _runtime: 35.0000\n",
      "Epoch 65/69\n",
      "29/29 [==============================] - 0s 9ms/step - loss: 0.6470 - val_loss: 0.5609 - _timestamp: 1670377811.0000 - _runtime: 35.0000\n",
      "Epoch 66/69\n",
      "29/29 [==============================] - 0s 6ms/step - loss: 0.7586 - val_loss: 0.6222 - _timestamp: 1670377811.0000 - _runtime: 35.0000\n",
      "Epoch 67/69\n",
      "29/29 [==============================] - 0s 10ms/step - loss: 0.7172 - val_loss: 0.7597 - _timestamp: 1670377811.0000 - _runtime: 35.0000\n",
      "Epoch 68/69\n",
      "29/29 [==============================] - 0s 5ms/step - loss: 0.8218 - val_loss: 0.7158 - _timestamp: 1670377811.0000 - _runtime: 35.0000\n",
      "Epoch 69/69\n",
      "29/29 [==============================] - 0s 7ms/step - loss: 0.7115 - val_loss: 0.5802 - _timestamp: 1670377812.0000 - _runtime: 36.0000\n"
     ]
    },
    {
     "data": {
      "text/html": [
       "Waiting for W&B process to finish... <strong style=\"color:green\">(success).</strong>"
      ],
      "text/plain": [
       "<IPython.core.display.HTML object>"
      ]
     },
     "metadata": {},
     "output_type": "display_data"
    },
    {
     "data": {
      "application/vnd.jupyter.widget-view+json": {
       "model_id": "60032ff5e54a41feaa8387643e06c8ec",
       "version_major": 2,
       "version_minor": 0
      },
      "text/plain": [
       "VBox(children=(Label(value='0.400 MB of 0.400 MB uploaded (0.000 MB deduped)\\r'), FloatProgress(value=1.0, max…"
      ]
     },
     "metadata": {},
     "output_type": "display_data"
    },
    {
     "data": {
      "text/html": [
       "<style>\n",
       "    table.wandb td:nth-child(1) { padding: 0 10px; text-align: left ; width: auto;} td:nth-child(2) {text-align: left ; width: 100%}\n",
       "    .wandb-row { display: flex; flex-direction: row; flex-wrap: wrap; justify-content: flex-start; width: 100% }\n",
       "    .wandb-col { display: flex; flex-direction: column; flex-basis: 100%; flex: 1; padding: 10px; }\n",
       "    </style>\n",
       "<div class=\"wandb-row\"><div class=\"wandb-col\"><h3>Run history:</h3><br/><table class=\"wandb\"><tr><td>epoch</td><td>▁▁▁▂▂▂▂▂▂▃▃▃▃▃▃▄▄▄▄▄▅▅▅▅▅▅▆▆▆▆▆▇▇▇▇▇▇███</td></tr><tr><td>loss</td><td>█▂▁▁▁▁▁▁▁▁▁▁▁▁▁▁▁▁▁▁▁▁▁▁▁▁▁▁▁▁▁▁▁▁▁▁▁▁▁▁</td></tr><tr><td>val_loss</td><td>█▁▁▁▁▁▁▁▁▁▁▁▁▁▁▁▁▁▁▁▁▁▁▁▁▁▁▁▁▁▁▁▁▁▁▁▁▁▁▁</td></tr></table><br/></div><div class=\"wandb-col\"><h3>Run summary:</h3><br/><table class=\"wandb\"><tr><td>best_epoch</td><td>44</td></tr><tr><td>best_val_loss</td><td>0.52255</td></tr><tr><td>epoch</td><td>68</td></tr><tr><td>loss</td><td>0.71147</td></tr><tr><td>val_loss</td><td>0.5802</td></tr></table><br/></div></div>"
      ],
      "text/plain": [
       "<IPython.core.display.HTML object>"
      ]
     },
     "metadata": {},
     "output_type": "display_data"
    },
    {
     "data": {
      "text/html": [
       "Synced <strong style=\"color:#cdcd00\">daily-sweep-5</strong>: <a href=\"https://wandb.ai/ghirsch/Astro101_project_v4/runs/7aghkcg4\" target=\"_blank\">https://wandb.ai/ghirsch/Astro101_project_v4/runs/7aghkcg4</a><br/>Synced 6 W&B file(s), 1 media file(s), 0 artifact file(s) and 1 other file(s)"
      ],
      "text/plain": [
       "<IPython.core.display.HTML object>"
      ]
     },
     "metadata": {},
     "output_type": "display_data"
    },
    {
     "data": {
      "text/html": [
       "Find logs at: <code>./wandb/run-20221206_174936-7aghkcg4/logs</code>"
      ],
      "text/plain": [
       "<IPython.core.display.HTML object>"
      ]
     },
     "metadata": {},
     "output_type": "display_data"
    },
    {
     "name": "stderr",
     "output_type": "stream",
     "text": [
      "\u001b[34m\u001b[1mwandb\u001b[0m: Agent Starting Run: 3vzswylf with config:\n",
      "\u001b[34m\u001b[1mwandb\u001b[0m: \tbatch_size: 32\n",
      "\u001b[34m\u001b[1mwandb\u001b[0m: \tdropout: 0.44781107155550015\n",
      "\u001b[34m\u001b[1mwandb\u001b[0m: \tepochs: 23\n",
      "\u001b[34m\u001b[1mwandb\u001b[0m: \tlearning_rate: 0.08310467580821818\n",
      "\u001b[34m\u001b[1mwandb\u001b[0m: \tsize_1: 125\n",
      "\u001b[34m\u001b[1mwandb\u001b[0m: \tsize_2: 103\n",
      "\u001b[34m\u001b[1mwandb\u001b[0m: \tsize_3: 181\n",
      "\u001b[34m\u001b[1mwandb\u001b[0m: \tsize_4: 139\n",
      "\u001b[34m\u001b[1mwandb\u001b[0m: \tsize_5: 179\n",
      "wandb: ERROR Dropped streaming file chunk (see wandb/debug-internal.log)\n",
      "ERROR:root:dropped chunk 404 Client Error: Not Found for url: https://api.wandb.ai/files/ghirsch/Astro101_project_v4/37woihe7/file_stream\n",
      "NoneType: None\n"
     ]
    },
    {
     "data": {
      "text/html": [
       "wandb version 0.13.6 is available!  To upgrade, please run:\n",
       " $ pip install wandb --upgrade"
      ],
      "text/plain": [
       "<IPython.core.display.HTML object>"
      ]
     },
     "metadata": {},
     "output_type": "display_data"
    },
    {
     "data": {
      "text/html": [
       "Tracking run with wandb version 0.12.20"
      ],
      "text/plain": [
       "<IPython.core.display.HTML object>"
      ]
     },
     "metadata": {},
     "output_type": "display_data"
    },
    {
     "data": {
      "text/html": [
       "Run data is saved locally in <code>/Users/morty/a101_comp/NN_Tutorial/NN_Tutorial_2/Graham-Data-Processing/nn_v0.0.1/wandb/run-20221206_175020-3vzswylf</code>"
      ],
      "text/plain": [
       "<IPython.core.display.HTML object>"
      ]
     },
     "metadata": {},
     "output_type": "display_data"
    },
    {
     "data": {
      "text/html": [
       "Syncing run <strong><a href=\"https://wandb.ai/ghirsch/Astro101_project_v4/runs/3vzswylf\" target=\"_blank\">colorful-sweep-6</a></strong> to <a href=\"https://wandb.ai/ghirsch/Astro101_project_v4\" target=\"_blank\">Weights & Biases</a> (<a href=\"https://wandb.me/run\" target=\"_blank\">docs</a>)<br/>Sweep page:  <a href=\"https://wandb.ai/ghirsch/Astro101_project_v4/sweeps/9sbj5834\" target=\"_blank\">https://wandb.ai/ghirsch/Astro101_project_v4/sweeps/9sbj5834</a>"
      ],
      "text/plain": [
       "<IPython.core.display.HTML object>"
      ]
     },
     "metadata": {},
     "output_type": "display_data"
    },
    {
     "name": "stdout",
     "output_type": "stream",
     "text": [
      "Epoch 1/23\n",
      "29/29 [==============================] - 1s 11ms/step - loss: 4772.6611 - val_loss: 679.4724 - _timestamp: 1670377841.0000 - _runtime: 21.0000\n",
      "Epoch 2/23\n",
      "29/29 [==============================] - 0s 5ms/step - loss: 364.8708 - val_loss: 65.8917 - _timestamp: 1670377841.0000 - _runtime: 21.0000\n",
      "Epoch 3/23\n",
      "29/29 [==============================] - 0s 5ms/step - loss: 62.1364 - val_loss: 15.0576 - _timestamp: 1670377841.0000 - _runtime: 21.0000\n",
      "Epoch 4/23\n",
      "29/29 [==============================] - 0s 5ms/step - loss: 11.1869 - val_loss: 3.7013 - _timestamp: 1670377841.0000 - _runtime: 21.0000\n",
      "Epoch 5/23\n",
      "29/29 [==============================] - 0s 5ms/step - loss: 4.6952 - val_loss: 2.7540 - _timestamp: 1670377841.0000 - _runtime: 21.0000\n",
      "Epoch 6/23\n",
      "29/29 [==============================] - 0s 5ms/step - loss: 4.1919 - val_loss: 1.4130 - _timestamp: 1670377841.0000 - _runtime: 21.0000\n",
      "Epoch 7/23\n",
      "29/29 [==============================] - 0s 5ms/step - loss: 2.7169 - val_loss: 1.3605 - _timestamp: 1670377842.0000 - _runtime: 22.0000\n",
      "Epoch 8/23\n",
      "29/29 [==============================] - 0s 5ms/step - loss: 2.4195 - val_loss: 1.0539 - _timestamp: 1670377842.0000 - _runtime: 22.0000\n",
      "Epoch 9/23\n",
      "29/29 [==============================] - 0s 5ms/step - loss: 1.6007 - val_loss: 1.0174 - _timestamp: 1670377842.0000 - _runtime: 22.0000\n",
      "Epoch 10/23\n",
      "29/29 [==============================] - 0s 5ms/step - loss: 1.6166 - val_loss: 0.9770 - _timestamp: 1670377842.0000 - _runtime: 22.0000\n",
      "Epoch 11/23\n",
      "29/29 [==============================] - 0s 5ms/step - loss: 1.5923 - val_loss: 0.9116 - _timestamp: 1670377842.0000 - _runtime: 22.0000\n",
      "Epoch 12/23\n",
      "29/29 [==============================] - 0s 3ms/step - loss: 1.2978 - val_loss: 0.9497 - _timestamp: 1670377842.0000 - _runtime: 22.0000\n",
      "Epoch 13/23\n",
      "29/29 [==============================] - 0s 5ms/step - loss: 1.3534 - val_loss: 1.1449 - _timestamp: 1670377842.0000 - _runtime: 22.0000\n",
      "Epoch 14/23\n",
      "29/29 [==============================] - 0s 7ms/step - loss: 1.5927 - val_loss: 0.6263 - _timestamp: 1670377843.0000 - _runtime: 23.0000\n",
      "Epoch 15/23\n",
      "29/29 [==============================] - 0s 14ms/step - loss: 0.9778 - val_loss: 0.5812 - _timestamp: 1670377843.0000 - _runtime: 23.0000\n",
      "Epoch 16/23\n",
      "29/29 [==============================] - 0s 8ms/step - loss: 0.9313 - val_loss: 0.6926 - _timestamp: 1670377843.0000 - _runtime: 23.0000\n",
      "Epoch 17/23\n",
      "29/29 [==============================] - 0s 8ms/step - loss: 1.0274 - val_loss: 0.6931 - _timestamp: 1670377844.0000 - _runtime: 24.0000\n",
      "Epoch 18/23\n",
      "29/29 [==============================] - 0s 7ms/step - loss: 0.9781 - val_loss: 0.6154 - _timestamp: 1670377844.0000 - _runtime: 24.0000\n",
      "Epoch 19/23\n",
      "29/29 [==============================] - 0s 6ms/step - loss: 0.8995 - val_loss: 0.6156 - _timestamp: 1670377844.0000 - _runtime: 24.0000\n",
      "Epoch 20/23\n",
      "29/29 [==============================] - 0s 5ms/step - loss: 1.0867 - val_loss: 0.8076 - _timestamp: 1670377844.0000 - _runtime: 24.0000\n",
      "Epoch 21/23\n",
      "29/29 [==============================] - 0s 5ms/step - loss: 0.9490 - val_loss: 0.6931 - _timestamp: 1670377844.0000 - _runtime: 24.0000\n",
      "Epoch 22/23\n",
      "29/29 [==============================] - 0s 4ms/step - loss: 0.9404 - val_loss: 0.6221 - _timestamp: 1670377844.0000 - _runtime: 24.0000\n",
      "Epoch 23/23\n",
      "29/29 [==============================] - 0s 5ms/step - loss: 0.9263 - val_loss: 0.6291 - _timestamp: 1670377845.0000 - _runtime: 25.0000\n"
     ]
    },
    {
     "data": {
      "text/html": [
       "Waiting for W&B process to finish... <strong style=\"color:green\">(success).</strong>"
      ],
      "text/plain": [
       "<IPython.core.display.HTML object>"
      ]
     },
     "metadata": {},
     "output_type": "display_data"
    },
    {
     "data": {
      "application/vnd.jupyter.widget-view+json": {
       "model_id": "75d523cfad6c4b46a9c943b73fc31821",
       "version_major": 2,
       "version_minor": 0
      },
      "text/plain": [
       "VBox(children=(Label(value='0.000 MB of 1.036 MB uploaded (0.000 MB deduped)\\r'), FloatProgress(value=0.0, max…"
      ]
     },
     "metadata": {},
     "output_type": "display_data"
    },
    {
     "name": "stderr",
     "output_type": "stream",
     "text": [
      "wandb: ERROR Dropped streaming file chunk (see wandb/debug-internal.log)\n",
      "ERROR:root:dropped chunk 404 Client Error: Not Found for url: https://api.wandb.ai/files/ghirsch/Astro101_project_v4/37woihe7/file_stream\n",
      "NoneType: None\n"
     ]
    },
    {
     "data": {
      "text/html": [
       "<style>\n",
       "    table.wandb td:nth-child(1) { padding: 0 10px; text-align: left ; width: auto;} td:nth-child(2) {text-align: left ; width: 100%}\n",
       "    .wandb-row { display: flex; flex-direction: row; flex-wrap: wrap; justify-content: flex-start; width: 100% }\n",
       "    .wandb-col { display: flex; flex-direction: column; flex-basis: 100%; flex: 1; padding: 10px; }\n",
       "    </style>\n",
       "<div class=\"wandb-row\"><div class=\"wandb-col\"><h3>Run history:</h3><br/><table class=\"wandb\"><tr><td>epoch</td><td>▁▁▂▂▂▃▃▃▄▄▄▅▅▅▅▆▆▆▇▇▇██</td></tr><tr><td>loss</td><td>█▂▁▁▁▁▁▁▁▁▁▁▁▁▁▁▁▁▁▁▁▁▁</td></tr><tr><td>val_loss</td><td>█▂▁▁▁▁▁▁▁▁▁▁▁▁▁▁▁▁▁▁▁▁▁</td></tr></table><br/></div><div class=\"wandb-col\"><h3>Run summary:</h3><br/><table class=\"wandb\"><tr><td>best_epoch</td><td>14</td></tr><tr><td>best_val_loss</td><td>0.58117</td></tr><tr><td>epoch</td><td>22</td></tr><tr><td>loss</td><td>0.92634</td></tr><tr><td>val_loss</td><td>0.62912</td></tr></table><br/></div></div>"
      ],
      "text/plain": [
       "<IPython.core.display.HTML object>"
      ]
     },
     "metadata": {},
     "output_type": "display_data"
    },
    {
     "data": {
      "text/html": [
       "Synced <strong style=\"color:#cdcd00\">colorful-sweep-6</strong>: <a href=\"https://wandb.ai/ghirsch/Astro101_project_v4/runs/3vzswylf\" target=\"_blank\">https://wandb.ai/ghirsch/Astro101_project_v4/runs/3vzswylf</a><br/>Synced 6 W&B file(s), 1 media file(s), 0 artifact file(s) and 1 other file(s)"
      ],
      "text/plain": [
       "<IPython.core.display.HTML object>"
      ]
     },
     "metadata": {},
     "output_type": "display_data"
    },
    {
     "data": {
      "text/html": [
       "Find logs at: <code>./wandb/run-20221206_175020-3vzswylf/logs</code>"
      ],
      "text/plain": [
       "<IPython.core.display.HTML object>"
      ]
     },
     "metadata": {},
     "output_type": "display_data"
    },
    {
     "name": "stderr",
     "output_type": "stream",
     "text": [
      "\u001b[34m\u001b[1mwandb\u001b[0m: Sweep Agent: Waiting for job.\n",
      "wandb: ERROR Dropped streaming file chunk (see wandb/debug-internal.log)\n",
      "ERROR:root:dropped chunk 404 Client Error: Not Found for url: https://api.wandb.ai/files/ghirsch/Astro101_project_v4/37woihe7/file_stream\n",
      "NoneType: None\n",
      "\u001b[34m\u001b[1mwandb\u001b[0m: Job received.\n",
      "\u001b[34m\u001b[1mwandb\u001b[0m: Agent Starting Run: zrj6egal with config:\n",
      "\u001b[34m\u001b[1mwandb\u001b[0m: \tbatch_size: 32\n",
      "\u001b[34m\u001b[1mwandb\u001b[0m: \tdropout: 0.3857278388474564\n",
      "\u001b[34m\u001b[1mwandb\u001b[0m: \tepochs: 21\n",
      "\u001b[34m\u001b[1mwandb\u001b[0m: \tlearning_rate: 0.029253200553670557\n",
      "\u001b[34m\u001b[1mwandb\u001b[0m: \tsize_1: 236\n",
      "\u001b[34m\u001b[1mwandb\u001b[0m: \tsize_2: 72\n",
      "\u001b[34m\u001b[1mwandb\u001b[0m: \tsize_3: 106\n",
      "\u001b[34m\u001b[1mwandb\u001b[0m: \tsize_4: 186\n",
      "\u001b[34m\u001b[1mwandb\u001b[0m: \tsize_5: 121\n"
     ]
    },
    {
     "data": {
      "text/html": [
       "wandb version 0.13.6 is available!  To upgrade, please run:\n",
       " $ pip install wandb --upgrade"
      ],
      "text/plain": [
       "<IPython.core.display.HTML object>"
      ]
     },
     "metadata": {},
     "output_type": "display_data"
    },
    {
     "data": {
      "text/html": [
       "Tracking run with wandb version 0.12.20"
      ],
      "text/plain": [
       "<IPython.core.display.HTML object>"
      ]
     },
     "metadata": {},
     "output_type": "display_data"
    },
    {
     "data": {
      "text/html": [
       "Run data is saved locally in <code>/Users/morty/a101_comp/NN_Tutorial/NN_Tutorial_2/Graham-Data-Processing/nn_v0.0.1/wandb/run-20221206_175126-zrj6egal</code>"
      ],
      "text/plain": [
       "<IPython.core.display.HTML object>"
      ]
     },
     "metadata": {},
     "output_type": "display_data"
    },
    {
     "data": {
      "text/html": [
       "Syncing run <strong><a href=\"https://wandb.ai/ghirsch/Astro101_project_v4/runs/zrj6egal\" target=\"_blank\">serene-sweep-7</a></strong> to <a href=\"https://wandb.ai/ghirsch/Astro101_project_v4\" target=\"_blank\">Weights & Biases</a> (<a href=\"https://wandb.me/run\" target=\"_blank\">docs</a>)<br/>Sweep page:  <a href=\"https://wandb.ai/ghirsch/Astro101_project_v4/sweeps/9sbj5834\" target=\"_blank\">https://wandb.ai/ghirsch/Astro101_project_v4/sweeps/9sbj5834</a>"
      ],
      "text/plain": [
       "<IPython.core.display.HTML object>"
      ]
     },
     "metadata": {},
     "output_type": "display_data"
    },
    {
     "name": "stdout",
     "output_type": "stream",
     "text": [
      "Epoch 1/21\n",
      "29/29 [==============================] - 3s 16ms/step - loss: 32.7265 - val_loss: 3.6965 - _timestamp: 1670377908.0000 - _runtime: 22.0000\n",
      "Epoch 2/21\n",
      "29/29 [==============================] - 0s 9ms/step - loss: 2.1308 - val_loss: 1.1256 - _timestamp: 1670377909.0000 - _runtime: 23.0000\n",
      "Epoch 3/21\n",
      "29/29 [==============================] - 0s 9ms/step - loss: 1.0133 - val_loss: 0.8114 - _timestamp: 1670377909.0000 - _runtime: 23.0000\n",
      "Epoch 4/21\n",
      "29/29 [==============================] - 0s 8ms/step - loss: 0.8725 - val_loss: 0.7738 - _timestamp: 1670377909.0000 - _runtime: 23.0000\n",
      "Epoch 5/21\n",
      "29/29 [==============================] - 0s 10ms/step - loss: 0.9021 - val_loss: 0.7535 - _timestamp: 1670377910.0000 - _runtime: 24.0000\n",
      "Epoch 6/21\n",
      "29/29 [==============================] - 0s 6ms/step - loss: 0.9028 - val_loss: 0.7563 - _timestamp: 1670377910.0000 - _runtime: 24.0000\n",
      "Epoch 7/21\n",
      "29/29 [==============================] - 0s 10ms/step - loss: 0.8318 - val_loss: 0.7364 - _timestamp: 1670377910.0000 - _runtime: 24.0000\n",
      "Epoch 8/21\n",
      "29/29 [==============================] - 0s 8ms/step - loss: 0.8525 - val_loss: 0.7265 - _timestamp: 1670377910.0000 - _runtime: 24.0000\n",
      "Epoch 9/21\n",
      "29/29 [==============================] - 0s 12ms/step - loss: 0.7465 - val_loss: 0.6913 - _timestamp: 1670377911.0000 - _runtime: 25.0000\n",
      "Epoch 10/21\n",
      "29/29 [==============================] - 0s 5ms/step - loss: 0.9165 - val_loss: 0.8090 - _timestamp: 1670377911.0000 - _runtime: 25.0000\n",
      "Epoch 11/21\n",
      "29/29 [==============================] - 0s 10ms/step - loss: 0.7920 - val_loss: 0.6770 - _timestamp: 1670377911.0000 - _runtime: 25.0000\n",
      "Epoch 12/21\n",
      "29/29 [==============================] - 0s 8ms/step - loss: 0.8423 - val_loss: 0.7480 - _timestamp: 1670377911.0000 - _runtime: 25.0000\n",
      "Epoch 13/21\n",
      "29/29 [==============================] - 0s 5ms/step - loss: 0.8968 - val_loss: 0.8167 - _timestamp: 1670377912.0000 - _runtime: 26.0000\n",
      "Epoch 14/21\n",
      "29/29 [==============================] - 0s 5ms/step - loss: 0.7934 - val_loss: 0.7251 - _timestamp: 1670377912.0000 - _runtime: 26.0000\n",
      "Epoch 15/21\n",
      "29/29 [==============================] - 0s 6ms/step - loss: 0.7689 - val_loss: 0.7408 - _timestamp: 1670377912.0000 - _runtime: 26.0000\n",
      "Epoch 16/21\n",
      "29/29 [==============================] - 0s 8ms/step - loss: 0.7670 - val_loss: 0.8606 - _timestamp: 1670377912.0000 - _runtime: 26.0000\n",
      "Epoch 17/21\n",
      "29/29 [==============================] - 0s 17ms/step - loss: 0.7828 - val_loss: 0.6052 - _timestamp: 1670377912.0000 - _runtime: 26.0000\n",
      "Epoch 18/21\n",
      "29/29 [==============================] - 0s 8ms/step - loss: 0.7278 - val_loss: 0.7987 - _timestamp: 1670377913.0000 - _runtime: 27.0000\n",
      "Epoch 19/21\n",
      "29/29 [==============================] - 0s 5ms/step - loss: 0.8566 - val_loss: 0.7328 - _timestamp: 1670377913.0000 - _runtime: 27.0000\n",
      "Epoch 20/21\n",
      "29/29 [==============================] - 0s 6ms/step - loss: 0.8149 - val_loss: 0.6811 - _timestamp: 1670377913.0000 - _runtime: 27.0000\n",
      "Epoch 21/21\n",
      "29/29 [==============================] - 0s 7ms/step - loss: 0.8171 - val_loss: 0.6779 - _timestamp: 1670377913.0000 - _runtime: 27.0000\n"
     ]
    },
    {
     "name": "stderr",
     "output_type": "stream",
     "text": [
      "wandb: ERROR Dropped streaming file chunk (see wandb/debug-internal.log)\n",
      "ERROR:root:dropped chunk 404 Client Error: Not Found for url: https://api.wandb.ai/files/ghirsch/Astro101_project_v4/37woihe7/file_stream\n",
      "NoneType: None\n"
     ]
    },
    {
     "data": {
      "text/html": [
       "Waiting for W&B process to finish... <strong style=\"color:green\">(success).</strong>"
      ],
      "text/plain": [
       "<IPython.core.display.HTML object>"
      ]
     },
     "metadata": {},
     "output_type": "display_data"
    },
    {
     "data": {
      "application/vnd.jupyter.widget-view+json": {
       "model_id": "a416b7cae5414edaaafa9daa24c59565",
       "version_major": 2,
       "version_minor": 0
      },
      "text/plain": [
       "VBox(children=(Label(value='0.296 MB of 0.296 MB uploaded (0.000 MB deduped)\\r'), FloatProgress(value=1.0, max…"
      ]
     },
     "metadata": {},
     "output_type": "display_data"
    },
    {
     "data": {
      "text/html": [
       "<style>\n",
       "    table.wandb td:nth-child(1) { padding: 0 10px; text-align: left ; width: auto;} td:nth-child(2) {text-align: left ; width: 100%}\n",
       "    .wandb-row { display: flex; flex-direction: row; flex-wrap: wrap; justify-content: flex-start; width: 100% }\n",
       "    .wandb-col { display: flex; flex-direction: column; flex-basis: 100%; flex: 1; padding: 10px; }\n",
       "    </style>\n",
       "<div class=\"wandb-row\"><div class=\"wandb-col\"><h3>Run history:</h3><br/><table class=\"wandb\"><tr><td>epoch</td><td>▁▁▂▂▂▃▃▃▄▄▅▅▅▆▆▆▇▇▇██</td></tr><tr><td>loss</td><td>█▁▁▁▁▁▁▁▁▁▁▁▁▁▁▁▁▁▁▁▁</td></tr><tr><td>val_loss</td><td>█▂▁▁▁▁▁▁▁▁▁▁▁▁▁▂▁▁▁▁▁</td></tr></table><br/></div><div class=\"wandb-col\"><h3>Run summary:</h3><br/><table class=\"wandb\"><tr><td>best_epoch</td><td>16</td></tr><tr><td>best_val_loss</td><td>0.60518</td></tr><tr><td>epoch</td><td>20</td></tr><tr><td>loss</td><td>0.81712</td></tr><tr><td>val_loss</td><td>0.67785</td></tr></table><br/></div></div>"
      ],
      "text/plain": [
       "<IPython.core.display.HTML object>"
      ]
     },
     "metadata": {},
     "output_type": "display_data"
    },
    {
     "data": {
      "text/html": [
       "Synced <strong style=\"color:#cdcd00\">serene-sweep-7</strong>: <a href=\"https://wandb.ai/ghirsch/Astro101_project_v4/runs/zrj6egal\" target=\"_blank\">https://wandb.ai/ghirsch/Astro101_project_v4/runs/zrj6egal</a><br/>Synced 6 W&B file(s), 1 media file(s), 0 artifact file(s) and 1 other file(s)"
      ],
      "text/plain": [
       "<IPython.core.display.HTML object>"
      ]
     },
     "metadata": {},
     "output_type": "display_data"
    },
    {
     "data": {
      "text/html": [
       "Find logs at: <code>./wandb/run-20221206_175126-zrj6egal/logs</code>"
      ],
      "text/plain": [
       "<IPython.core.display.HTML object>"
      ]
     },
     "metadata": {},
     "output_type": "display_data"
    },
    {
     "name": "stderr",
     "output_type": "stream",
     "text": [
      "\u001b[34m\u001b[1mwandb\u001b[0m: Agent Starting Run: hdtkjmie with config:\n",
      "\u001b[34m\u001b[1mwandb\u001b[0m: \tbatch_size: 96\n",
      "\u001b[34m\u001b[1mwandb\u001b[0m: \tdropout: 0.22404508525947064\n",
      "\u001b[34m\u001b[1mwandb\u001b[0m: \tepochs: 30\n",
      "\u001b[34m\u001b[1mwandb\u001b[0m: \tlearning_rate: 0.040853132865728115\n",
      "\u001b[34m\u001b[1mwandb\u001b[0m: \tsize_1: 160\n",
      "\u001b[34m\u001b[1mwandb\u001b[0m: \tsize_2: 165\n",
      "\u001b[34m\u001b[1mwandb\u001b[0m: \tsize_3: 249\n",
      "\u001b[34m\u001b[1mwandb\u001b[0m: \tsize_4: 204\n",
      "\u001b[34m\u001b[1mwandb\u001b[0m: \tsize_5: 191\n",
      "\u001b[34m\u001b[1mwandb\u001b[0m: W&B API key is configured. Use \u001b[1m`wandb login --relogin`\u001b[0m to force relogin\n",
      "wandb: ERROR Dropped streaming file chunk (see wandb/debug-internal.log)\n",
      "ERROR:root:dropped chunk 404 Client Error: Not Found for url: https://api.wandb.ai/files/ghirsch/Astro101_project_v4/37woihe7/file_stream\n",
      "NoneType: None\n"
     ]
    },
    {
     "data": {
      "text/html": [
       "wandb version 0.13.6 is available!  To upgrade, please run:\n",
       " $ pip install wandb --upgrade"
      ],
      "text/plain": [
       "<IPython.core.display.HTML object>"
      ]
     },
     "metadata": {},
     "output_type": "display_data"
    },
    {
     "data": {
      "text/html": [
       "Tracking run with wandb version 0.12.20"
      ],
      "text/plain": [
       "<IPython.core.display.HTML object>"
      ]
     },
     "metadata": {},
     "output_type": "display_data"
    },
    {
     "data": {
      "text/html": [
       "Run data is saved locally in <code>/Users/morty/a101_comp/NN_Tutorial/NN_Tutorial_2/Graham-Data-Processing/nn_v0.0.1/wandb/run-20221206_175222-hdtkjmie</code>"
      ],
      "text/plain": [
       "<IPython.core.display.HTML object>"
      ]
     },
     "metadata": {},
     "output_type": "display_data"
    },
    {
     "data": {
      "text/html": [
       "Syncing run <strong><a href=\"https://wandb.ai/ghirsch/Astro101_project_v4/runs/hdtkjmie\" target=\"_blank\">golden-sweep-8</a></strong> to <a href=\"https://wandb.ai/ghirsch/Astro101_project_v4\" target=\"_blank\">Weights & Biases</a> (<a href=\"https://wandb.me/run\" target=\"_blank\">docs</a>)<br/>Sweep page:  <a href=\"https://wandb.ai/ghirsch/Astro101_project_v4/sweeps/9sbj5834\" target=\"_blank\">https://wandb.ai/ghirsch/Astro101_project_v4/sweeps/9sbj5834</a>"
      ],
      "text/plain": [
       "<IPython.core.display.HTML object>"
      ]
     },
     "metadata": {},
     "output_type": "display_data"
    },
    {
     "name": "stdout",
     "output_type": "stream",
     "text": [
      "Epoch 1/30\n",
      "10/10 [==============================] - 2s 78ms/step - loss: 1097.6377 - val_loss: 471.0110 - _timestamp: 1670377963.0000 - _runtime: 21.0000\n",
      "Epoch 2/30\n",
      "10/10 [==============================] - 0s 25ms/step - loss: 352.7004 - val_loss: 123.6925 - _timestamp: 1670377963.0000 - _runtime: 21.0000\n",
      "Epoch 3/30\n",
      "10/10 [==============================] - 0s 26ms/step - loss: 170.3298 - val_loss: 53.0379 - _timestamp: 1670377964.0000 - _runtime: 22.0000\n",
      "Epoch 4/30\n",
      "10/10 [==============================] - 0s 21ms/step - loss: 49.3852 - val_loss: 33.5404 - _timestamp: 1670377964.0000 - _runtime: 22.0000\n",
      "Epoch 5/30\n",
      "10/10 [==============================] - 0s 16ms/step - loss: 18.1731 - val_loss: 6.7764 - _timestamp: 1670377964.0000 - _runtime: 22.0000\n",
      "Epoch 6/30\n",
      "10/10 [==============================] - 0s 26ms/step - loss: 6.8838 - val_loss: 2.8428 - _timestamp: 1670377964.0000 - _runtime: 22.0000\n",
      "Epoch 7/30\n",
      "10/10 [==============================] - 0s 34ms/step - loss: 3.9433 - val_loss: 2.1002 - _timestamp: 1670377965.0000 - _runtime: 23.0000\n",
      "Epoch 8/30\n",
      "10/10 [==============================] - 0s 32ms/step - loss: 2.5821 - val_loss: 1.5223 - _timestamp: 1670377965.0000 - _runtime: 23.0000\n",
      "Epoch 9/30\n",
      "10/10 [==============================] - 0s 32ms/step - loss: 1.6243 - val_loss: 1.0007 - _timestamp: 1670377965.0000 - _runtime: 23.0000\n",
      "Epoch 10/30\n",
      "10/10 [==============================] - 0s 21ms/step - loss: 1.3008 - val_loss: 0.9246 - _timestamp: 1670377965.0000 - _runtime: 23.0000\n",
      "Epoch 11/30\n",
      "10/10 [==============================] - 0s 22ms/step - loss: 1.0399 - val_loss: 0.8852 - _timestamp: 1670377966.0000 - _runtime: 24.0000\n",
      "Epoch 12/30\n",
      "10/10 [==============================] - 0s 24ms/step - loss: 1.0248 - val_loss: 0.8612 - _timestamp: 1670377966.0000 - _runtime: 24.0000\n",
      "Epoch 13/30\n",
      "10/10 [==============================] - 0s 16ms/step - loss: 1.0344 - val_loss: 1.0103 - _timestamp: 1670377966.0000 - _runtime: 24.0000\n",
      "Epoch 14/30\n",
      "10/10 [==============================] - 0s 9ms/step - loss: 1.1094 - val_loss: 0.9031 - _timestamp: 1670377966.0000 - _runtime: 24.0000\n",
      "Epoch 15/30\n",
      "10/10 [==============================] - 0s 15ms/step - loss: 0.9692 - val_loss: 0.8715 - _timestamp: 1670377966.0000 - _runtime: 24.0000\n",
      "Epoch 16/30\n",
      "10/10 [==============================] - 0s 23ms/step - loss: 0.9375 - val_loss: 0.7877 - _timestamp: 1670377966.0000 - _runtime: 24.0000\n",
      "Epoch 17/30\n",
      "10/10 [==============================] - 0s 22ms/step - loss: 0.9187 - val_loss: 0.7940 - _timestamp: 1670377967.0000 - _runtime: 25.0000\n",
      "Epoch 18/30\n",
      "10/10 [==============================] - 0s 29ms/step - loss: 0.9050 - val_loss: 0.8118 - _timestamp: 1670377967.0000 - _runtime: 25.0000\n",
      "Epoch 19/30\n",
      "10/10 [==============================] - 0s 40ms/step - loss: 0.8432 - val_loss: 0.7607 - _timestamp: 1670377967.0000 - _runtime: 25.0000\n",
      "Epoch 20/30\n",
      "10/10 [==============================] - 0s 9ms/step - loss: 0.8279 - val_loss: 0.7818 - _timestamp: 1670377968.0000 - _runtime: 26.0000\n",
      "Epoch 21/30\n",
      "10/10 [==============================] - 0s 22ms/step - loss: 0.8203 - val_loss: 0.7248 - _timestamp: 1670377968.0000 - _runtime: 26.0000\n",
      "Epoch 22/30\n",
      "10/10 [==============================] - 0s 34ms/step - loss: 0.7898 - val_loss: 0.7809 - _timestamp: 1670377968.0000 - _runtime: 26.0000\n",
      "Epoch 23/30\n",
      "10/10 [==============================] - 0s 28ms/step - loss: 0.8187 - val_loss: 0.7174 - _timestamp: 1670377968.0000 - _runtime: 26.0000\n",
      "Epoch 24/30\n",
      "10/10 [==============================] - 0s 24ms/step - loss: 0.7883 - val_loss: 0.6915 - _timestamp: 1670377969.0000 - _runtime: 27.0000\n",
      "Epoch 25/30\n",
      "10/10 [==============================] - 0s 13ms/step - loss: 0.7871 - val_loss: 0.7219 - _timestamp: 1670377969.0000 - _runtime: 27.0000\n",
      "Epoch 26/30\n",
      "10/10 [==============================] - 0s 11ms/step - loss: 0.7846 - val_loss: 0.6980 - _timestamp: 1670377969.0000 - _runtime: 27.0000\n",
      "Epoch 27/30\n",
      "10/10 [==============================] - 0s 20ms/step - loss: 0.7751 - val_loss: 0.6794 - _timestamp: 1670377969.0000 - _runtime: 27.0000\n",
      "Epoch 28/30\n",
      "10/10 [==============================] - 0s 17ms/step - loss: 0.7672 - val_loss: 0.6607 - _timestamp: 1670377969.0000 - _runtime: 27.0000\n",
      "Epoch 29/30\n",
      "10/10 [==============================] - 0s 10ms/step - loss: 0.7125 - val_loss: 0.6643 - _timestamp: 1670377969.0000 - _runtime: 27.0000\n",
      "Epoch 30/30\n",
      "10/10 [==============================] - 0s 12ms/step - loss: 0.7355 - val_loss: 0.6727 - _timestamp: 1670377969.0000 - _runtime: 27.0000\n"
     ]
    },
    {
     "data": {
      "text/html": [
       "Waiting for W&B process to finish... <strong style=\"color:green\">(success).</strong>"
      ],
      "text/plain": [
       "<IPython.core.display.HTML object>"
      ]
     },
     "metadata": {},
     "output_type": "display_data"
    },
    {
     "name": "stderr",
     "output_type": "stream",
     "text": [
      "wandb: ERROR Dropped streaming file chunk (see wandb/debug-internal.log)\n",
      "ERROR:root:dropped chunk 404 Client Error: Not Found for url: https://api.wandb.ai/files/ghirsch/Astro101_project_v4/37woihe7/file_stream\n",
      "NoneType: None\n"
     ]
    },
    {
     "data": {
      "application/vnd.jupyter.widget-view+json": {
       "model_id": "5d61d1f13d674dc3ba48c796d0ce573a",
       "version_major": 2,
       "version_minor": 0
      },
      "text/plain": [
       "VBox(children=(Label(value='0.000 MB of 1.912 MB uploaded (0.000 MB deduped)\\r'), FloatProgress(value=0.0, max…"
      ]
     },
     "metadata": {},
     "output_type": "display_data"
    },
    {
     "data": {
      "text/html": [
       "<style>\n",
       "    table.wandb td:nth-child(1) { padding: 0 10px; text-align: left ; width: auto;} td:nth-child(2) {text-align: left ; width: 100%}\n",
       "    .wandb-row { display: flex; flex-direction: row; flex-wrap: wrap; justify-content: flex-start; width: 100% }\n",
       "    .wandb-col { display: flex; flex-direction: column; flex-basis: 100%; flex: 1; padding: 10px; }\n",
       "    </style>\n",
       "<div class=\"wandb-row\"><div class=\"wandb-col\"><h3>Run history:</h3><br/><table class=\"wandb\"><tr><td>epoch</td><td>▁▁▁▂▂▂▂▃▃▃▃▄▄▄▄▅▅▅▅▆▆▆▆▇▇▇▇███</td></tr><tr><td>loss</td><td>█▃▂▁▁▁▁▁▁▁▁▁▁▁▁▁▁▁▁▁▁▁▁▁▁▁▁▁▁▁</td></tr><tr><td>val_loss</td><td>█▃▂▁▁▁▁▁▁▁▁▁▁▁▁▁▁▁▁▁▁▁▁▁▁▁▁▁▁▁</td></tr></table><br/></div><div class=\"wandb-col\"><h3>Run summary:</h3><br/><table class=\"wandb\"><tr><td>best_epoch</td><td>27</td></tr><tr><td>best_val_loss</td><td>0.6607</td></tr><tr><td>epoch</td><td>29</td></tr><tr><td>loss</td><td>0.73546</td></tr><tr><td>val_loss</td><td>0.67269</td></tr></table><br/></div></div>"
      ],
      "text/plain": [
       "<IPython.core.display.HTML object>"
      ]
     },
     "metadata": {},
     "output_type": "display_data"
    },
    {
     "data": {
      "text/html": [
       "Synced <strong style=\"color:#cdcd00\">golden-sweep-8</strong>: <a href=\"https://wandb.ai/ghirsch/Astro101_project_v4/runs/hdtkjmie\" target=\"_blank\">https://wandb.ai/ghirsch/Astro101_project_v4/runs/hdtkjmie</a><br/>Synced 6 W&B file(s), 1 media file(s), 0 artifact file(s) and 1 other file(s)"
      ],
      "text/plain": [
       "<IPython.core.display.HTML object>"
      ]
     },
     "metadata": {},
     "output_type": "display_data"
    },
    {
     "data": {
      "text/html": [
       "Find logs at: <code>./wandb/run-20221206_175222-hdtkjmie/logs</code>"
      ],
      "text/plain": [
       "<IPython.core.display.HTML object>"
      ]
     },
     "metadata": {},
     "output_type": "display_data"
    },
    {
     "name": "stderr",
     "output_type": "stream",
     "text": [
      "\u001b[34m\u001b[1mwandb\u001b[0m: Agent Starting Run: 3y8c37i5 with config:\n",
      "\u001b[34m\u001b[1mwandb\u001b[0m: \tbatch_size: 64\n",
      "\u001b[34m\u001b[1mwandb\u001b[0m: \tdropout: 0.35765749152690784\n",
      "\u001b[34m\u001b[1mwandb\u001b[0m: \tepochs: 80\n",
      "\u001b[34m\u001b[1mwandb\u001b[0m: \tlearning_rate: 0.08892715405011861\n",
      "\u001b[34m\u001b[1mwandb\u001b[0m: \tsize_1: 87\n",
      "\u001b[34m\u001b[1mwandb\u001b[0m: \tsize_2: 251\n",
      "\u001b[34m\u001b[1mwandb\u001b[0m: \tsize_3: 219\n",
      "\u001b[34m\u001b[1mwandb\u001b[0m: \tsize_4: 111\n",
      "\u001b[34m\u001b[1mwandb\u001b[0m: \tsize_5: 214\n",
      "wandb: ERROR Dropped streaming file chunk (see wandb/debug-internal.log)\n",
      "ERROR:root:dropped chunk 404 Client Error: Not Found for url: https://api.wandb.ai/files/ghirsch/Astro101_project_v4/37woihe7/file_stream\n",
      "NoneType: None\n"
     ]
    },
    {
     "data": {
      "text/html": [
       "wandb version 0.13.6 is available!  To upgrade, please run:\n",
       " $ pip install wandb --upgrade"
      ],
      "text/plain": [
       "<IPython.core.display.HTML object>"
      ]
     },
     "metadata": {},
     "output_type": "display_data"
    },
    {
     "data": {
      "text/html": [
       "Tracking run with wandb version 0.12.20"
      ],
      "text/plain": [
       "<IPython.core.display.HTML object>"
      ]
     },
     "metadata": {},
     "output_type": "display_data"
    },
    {
     "data": {
      "text/html": [
       "Run data is saved locally in <code>/Users/morty/a101_comp/NN_Tutorial/NN_Tutorial_2/Graham-Data-Processing/nn_v0.0.1/wandb/run-20221206_175317-3y8c37i5</code>"
      ],
      "text/plain": [
       "<IPython.core.display.HTML object>"
      ]
     },
     "metadata": {},
     "output_type": "display_data"
    },
    {
     "data": {
      "text/html": [
       "Syncing run <strong><a href=\"https://wandb.ai/ghirsch/Astro101_project_v4/runs/3y8c37i5\" target=\"_blank\">charmed-sweep-9</a></strong> to <a href=\"https://wandb.ai/ghirsch/Astro101_project_v4\" target=\"_blank\">Weights & Biases</a> (<a href=\"https://wandb.me/run\" target=\"_blank\">docs</a>)<br/>Sweep page:  <a href=\"https://wandb.ai/ghirsch/Astro101_project_v4/sweeps/9sbj5834\" target=\"_blank\">https://wandb.ai/ghirsch/Astro101_project_v4/sweeps/9sbj5834</a>"
      ],
      "text/plain": [
       "<IPython.core.display.HTML object>"
      ]
     },
     "metadata": {},
     "output_type": "display_data"
    },
    {
     "name": "stdout",
     "output_type": "stream",
     "text": [
      "Epoch 1/80\n",
      "15/15 [==============================] - 3s 79ms/step - loss: 47327.7266 - val_loss: 6624.9155 - _timestamp: 1670378021.0000 - _runtime: 24.0000\n",
      "Epoch 2/80\n",
      "15/15 [==============================] - 0s 20ms/step - loss: 14044.4824 - val_loss: 5669.8062 - _timestamp: 1670378021.0000 - _runtime: 24.0000\n",
      "Epoch 3/80\n",
      "15/15 [==============================] - 0s 14ms/step - loss: 5229.3647 - val_loss: 1324.4884 - _timestamp: 1670378022.0000 - _runtime: 25.0000\n",
      "Epoch 4/80\n",
      "15/15 [==============================] - 0s 24ms/step - loss: 780.5398 - val_loss: 241.3011 - _timestamp: 1670378022.0000 - _runtime: 25.0000\n",
      "Epoch 5/80\n",
      "15/15 [==============================] - 1s 33ms/step - loss: 255.2493 - val_loss: 110.9538 - _timestamp: 1670378022.0000 - _runtime: 25.0000\n",
      "Epoch 6/80\n",
      "15/15 [==============================] - 0s 25ms/step - loss: 93.7052 - val_loss: 33.7438 - _timestamp: 1670378023.0000 - _runtime: 26.0000\n",
      "Epoch 7/80\n",
      "15/15 [==============================] - 0s 19ms/step - loss: 40.6951 - val_loss: 22.2270 - _timestamp: 1670378023.0000 - _runtime: 26.0000\n",
      "Epoch 8/80\n",
      "15/15 [==============================] - 0s 18ms/step - loss: 22.8215 - val_loss: 8.9234 - _timestamp: 1670378023.0000 - _runtime: 26.0000\n",
      "Epoch 9/80\n",
      "15/15 [==============================] - 0s 10ms/step - loss: 15.7989 - val_loss: 10.4129 - _timestamp: 1670378024.0000 - _runtime: 27.0000\n",
      "Epoch 10/80\n",
      "15/15 [==============================] - 0s 19ms/step - loss: 11.9551 - val_loss: 3.8430 - _timestamp: 1670378024.0000 - _runtime: 27.0000\n",
      "Epoch 11/80\n",
      "15/15 [==============================] - 0s 13ms/step - loss: 10.2789 - val_loss: 4.6828 - _timestamp: 1670378024.0000 - _runtime: 27.0000\n",
      "Epoch 12/80\n",
      "15/15 [==============================] - 0s 12ms/step - loss: 9.0837 - val_loss: 7.4064 - _timestamp: 1670378024.0000 - _runtime: 27.0000\n",
      "Epoch 13/80\n",
      "15/15 [==============================] - 0s 12ms/step - loss: 10.0569 - val_loss: 3.8491 - _timestamp: 1670378025.0000 - _runtime: 28.0000\n",
      "Epoch 14/80\n",
      "15/15 [==============================] - 0s 16ms/step - loss: 6.6494 - val_loss: 3.7322 - _timestamp: 1670378025.0000 - _runtime: 28.0000\n",
      "Epoch 15/80\n",
      "15/15 [==============================] - 0s 20ms/step - loss: 6.8398 - val_loss: 3.3107 - _timestamp: 1670378025.0000 - _runtime: 28.0000\n",
      "Epoch 16/80\n",
      "15/15 [==============================] - 0s 22ms/step - loss: 6.8237 - val_loss: 1.9261 - _timestamp: 1670378025.0000 - _runtime: 28.0000\n",
      "Epoch 17/80\n",
      "15/15 [==============================] - 0s 13ms/step - loss: 5.9210 - val_loss: 2.0173 - _timestamp: 1670378026.0000 - _runtime: 29.0000\n",
      "Epoch 18/80\n",
      "15/15 [==============================] - 0s 15ms/step - loss: 6.0077 - val_loss: 2.8981 - _timestamp: 1670378026.0000 - _runtime: 29.0000\n",
      "Epoch 19/80\n",
      "15/15 [==============================] - 0s 29ms/step - loss: 5.4907 - val_loss: 3.3076 - _timestamp: 1670378026.0000 - _runtime: 29.0000\n",
      "Epoch 20/80\n",
      "15/15 [==============================] - 0s 16ms/step - loss: 5.2997 - val_loss: 3.2076 - _timestamp: 1670378026.0000 - _runtime: 29.0000\n",
      "Epoch 21/80\n",
      "15/15 [==============================] - 0s 15ms/step - loss: 4.6078 - val_loss: 2.1426 - _timestamp: 1670378027.0000 - _runtime: 30.0000\n",
      "Epoch 22/80\n",
      "15/15 [==============================] - 0s 11ms/step - loss: 4.7459 - val_loss: 2.4563 - _timestamp: 1670378027.0000 - _runtime: 30.0000\n",
      "Epoch 23/80\n",
      "15/15 [==============================] - 0s 17ms/step - loss: 4.5321 - val_loss: 1.5166 - _timestamp: 1670378027.0000 - _runtime: 30.0000\n",
      "Epoch 24/80\n",
      "15/15 [==============================] - 0s 10ms/step - loss: 4.8888 - val_loss: 2.3362 - _timestamp: 1670378027.0000 - _runtime: 30.0000\n",
      "Epoch 25/80\n",
      "15/15 [==============================] - 0s 16ms/step - loss: 4.6999 - val_loss: 1.7544 - _timestamp: 1670378027.0000 - _runtime: 30.0000\n",
      "Epoch 26/80\n",
      "15/15 [==============================] - 0s 23ms/step - loss: 3.8350 - val_loss: 3.1242 - _timestamp: 1670378028.0000 - _runtime: 31.0000\n",
      "Epoch 27/80\n",
      "15/15 [==============================] - 0s 14ms/step - loss: 3.5389 - val_loss: 2.9529 - _timestamp: 1670378028.0000 - _runtime: 31.0000\n",
      "Epoch 28/80\n",
      "15/15 [==============================] - 0s 11ms/step - loss: 3.8070 - val_loss: 2.5668 - _timestamp: 1670378028.0000 - _runtime: 31.0000\n",
      "Epoch 29/80\n",
      "15/15 [==============================] - 1s 40ms/step - loss: 3.5933 - val_loss: 1.4662 - _timestamp: 1670378028.0000 - _runtime: 31.0000\n",
      "Epoch 30/80\n",
      "15/15 [==============================] - 0s 27ms/step - loss: 3.3803 - val_loss: 1.2544 - _timestamp: 1670378029.0000 - _runtime: 32.0000\n",
      "Epoch 31/80\n",
      "15/15 [==============================] - 0s 10ms/step - loss: 3.4961 - val_loss: 2.7454 - _timestamp: 1670378029.0000 - _runtime: 32.0000\n",
      "Epoch 32/80\n",
      "15/15 [==============================] - 0s 33ms/step - loss: 3.8226 - val_loss: 1.4560 - _timestamp: 1670378030.0000 - _runtime: 33.0000\n",
      "Epoch 33/80\n",
      "15/15 [==============================] - 0s 14ms/step - loss: 2.8756 - val_loss: 1.3007 - _timestamp: 1670378030.0000 - _runtime: 33.0000\n",
      "Epoch 34/80\n",
      "15/15 [==============================] - 0s 13ms/step - loss: 2.9565 - val_loss: 1.5808 - _timestamp: 1670378030.0000 - _runtime: 33.0000\n",
      "Epoch 35/80\n",
      "15/15 [==============================] - 0s 18ms/step - loss: 2.9249 - val_loss: 2.0600 - _timestamp: 1670378030.0000 - _runtime: 33.0000\n",
      "Epoch 36/80\n",
      "15/15 [==============================] - 1s 45ms/step - loss: 2.8014 - val_loss: 1.2020 - _timestamp: 1670378031.0000 - _runtime: 34.0000\n",
      "Epoch 37/80\n",
      "15/15 [==============================] - 0s 29ms/step - loss: 2.5187 - val_loss: 1.5174 - _timestamp: 1670378032.0000 - _runtime: 35.0000\n",
      "Epoch 38/80\n",
      "15/15 [==============================] - 1s 50ms/step - loss: 2.5429 - val_loss: 1.3831 - _timestamp: 1670378032.0000 - _runtime: 35.0000\n",
      "Epoch 39/80\n",
      "15/15 [==============================] - 1s 39ms/step - loss: 3.1367 - val_loss: 0.9634 - _timestamp: 1670378033.0000 - _runtime: 36.0000\n",
      "Epoch 40/80\n",
      "15/15 [==============================] - 0s 35ms/step - loss: 2.5083 - val_loss: 1.4764 - _timestamp: 1670378033.0000 - _runtime: 36.0000\n",
      "Epoch 41/80\n",
      "15/15 [==============================] - 0s 32ms/step - loss: 2.7446 - val_loss: 1.7541 - _timestamp: 1670378034.0000 - _runtime: 37.0000\n",
      "Epoch 42/80\n",
      "15/15 [==============================] - 0s 17ms/step - loss: 2.5782 - val_loss: 1.5235 - _timestamp: 1670378034.0000 - _runtime: 37.0000\n",
      "Epoch 43/80\n",
      "15/15 [==============================] - 0s 27ms/step - loss: 2.7452 - val_loss: 0.9922 - _timestamp: 1670378034.0000 - _runtime: 37.0000\n",
      "Epoch 44/80\n",
      "15/15 [==============================] - 1s 42ms/step - loss: 2.7192 - val_loss: 1.4739 - _timestamp: 1670378035.0000 - _runtime: 38.0000\n",
      "Epoch 45/80\n",
      "15/15 [==============================] - 0s 19ms/step - loss: 2.0222 - val_loss: 0.9646 - _timestamp: 1670378035.0000 - _runtime: 38.0000\n",
      "Epoch 46/80\n",
      "15/15 [==============================] - 0s 34ms/step - loss: 1.8741 - val_loss: 0.9668 - _timestamp: 1670378036.0000 - _runtime: 39.0000\n",
      "Epoch 47/80\n",
      "15/15 [==============================] - 0s 34ms/step - loss: 1.8630 - val_loss: 1.2148 - _timestamp: 1670378036.0000 - _runtime: 39.0000\n",
      "Epoch 48/80\n",
      "15/15 [==============================] - 1s 38ms/step - loss: 1.7400 - val_loss: 1.0212 - _timestamp: 1670378037.0000 - _runtime: 40.0000\n",
      "Epoch 49/80\n",
      "15/15 [==============================] - 1s 39ms/step - loss: 1.8672 - val_loss: 1.0424 - _timestamp: 1670378037.0000 - _runtime: 40.0000\n",
      "Epoch 50/80\n",
      "15/15 [==============================] - ETA: 0s - loss: 1.6341"
     ]
    },
    {
     "name": "stderr",
     "output_type": "stream",
     "text": [
      "wandb: ERROR Dropped streaming file chunk (see wandb/debug-internal.log)\n",
      "ERROR:root:dropped chunk 404 Client Error: Not Found for url: https://api.wandb.ai/files/ghirsch/Astro101_project_v4/37woihe7/file_stream\n",
      "NoneType: None\n"
     ]
    },
    {
     "name": "stdout",
     "output_type": "stream",
     "text": [
      "15/15 [==============================] - 2s 133ms/step - loss: 1.6341 - val_loss: 0.9151 - _timestamp: 1670378038.0000 - _runtime: 41.0000\n",
      "Epoch 51/80\n",
      "15/15 [==============================] - 1s 66ms/step - loss: 1.8373 - val_loss: 0.8365 - _timestamp: 1670378040.0000 - _runtime: 43.0000\n",
      "Epoch 52/80\n",
      "15/15 [==============================] - 1s 58ms/step - loss: 1.6417 - val_loss: 0.9754 - _timestamp: 1670378041.0000 - _runtime: 44.0000\n",
      "Epoch 53/80\n",
      "15/15 [==============================] - 1s 43ms/step - loss: 1.5662 - val_loss: 1.2570 - _timestamp: 1670378042.0000 - _runtime: 45.0000\n",
      "Epoch 54/80\n",
      "15/15 [==============================] - 0s 24ms/step - loss: 1.6765 - val_loss: 0.8929 - _timestamp: 1670378042.0000 - _runtime: 45.0000\n",
      "Epoch 55/80\n",
      "15/15 [==============================] - 1s 82ms/step - loss: 1.6831 - val_loss: 0.8271 - _timestamp: 1670378043.0000 - _runtime: 46.0000\n",
      "Epoch 56/80\n",
      "15/15 [==============================] - 1s 59ms/step - loss: 1.6638 - val_loss: 0.7475 - _timestamp: 1670378044.0000 - _runtime: 47.0000\n",
      "Epoch 57/80\n",
      "15/15 [==============================] - 0s 30ms/step - loss: 1.5792 - val_loss: 0.8309 - _timestamp: 1670378045.0000 - _runtime: 48.0000\n",
      "Epoch 58/80\n",
      "15/15 [==============================] - 0s 26ms/step - loss: 1.4305 - val_loss: 1.0717 - _timestamp: 1670378045.0000 - _runtime: 48.0000\n",
      "Epoch 59/80\n",
      "15/15 [==============================] - 1s 43ms/step - loss: 1.4292 - val_loss: 0.6916 - _timestamp: 1670378045.0000 - _runtime: 48.0000\n",
      "Epoch 60/80\n",
      "15/15 [==============================] - 1s 38ms/step - loss: 1.7672 - val_loss: 0.8213 - _timestamp: 1670378046.0000 - _runtime: 49.0000\n",
      "Epoch 61/80\n",
      "15/15 [==============================] - 0s 14ms/step - loss: 1.5262 - val_loss: 0.8309 - _timestamp: 1670378047.0000 - _runtime: 50.0000\n",
      "Epoch 62/80\n",
      "15/15 [==============================] - 0s 25ms/step - loss: 2.0837 - val_loss: 1.0510 - _timestamp: 1670378047.0000 - _runtime: 50.0000\n",
      "Epoch 63/80\n",
      "15/15 [==============================] - 0s 34ms/step - loss: 1.2440 - val_loss: 0.6736 - _timestamp: 1670378047.0000 - _runtime: 50.0000\n",
      "Epoch 64/80\n",
      "15/15 [==============================] - 0s 10ms/step - loss: 1.3196 - val_loss: 0.6934 - _timestamp: 1670378048.0000 - _runtime: 51.0000\n",
      "Epoch 65/80\n",
      "15/15 [==============================] - 0s 21ms/step - loss: 1.3831 - val_loss: 1.1211 - _timestamp: 1670378048.0000 - _runtime: 51.0000\n",
      "Epoch 66/80\n",
      "15/15 [==============================] - 0s 10ms/step - loss: 1.5273 - val_loss: 0.9045 - _timestamp: 1670378048.0000 - _runtime: 51.0000\n",
      "Epoch 67/80\n",
      "15/15 [==============================] - 0s 21ms/step - loss: 1.2772 - val_loss: 0.6910 - _timestamp: 1670378048.0000 - _runtime: 51.0000\n",
      "Epoch 68/80\n",
      "15/15 [==============================] - 0s 12ms/step - loss: 1.2549 - val_loss: 0.8414 - _timestamp: 1670378049.0000 - _runtime: 52.0000\n",
      "Epoch 69/80\n",
      "15/15 [==============================] - 0s 9ms/step - loss: 1.3870 - val_loss: 0.9411 - _timestamp: 1670378049.0000 - _runtime: 52.0000\n",
      "Epoch 70/80\n",
      "15/15 [==============================] - 0s 10ms/step - loss: 1.3987 - val_loss: 0.7147 - _timestamp: 1670378049.0000 - _runtime: 52.0000\n",
      "Epoch 71/80\n",
      "15/15 [==============================] - 0s 19ms/step - loss: 1.2659 - val_loss: 0.9438 - _timestamp: 1670378049.0000 - _runtime: 52.0000\n",
      "Epoch 72/80\n",
      "15/15 [==============================] - 0s 18ms/step - loss: 1.4382 - val_loss: 0.6414 - _timestamp: 1670378049.0000 - _runtime: 52.0000\n",
      "Epoch 73/80\n",
      "15/15 [==============================] - 0s 17ms/step - loss: 1.3372 - val_loss: 0.8347 - _timestamp: 1670378050.0000 - _runtime: 53.0000\n",
      "Epoch 74/80\n",
      "15/15 [==============================] - 0s 18ms/step - loss: 1.3668 - val_loss: 0.8187 - _timestamp: 1670378050.0000 - _runtime: 53.0000\n",
      "Epoch 75/80\n",
      "15/15 [==============================] - 0s 14ms/step - loss: 1.4144 - val_loss: 0.8931 - _timestamp: 1670378050.0000 - _runtime: 53.0000\n",
      "Epoch 76/80\n",
      "15/15 [==============================] - 0s 19ms/step - loss: 1.3470 - val_loss: 0.6030 - _timestamp: 1670378050.0000 - _runtime: 53.0000\n",
      "Epoch 77/80\n",
      "15/15 [==============================] - 0s 27ms/step - loss: 1.0164 - val_loss: 0.5779 - _timestamp: 1670378051.0000 - _runtime: 54.0000\n",
      "Epoch 78/80\n",
      "15/15 [==============================] - 0s 10ms/step - loss: 1.1521 - val_loss: 0.7651 - _timestamp: 1670378051.0000 - _runtime: 54.0000\n",
      "Epoch 79/80\n",
      "15/15 [==============================] - 0s 10ms/step - loss: 1.1278 - val_loss: 0.5797 - _timestamp: 1670378051.0000 - _runtime: 54.0000\n",
      "Epoch 80/80\n",
      "15/15 [==============================] - 0s 12ms/step - loss: 1.0574 - val_loss: 0.7261 - _timestamp: 1670378051.0000 - _runtime: 54.0000\n"
     ]
    },
    {
     "data": {
      "text/html": [
       "Waiting for W&B process to finish... <strong style=\"color:green\">(success).</strong>"
      ],
      "text/plain": [
       "<IPython.core.display.HTML object>"
      ]
     },
     "metadata": {},
     "output_type": "display_data"
    },
    {
     "data": {
      "application/vnd.jupyter.widget-view+json": {
       "model_id": "142f5cda6bce48c99cbf36d182dc7c48",
       "version_major": 2,
       "version_minor": 0
      },
      "text/plain": [
       "VBox(children=(Label(value='1.528 MB of 1.528 MB uploaded (0.000 MB deduped)\\r'), FloatProgress(value=1.0, max…"
      ]
     },
     "metadata": {},
     "output_type": "display_data"
    },
    {
     "data": {
      "text/html": [
       "<style>\n",
       "    table.wandb td:nth-child(1) { padding: 0 10px; text-align: left ; width: auto;} td:nth-child(2) {text-align: left ; width: 100%}\n",
       "    .wandb-row { display: flex; flex-direction: row; flex-wrap: wrap; justify-content: flex-start; width: 100% }\n",
       "    .wandb-col { display: flex; flex-direction: column; flex-basis: 100%; flex: 1; padding: 10px; }\n",
       "    </style>\n",
       "<div class=\"wandb-row\"><div class=\"wandb-col\"><h3>Run history:</h3><br/><table class=\"wandb\"><tr><td>epoch</td><td>▁▁▁▂▂▂▂▂▂▃▃▃▃▃▃▄▄▄▄▄▅▅▅▅▅▅▆▆▆▆▆▆▇▇▇▇▇███</td></tr><tr><td>loss</td><td>█▂▁▁▁▁▁▁▁▁▁▁▁▁▁▁▁▁▁▁▁▁▁▁▁▁▁▁▁▁▁▁▁▁▁▁▁▁▁▁</td></tr><tr><td>val_loss</td><td>█▂▁▁▁▁▁▁▁▁▁▁▁▁▁▁▁▁▁▁▁▁▁▁▁▁▁▁▁▁▁▁▁▁▁▁▁▁▁▁</td></tr></table><br/></div><div class=\"wandb-col\"><h3>Run summary:</h3><br/><table class=\"wandb\"><tr><td>best_epoch</td><td>76</td></tr><tr><td>best_val_loss</td><td>0.57791</td></tr><tr><td>epoch</td><td>79</td></tr><tr><td>loss</td><td>1.05736</td></tr><tr><td>val_loss</td><td>0.72609</td></tr></table><br/></div></div>"
      ],
      "text/plain": [
       "<IPython.core.display.HTML object>"
      ]
     },
     "metadata": {},
     "output_type": "display_data"
    },
    {
     "data": {
      "text/html": [
       "Synced <strong style=\"color:#cdcd00\">charmed-sweep-9</strong>: <a href=\"https://wandb.ai/ghirsch/Astro101_project_v4/runs/3y8c37i5\" target=\"_blank\">https://wandb.ai/ghirsch/Astro101_project_v4/runs/3y8c37i5</a><br/>Synced 6 W&B file(s), 1 media file(s), 0 artifact file(s) and 1 other file(s)"
      ],
      "text/plain": [
       "<IPython.core.display.HTML object>"
      ]
     },
     "metadata": {},
     "output_type": "display_data"
    },
    {
     "data": {
      "text/html": [
       "Find logs at: <code>./wandb/run-20221206_175317-3y8c37i5/logs</code>"
      ],
      "text/plain": [
       "<IPython.core.display.HTML object>"
      ]
     },
     "metadata": {},
     "output_type": "display_data"
    },
    {
     "name": "stderr",
     "output_type": "stream",
     "text": [
      "\u001b[34m\u001b[1mwandb\u001b[0m: Sweep Agent: Waiting for job.\n",
      "wandb: ERROR Dropped streaming file chunk (see wandb/debug-internal.log)\n",
      "ERROR:root:dropped chunk 404 Client Error: Not Found for url: https://api.wandb.ai/files/ghirsch/Astro101_project_v4/37woihe7/file_stream\n",
      "NoneType: None\n",
      "wandb: ERROR Dropped streaming file chunk (see wandb/debug-internal.log)\n",
      "ERROR:root:dropped chunk 404 Client Error: Not Found for url: https://api.wandb.ai/files/ghirsch/Astro101_project_v4/37woihe7/file_stream\n",
      "NoneType: None\n",
      "\u001b[34m\u001b[1mwandb\u001b[0m: Job received.\n",
      "\u001b[34m\u001b[1mwandb\u001b[0m: Agent Starting Run: b3km3p2n with config:\n",
      "\u001b[34m\u001b[1mwandb\u001b[0m: \tbatch_size: 96\n",
      "\u001b[34m\u001b[1mwandb\u001b[0m: \tdropout: 0.05466308172079746\n",
      "\u001b[34m\u001b[1mwandb\u001b[0m: \tepochs: 60\n",
      "\u001b[34m\u001b[1mwandb\u001b[0m: \tlearning_rate: 0.07590683471544746\n",
      "\u001b[34m\u001b[1mwandb\u001b[0m: \tsize_1: 251\n",
      "\u001b[34m\u001b[1mwandb\u001b[0m: \tsize_2: 166\n",
      "\u001b[34m\u001b[1mwandb\u001b[0m: \tsize_3: 235\n",
      "\u001b[34m\u001b[1mwandb\u001b[0m: \tsize_4: 123\n",
      "\u001b[34m\u001b[1mwandb\u001b[0m: \tsize_5: 189\n"
     ]
    },
    {
     "data": {
      "text/html": [
       "wandb version 0.13.6 is available!  To upgrade, please run:\n",
       " $ pip install wandb --upgrade"
      ],
      "text/plain": [
       "<IPython.core.display.HTML object>"
      ]
     },
     "metadata": {},
     "output_type": "display_data"
    },
    {
     "data": {
      "text/html": [
       "Tracking run with wandb version 0.12.20"
      ],
      "text/plain": [
       "<IPython.core.display.HTML object>"
      ]
     },
     "metadata": {},
     "output_type": "display_data"
    },
    {
     "data": {
      "text/html": [
       "Run data is saved locally in <code>/Users/morty/a101_comp/NN_Tutorial/NN_Tutorial_2/Graham-Data-Processing/nn_v0.0.1/wandb/run-20221206_175515-b3km3p2n</code>"
      ],
      "text/plain": [
       "<IPython.core.display.HTML object>"
      ]
     },
     "metadata": {},
     "output_type": "display_data"
    },
    {
     "data": {
      "text/html": [
       "Syncing run <strong><a href=\"https://wandb.ai/ghirsch/Astro101_project_v4/runs/b3km3p2n\" target=\"_blank\">logical-sweep-10</a></strong> to <a href=\"https://wandb.ai/ghirsch/Astro101_project_v4\" target=\"_blank\">Weights & Biases</a> (<a href=\"https://wandb.me/run\" target=\"_blank\">docs</a>)<br/>Sweep page:  <a href=\"https://wandb.ai/ghirsch/Astro101_project_v4/sweeps/9sbj5834\" target=\"_blank\">https://wandb.ai/ghirsch/Astro101_project_v4/sweeps/9sbj5834</a>"
      ],
      "text/plain": [
       "<IPython.core.display.HTML object>"
      ]
     },
     "metadata": {},
     "output_type": "display_data"
    },
    {
     "name": "stderr",
     "output_type": "stream",
     "text": [
      "wandb: ERROR Dropped streaming file chunk (see wandb/debug-internal.log)\n",
      "ERROR:root:dropped chunk 404 Client Error: Not Found for url: https://api.wandb.ai/files/ghirsch/Astro101_project_v4/37woihe7/file_stream\n",
      "NoneType: None\n"
     ]
    },
    {
     "name": "stdout",
     "output_type": "stream",
     "text": [
      "Epoch 1/60\n",
      "10/10 [==============================] - 1s 32ms/step - loss: 36131.6172 - val_loss: 17287.1484 - _timestamp: 1670378132.0000 - _runtime: 17.0000\n",
      "Epoch 2/60\n",
      "10/10 [==============================] - 0s 6ms/step - loss: 24636.0059 - val_loss: 41744.3086 - _timestamp: 1670378132.0000 - _runtime: 17.0000\n",
      "Epoch 3/60\n",
      "10/10 [==============================] - 0s 10ms/step - loss: 28593.1797 - val_loss: 14365.3232 - _timestamp: 1670378132.0000 - _runtime: 17.0000\n",
      "Epoch 4/60\n",
      "10/10 [==============================] - 0s 10ms/step - loss: 4746.3599 - val_loss: 1525.1063 - _timestamp: 1670378132.0000 - _runtime: 17.0000\n",
      "Epoch 5/60\n",
      "10/10 [==============================] - 0s 6ms/step - loss: 2428.8174 - val_loss: 2433.9419 - _timestamp: 1670378133.0000 - _runtime: 18.0000\n",
      "Epoch 6/60\n",
      "10/10 [==============================] - 0s 10ms/step - loss: 1448.1326 - val_loss: 1236.1682 - _timestamp: 1670378133.0000 - _runtime: 18.0000\n",
      "Epoch 7/60\n",
      "10/10 [==============================] - 0s 11ms/step - loss: 565.4786 - val_loss: 66.7056 - _timestamp: 1670378133.0000 - _runtime: 18.0000\n",
      "Epoch 8/60\n",
      "10/10 [==============================] - 0s 7ms/step - loss: 123.6493 - val_loss: 100.2344 - _timestamp: 1670378133.0000 - _runtime: 18.0000\n",
      "Epoch 9/60\n",
      "10/10 [==============================] - 0s 11ms/step - loss: 81.7000 - val_loss: 36.8422 - _timestamp: 1670378133.0000 - _runtime: 18.0000\n",
      "Epoch 10/60\n",
      "10/10 [==============================] - 0s 13ms/step - loss: 26.6144 - val_loss: 12.9614 - _timestamp: 1670378133.0000 - _runtime: 18.0000\n",
      "Epoch 11/60\n",
      "10/10 [==============================] - 0s 14ms/step - loss: 16.8068 - val_loss: 9.6136 - _timestamp: 1670378133.0000 - _runtime: 18.0000\n",
      "Epoch 12/60\n",
      "10/10 [==============================] - 0s 13ms/step - loss: 10.8087 - val_loss: 7.2198 - _timestamp: 1670378133.0000 - _runtime: 18.0000\n",
      "Epoch 13/60\n",
      "10/10 [==============================] - 0s 12ms/step - loss: 10.3092 - val_loss: 5.6499 - _timestamp: 1670378133.0000 - _runtime: 18.0000\n",
      "Epoch 14/60\n",
      "10/10 [==============================] - 0s 10ms/step - loss: 8.2111 - val_loss: 5.0320 - _timestamp: 1670378133.0000 - _runtime: 18.0000\n",
      "Epoch 15/60\n",
      "10/10 [==============================] - 0s 10ms/step - loss: 6.7008 - val_loss: 4.2646 - _timestamp: 1670378134.0000 - _runtime: 19.0000\n",
      "Epoch 16/60\n",
      "10/10 [==============================] - 0s 10ms/step - loss: 6.4868 - val_loss: 3.4882 - _timestamp: 1670378134.0000 - _runtime: 19.0000\n",
      "Epoch 17/60\n",
      "10/10 [==============================] - 0s 10ms/step - loss: 5.9409 - val_loss: 2.9880 - _timestamp: 1670378134.0000 - _runtime: 19.0000\n",
      "Epoch 18/60\n",
      "10/10 [==============================] - 0s 13ms/step - loss: 4.8383 - val_loss: 2.6970 - _timestamp: 1670378134.0000 - _runtime: 19.0000\n",
      "Epoch 19/60\n",
      "10/10 [==============================] - 0s 15ms/step - loss: 4.9126 - val_loss: 2.6110 - _timestamp: 1670378134.0000 - _runtime: 19.0000\n",
      "Epoch 20/60\n",
      "10/10 [==============================] - 0s 12ms/step - loss: 3.9073 - val_loss: 3.7031 - _timestamp: 1670378134.0000 - _runtime: 19.0000\n",
      "Epoch 21/60\n",
      "10/10 [==============================] - 0s 15ms/step - loss: 4.7973 - val_loss: 2.5407 - _timestamp: 1670378134.0000 - _runtime: 19.0000\n",
      "Epoch 22/60\n",
      "10/10 [==============================] - 0s 14ms/step - loss: 5.5324 - val_loss: 2.2344 - _timestamp: 1670378134.0000 - _runtime: 19.0000\n",
      "Epoch 23/60\n",
      "10/10 [==============================] - 0s 8ms/step - loss: 4.2240 - val_loss: 3.4740 - _timestamp: 1670378135.0000 - _runtime: 20.0000\n",
      "Epoch 24/60\n",
      "10/10 [==============================] - 0s 7ms/step - loss: 4.7904 - val_loss: 2.7123 - _timestamp: 1670378135.0000 - _runtime: 20.0000\n",
      "Epoch 25/60\n",
      "10/10 [==============================] - 0s 7ms/step - loss: 3.8593 - val_loss: 2.3580 - _timestamp: 1670378135.0000 - _runtime: 20.0000\n",
      "Epoch 26/60\n",
      "10/10 [==============================] - 0s 15ms/step - loss: 3.3209 - val_loss: 1.6841 - _timestamp: 1670378135.0000 - _runtime: 20.0000\n",
      "Epoch 27/60\n",
      "10/10 [==============================] - 0s 9ms/step - loss: 3.2274 - val_loss: 2.1980 - _timestamp: 1670378135.0000 - _runtime: 20.0000\n",
      "Epoch 28/60\n",
      "10/10 [==============================] - 0s 9ms/step - loss: 2.8373 - val_loss: 2.3540 - _timestamp: 1670378135.0000 - _runtime: 20.0000\n",
      "Epoch 29/60\n",
      "10/10 [==============================] - 0s 11ms/step - loss: 3.1658 - val_loss: 1.7107 - _timestamp: 1670378135.0000 - _runtime: 20.0000\n",
      "Epoch 30/60\n",
      "10/10 [==============================] - 0s 17ms/step - loss: 2.5311 - val_loss: 1.3992 - _timestamp: 1670378135.0000 - _runtime: 20.0000\n",
      "Epoch 31/60\n",
      "10/10 [==============================] - 0s 9ms/step - loss: 2.4425 - val_loss: 1.7210 - _timestamp: 1670378135.0000 - _runtime: 20.0000\n",
      "Epoch 32/60\n",
      "10/10 [==============================] - 0s 9ms/step - loss: 2.8930 - val_loss: 1.4681 - _timestamp: 1670378135.0000 - _runtime: 20.0000\n",
      "Epoch 33/60\n",
      "10/10 [==============================] - 0s 12ms/step - loss: 2.4758 - val_loss: 1.4666 - _timestamp: 1670378136.0000 - _runtime: 21.0000\n",
      "Epoch 34/60\n",
      "10/10 [==============================] - 0s 10ms/step - loss: 2.3902 - val_loss: 2.0760 - _timestamp: 1670378136.0000 - _runtime: 21.0000\n",
      "Epoch 35/60\n",
      "10/10 [==============================] - 0s 9ms/step - loss: 2.5142 - val_loss: 1.5945 - _timestamp: 1670378136.0000 - _runtime: 21.0000\n",
      "Epoch 36/60\n",
      "10/10 [==============================] - 0s 27ms/step - loss: 2.1067 - val_loss: 1.7901 - _timestamp: 1670378136.0000 - _runtime: 21.0000\n",
      "Epoch 37/60\n",
      "10/10 [==============================] - 0s 10ms/step - loss: 1.9100 - val_loss: 1.6491 - _timestamp: 1670378136.0000 - _runtime: 21.0000\n",
      "Epoch 38/60\n",
      "10/10 [==============================] - 0s 18ms/step - loss: 2.1276 - val_loss: 1.3396 - _timestamp: 1670378136.0000 - _runtime: 21.0000\n",
      "Epoch 39/60\n",
      "10/10 [==============================] - 0s 9ms/step - loss: 1.8647 - val_loss: 1.7316 - _timestamp: 1670378136.0000 - _runtime: 21.0000\n",
      "Epoch 40/60\n",
      "10/10 [==============================] - 0s 9ms/step - loss: 2.0305 - val_loss: 1.8573 - _timestamp: 1670378136.0000 - _runtime: 21.0000\n",
      "Epoch 41/60\n",
      "10/10 [==============================] - 0s 7ms/step - loss: 2.0072 - val_loss: 1.4380 - _timestamp: 1670378137.0000 - _runtime: 22.0000\n",
      "Epoch 42/60\n",
      "10/10 [==============================] - 0s 18ms/step - loss: 1.8547 - val_loss: 1.3269 - _timestamp: 1670378137.0000 - _runtime: 22.0000\n",
      "Epoch 43/60\n",
      "10/10 [==============================] - 0s 10ms/step - loss: 1.9149 - val_loss: 1.5112 - _timestamp: 1670378137.0000 - _runtime: 22.0000\n",
      "Epoch 44/60\n",
      "10/10 [==============================] - 0s 10ms/step - loss: 2.0002 - val_loss: 1.7543 - _timestamp: 1670378137.0000 - _runtime: 22.0000\n",
      "Epoch 45/60\n",
      "10/10 [==============================] - 0s 10ms/step - loss: 1.7071 - val_loss: 1.8485 - _timestamp: 1670378137.0000 - _runtime: 22.0000\n",
      "Epoch 46/60\n",
      "10/10 [==============================] - 0s 15ms/step - loss: 1.9243 - val_loss: 1.3193 - _timestamp: 1670378137.0000 - _runtime: 22.0000\n",
      "Epoch 47/60\n",
      "10/10 [==============================] - 0s 19ms/step - loss: 1.5597 - val_loss: 1.0143 - _timestamp: 1670378137.0000 - _runtime: 22.0000\n",
      "Epoch 48/60\n",
      "10/10 [==============================] - 0s 16ms/step - loss: 1.5869 - val_loss: 1.2770 - _timestamp: 1670378137.0000 - _runtime: 22.0000\n",
      "Epoch 49/60\n",
      "10/10 [==============================] - 0s 13ms/step - loss: 1.4914 - val_loss: 1.5438 - _timestamp: 1670378138.0000 - _runtime: 23.0000\n",
      "Epoch 50/60\n",
      "10/10 [==============================] - 0s 18ms/step - loss: 1.7268 - val_loss: 0.9731 - _timestamp: 1670378138.0000 - _runtime: 23.0000\n",
      "Epoch 51/60\n",
      "10/10 [==============================] - 0s 15ms/step - loss: 1.3557 - val_loss: 0.9422 - _timestamp: 1670378138.0000 - _runtime: 23.0000\n",
      "Epoch 52/60\n",
      "10/10 [==============================] - 0s 8ms/step - loss: 1.5137 - val_loss: 1.5332 - _timestamp: 1670378138.0000 - _runtime: 23.0000\n",
      "Epoch 53/60\n",
      "10/10 [==============================] - 0s 9ms/step - loss: 1.8111 - val_loss: 1.2946 - _timestamp: 1670378138.0000 - _runtime: 23.0000\n",
      "Epoch 54/60\n",
      "10/10 [==============================] - 0s 10ms/step - loss: 1.4490 - val_loss: 1.1020 - _timestamp: 1670378138.0000 - _runtime: 23.0000\n",
      "Epoch 55/60\n",
      "10/10 [==============================] - 0s 17ms/step - loss: 1.2257 - val_loss: 0.9371 - _timestamp: 1670378138.0000 - _runtime: 23.0000\n",
      "Epoch 56/60\n",
      "10/10 [==============================] - 0s 17ms/step - loss: 1.4097 - val_loss: 0.9344 - _timestamp: 1670378138.0000 - _runtime: 23.0000\n",
      "Epoch 57/60\n",
      "10/10 [==============================] - 0s 30ms/step - loss: 1.2746 - val_loss: 1.0476 - _timestamp: 1670378139.0000 - _runtime: 24.0000\n",
      "Epoch 58/60\n",
      "10/10 [==============================] - 0s 29ms/step - loss: 1.2994 - val_loss: 0.8897 - _timestamp: 1670378139.0000 - _runtime: 24.0000\n",
      "Epoch 59/60\n",
      "10/10 [==============================] - 0s 17ms/step - loss: 1.3864 - val_loss: 1.3008 - _timestamp: 1670378139.0000 - _runtime: 24.0000\n",
      "Epoch 60/60\n",
      "10/10 [==============================] - 0s 13ms/step - loss: 1.3119 - val_loss: 1.1806 - _timestamp: 1670378139.0000 - _runtime: 24.0000\n"
     ]
    },
    {
     "data": {
      "text/html": [
       "Waiting for W&B process to finish... <strong style=\"color:green\">(success).</strong>"
      ],
      "text/plain": [
       "<IPython.core.display.HTML object>"
      ]
     },
     "metadata": {},
     "output_type": "display_data"
    },
    {
     "data": {
      "application/vnd.jupyter.widget-view+json": {
       "model_id": "2bf24f2e43604ccc9fcc919f198c276f",
       "version_major": 2,
       "version_minor": 0
      },
      "text/plain": [
       "VBox(children=(Label(value='0.002 MB of 0.002 MB uploaded (0.000 MB deduped)\\r'), FloatProgress(value=1.0, max…"
      ]
     },
     "metadata": {},
     "output_type": "display_data"
    },
    {
     "data": {
      "text/html": [
       "<style>\n",
       "    table.wandb td:nth-child(1) { padding: 0 10px; text-align: left ; width: auto;} td:nth-child(2) {text-align: left ; width: 100%}\n",
       "    .wandb-row { display: flex; flex-direction: row; flex-wrap: wrap; justify-content: flex-start; width: 100% }\n",
       "    .wandb-col { display: flex; flex-direction: column; flex-basis: 100%; flex: 1; padding: 10px; }\n",
       "    </style>\n",
       "<div class=\"wandb-row\"><div class=\"wandb-col\"><h3>Run history:</h3><br/><table class=\"wandb\"><tr><td>epoch</td><td>▁▁▁▁▂▂▂▂▂▃▃▃▃▃▃▄▄▄▄▄▅▅▅▅▅▅▆▆▆▆▆▆▇▇▇▇▇███</td></tr><tr><td>loss</td><td>█▆▂▁▁▁▁▁▁▁▁▁▁▁▁▁▁▁▁▁▁▁▁▁▁▁▁▁▁▁▁▁▁▁▁▁▁▁▁▁</td></tr><tr><td>val_loss</td><td>▄█▁▁▁▁▁▁▁▁▁▁▁▁▁▁▁▁▁▁▁▁▁▁▁▁▁▁▁▁▁▁▁▁▁▁▁▁▁▁</td></tr></table><br/></div><div class=\"wandb-col\"><h3>Run summary:</h3><br/><table class=\"wandb\"><tr><td>best_epoch</td><td>57</td></tr><tr><td>best_val_loss</td><td>0.88969</td></tr><tr><td>epoch</td><td>59</td></tr><tr><td>loss</td><td>1.31192</td></tr><tr><td>val_loss</td><td>1.18055</td></tr></table><br/></div></div>"
      ],
      "text/plain": [
       "<IPython.core.display.HTML object>"
      ]
     },
     "metadata": {},
     "output_type": "display_data"
    },
    {
     "data": {
      "text/html": [
       "Synced <strong style=\"color:#cdcd00\">logical-sweep-10</strong>: <a href=\"https://wandb.ai/ghirsch/Astro101_project_v4/runs/b3km3p2n\" target=\"_blank\">https://wandb.ai/ghirsch/Astro101_project_v4/runs/b3km3p2n</a><br/>Synced 6 W&B file(s), 1 media file(s), 0 artifact file(s) and 1 other file(s)"
      ],
      "text/plain": [
       "<IPython.core.display.HTML object>"
      ]
     },
     "metadata": {},
     "output_type": "display_data"
    },
    {
     "data": {
      "text/html": [
       "Find logs at: <code>./wandb/run-20221206_175515-b3km3p2n/logs</code>"
      ],
      "text/plain": [
       "<IPython.core.display.HTML object>"
      ]
     },
     "metadata": {},
     "output_type": "display_data"
    },
    {
     "name": "stderr",
     "output_type": "stream",
     "text": [
      "\u001b[34m\u001b[1mwandb\u001b[0m: Sweep Agent: Waiting for job.\n",
      "\u001b[34m\u001b[1mwandb\u001b[0m: Job received.\n",
      "\u001b[34m\u001b[1mwandb\u001b[0m: Agent Starting Run: cwkjodih with config:\n",
      "\u001b[34m\u001b[1mwandb\u001b[0m: \tbatch_size: 64\n",
      "\u001b[34m\u001b[1mwandb\u001b[0m: \tdropout: 0.17811037589390769\n",
      "\u001b[34m\u001b[1mwandb\u001b[0m: \tepochs: 22\n",
      "\u001b[34m\u001b[1mwandb\u001b[0m: \tlearning_rate: 0.06572569164496013\n",
      "\u001b[34m\u001b[1mwandb\u001b[0m: \tsize_1: 114\n",
      "\u001b[34m\u001b[1mwandb\u001b[0m: \tsize_2: 95\n",
      "\u001b[34m\u001b[1mwandb\u001b[0m: \tsize_3: 106\n",
      "\u001b[34m\u001b[1mwandb\u001b[0m: \tsize_4: 84\n",
      "\u001b[34m\u001b[1mwandb\u001b[0m: \tsize_5: 129\n",
      "wandb: ERROR Dropped streaming file chunk (see wandb/debug-internal.log)\n",
      "ERROR:root:dropped chunk 404 Client Error: Not Found for url: https://api.wandb.ai/files/ghirsch/Astro101_project_v4/37woihe7/file_stream\n",
      "NoneType: None\n"
     ]
    },
    {
     "data": {
      "text/html": [
       "wandb version 0.13.6 is available!  To upgrade, please run:\n",
       " $ pip install wandb --upgrade"
      ],
      "text/plain": [
       "<IPython.core.display.HTML object>"
      ]
     },
     "metadata": {},
     "output_type": "display_data"
    },
    {
     "data": {
      "text/html": [
       "Tracking run with wandb version 0.12.20"
      ],
      "text/plain": [
       "<IPython.core.display.HTML object>"
      ]
     },
     "metadata": {},
     "output_type": "display_data"
    },
    {
     "data": {
      "text/html": [
       "Run data is saved locally in <code>/Users/morty/a101_comp/NN_Tutorial/NN_Tutorial_2/Graham-Data-Processing/nn_v0.0.1/wandb/run-20221206_175555-cwkjodih</code>"
      ],
      "text/plain": [
       "<IPython.core.display.HTML object>"
      ]
     },
     "metadata": {},
     "output_type": "display_data"
    },
    {
     "data": {
      "text/html": [
       "Syncing run <strong><a href=\"https://wandb.ai/ghirsch/Astro101_project_v4/runs/cwkjodih\" target=\"_blank\">whole-sweep-11</a></strong> to <a href=\"https://wandb.ai/ghirsch/Astro101_project_v4\" target=\"_blank\">Weights & Biases</a> (<a href=\"https://wandb.me/run\" target=\"_blank\">docs</a>)<br/>Sweep page:  <a href=\"https://wandb.ai/ghirsch/Astro101_project_v4/sweeps/9sbj5834\" target=\"_blank\">https://wandb.ai/ghirsch/Astro101_project_v4/sweeps/9sbj5834</a>"
      ],
      "text/plain": [
       "<IPython.core.display.HTML object>"
      ]
     },
     "metadata": {},
     "output_type": "display_data"
    },
    {
     "name": "stdout",
     "output_type": "stream",
     "text": [
      "Epoch 1/22\n",
      "15/15 [==============================] - 4s 82ms/step - loss: 824.7629 - val_loss: 113.1404 - _timestamp: 1670378175.0000 - _runtime: 20.0000\n",
      "Epoch 2/22\n",
      "15/15 [==============================] - 0s 7ms/step - loss: 88.9664 - val_loss: 185.4840 - _timestamp: 1670378175.0000 - _runtime: 20.0000\n",
      "Epoch 3/22\n",
      "15/15 [==============================] - 0s 16ms/step - loss: 43.9259 - val_loss: 17.7732 - _timestamp: 1670378175.0000 - _runtime: 20.0000\n",
      "Epoch 4/22\n",
      "15/15 [==============================] - 0s 25ms/step - loss: 8.9683 - val_loss: 3.3485 - _timestamp: 1670378175.0000 - _runtime: 20.0000\n",
      "Epoch 5/22\n",
      "15/15 [==============================] - 0s 23ms/step - loss: 2.6015 - val_loss: 1.0702 - _timestamp: 1670378176.0000 - _runtime: 21.0000\n",
      "Epoch 6/22\n",
      "15/15 [==============================] - 0s 19ms/step - loss: 1.4170 - val_loss: 0.7873 - _timestamp: 1670378176.0000 - _runtime: 21.0000\n",
      "Epoch 7/22\n",
      "15/15 [==============================] - 0s 13ms/step - loss: 1.0491 - val_loss: 0.8397 - _timestamp: 1670378176.0000 - _runtime: 21.0000\n",
      "Epoch 8/22\n",
      "15/15 [==============================] - 0s 11ms/step - loss: 0.9857 - val_loss: 0.8537 - _timestamp: 1670378177.0000 - _runtime: 22.0000\n",
      "Epoch 9/22\n",
      "15/15 [==============================] - 0s 12ms/step - loss: 1.0011 - val_loss: 0.9558 - _timestamp: 1670378177.0000 - _runtime: 22.0000\n",
      "Epoch 10/22\n",
      "15/15 [==============================] - 0s 7ms/step - loss: 0.9193 - val_loss: 0.8131 - _timestamp: 1670378177.0000 - _runtime: 22.0000\n",
      "Epoch 11/22\n",
      "15/15 [==============================] - 0s 14ms/step - loss: 0.8584 - val_loss: 0.8056 - _timestamp: 1670378177.0000 - _runtime: 22.0000\n",
      "Epoch 12/22\n",
      "15/15 [==============================] - 0s 19ms/step - loss: 0.8576 - val_loss: 0.7106 - _timestamp: 1670378177.0000 - _runtime: 22.0000\n",
      "Epoch 13/22\n",
      "15/15 [==============================] - 0s 8ms/step - loss: 0.8351 - val_loss: 0.7227 - _timestamp: 1670378178.0000 - _runtime: 23.0000\n",
      "Epoch 14/22\n",
      "15/15 [==============================] - 0s 12ms/step - loss: 0.8109 - val_loss: 0.6926 - _timestamp: 1670378178.0000 - _runtime: 23.0000\n",
      "Epoch 15/22\n",
      "15/15 [==============================] - 0s 11ms/step - loss: 0.7368 - val_loss: 0.6296 - _timestamp: 1670378178.0000 - _runtime: 23.0000\n",
      "Epoch 16/22\n",
      "15/15 [==============================] - 0s 7ms/step - loss: 0.7526 - val_loss: 0.7305 - _timestamp: 1670378178.0000 - _runtime: 23.0000\n",
      "Epoch 17/22\n",
      "15/15 [==============================] - 0s 5ms/step - loss: 0.7604 - val_loss: 0.6973 - _timestamp: 1670378178.0000 - _runtime: 23.0000\n",
      "Epoch 18/22\n",
      "15/15 [==============================] - 0s 7ms/step - loss: 0.7411 - val_loss: 0.5925 - _timestamp: 1670378178.0000 - _runtime: 23.0000\n",
      "Epoch 19/22\n",
      "15/15 [==============================] - 0s 5ms/step - loss: 0.6967 - val_loss: 0.6197 - _timestamp: 1670378178.0000 - _runtime: 23.0000\n",
      "Epoch 20/22\n",
      "15/15 [==============================] - 0s 7ms/step - loss: 0.7299 - val_loss: 0.6438 - _timestamp: 1670378178.0000 - _runtime: 23.0000\n",
      "Epoch 21/22\n",
      "15/15 [==============================] - 0s 4ms/step - loss: 0.7022 - val_loss: 0.6009 - _timestamp: 1670378178.0000 - _runtime: 23.0000\n",
      "Epoch 22/22\n",
      "15/15 [==============================] - 0s 5ms/step - loss: 0.6706 - val_loss: 0.5947 - _timestamp: 1670378178.0000 - _runtime: 23.0000\n"
     ]
    },
    {
     "data": {
      "text/html": [
       "Waiting for W&B process to finish... <strong style=\"color:green\">(success).</strong>"
      ],
      "text/plain": [
       "<IPython.core.display.HTML object>"
      ]
     },
     "metadata": {},
     "output_type": "display_data"
    },
    {
     "data": {
      "application/vnd.jupyter.widget-view+json": {
       "model_id": "e722cd8a00b243749addae7bf6991d22",
       "version_major": 2,
       "version_minor": 0
      },
      "text/plain": [
       "VBox(children=(Label(value='0.560 MB of 0.560 MB uploaded (0.000 MB deduped)\\r'), FloatProgress(value=1.0, max…"
      ]
     },
     "metadata": {},
     "output_type": "display_data"
    },
    {
     "data": {
      "text/html": [
       "<style>\n",
       "    table.wandb td:nth-child(1) { padding: 0 10px; text-align: left ; width: auto;} td:nth-child(2) {text-align: left ; width: 100%}\n",
       "    .wandb-row { display: flex; flex-direction: row; flex-wrap: wrap; justify-content: flex-start; width: 100% }\n",
       "    .wandb-col { display: flex; flex-direction: column; flex-basis: 100%; flex: 1; padding: 10px; }\n",
       "    </style>\n",
       "<div class=\"wandb-row\"><div class=\"wandb-col\"><h3>Run history:</h3><br/><table class=\"wandb\"><tr><td>epoch</td><td>▁▁▂▂▂▃▃▃▄▄▄▅▅▅▆▆▆▇▇▇██</td></tr><tr><td>loss</td><td>█▂▁▁▁▁▁▁▁▁▁▁▁▁▁▁▁▁▁▁▁▁</td></tr><tr><td>val_loss</td><td>▅█▂▁▁▁▁▁▁▁▁▁▁▁▁▁▁▁▁▁▁▁</td></tr></table><br/></div><div class=\"wandb-col\"><h3>Run summary:</h3><br/><table class=\"wandb\"><tr><td>best_epoch</td><td>17</td></tr><tr><td>best_val_loss</td><td>0.59255</td></tr><tr><td>epoch</td><td>21</td></tr><tr><td>loss</td><td>0.67061</td></tr><tr><td>val_loss</td><td>0.59469</td></tr></table><br/></div></div>"
      ],
      "text/plain": [
       "<IPython.core.display.HTML object>"
      ]
     },
     "metadata": {},
     "output_type": "display_data"
    },
    {
     "data": {
      "text/html": [
       "Synced <strong style=\"color:#cdcd00\">whole-sweep-11</strong>: <a href=\"https://wandb.ai/ghirsch/Astro101_project_v4/runs/cwkjodih\" target=\"_blank\">https://wandb.ai/ghirsch/Astro101_project_v4/runs/cwkjodih</a><br/>Synced 6 W&B file(s), 1 media file(s), 0 artifact file(s) and 1 other file(s)"
      ],
      "text/plain": [
       "<IPython.core.display.HTML object>"
      ]
     },
     "metadata": {},
     "output_type": "display_data"
    },
    {
     "data": {
      "text/html": [
       "Find logs at: <code>./wandb/run-20221206_175555-cwkjodih/logs</code>"
      ],
      "text/plain": [
       "<IPython.core.display.HTML object>"
      ]
     },
     "metadata": {},
     "output_type": "display_data"
    },
    {
     "name": "stderr",
     "output_type": "stream",
     "text": [
      "\u001b[34m\u001b[1mwandb\u001b[0m: Agent Starting Run: qbg71l80 with config:\n",
      "\u001b[34m\u001b[1mwandb\u001b[0m: \tbatch_size: 128\n",
      "\u001b[34m\u001b[1mwandb\u001b[0m: \tdropout: 0.4214228447205413\n",
      "\u001b[34m\u001b[1mwandb\u001b[0m: \tepochs: 45\n",
      "\u001b[34m\u001b[1mwandb\u001b[0m: \tlearning_rate: 0.008711184435941743\n",
      "\u001b[34m\u001b[1mwandb\u001b[0m: \tsize_1: 104\n",
      "\u001b[34m\u001b[1mwandb\u001b[0m: \tsize_2: 184\n",
      "\u001b[34m\u001b[1mwandb\u001b[0m: \tsize_3: 136\n",
      "\u001b[34m\u001b[1mwandb\u001b[0m: \tsize_4: 118\n",
      "\u001b[34m\u001b[1mwandb\u001b[0m: \tsize_5: 179\n",
      "wandb: ERROR Dropped streaming file chunk (see wandb/debug-internal.log)\n",
      "ERROR:root:dropped chunk 404 Client Error: Not Found for url: https://api.wandb.ai/files/ghirsch/Astro101_project_v4/37woihe7/file_stream\n",
      "NoneType: None\n"
     ]
    },
    {
     "data": {
      "text/html": [
       "wandb version 0.13.6 is available!  To upgrade, please run:\n",
       " $ pip install wandb --upgrade"
      ],
      "text/plain": [
       "<IPython.core.display.HTML object>"
      ]
     },
     "metadata": {},
     "output_type": "display_data"
    },
    {
     "data": {
      "text/html": [
       "Tracking run with wandb version 0.12.20"
      ],
      "text/plain": [
       "<IPython.core.display.HTML object>"
      ]
     },
     "metadata": {},
     "output_type": "display_data"
    },
    {
     "data": {
      "text/html": [
       "Run data is saved locally in <code>/Users/morty/a101_comp/NN_Tutorial/NN_Tutorial_2/Graham-Data-Processing/nn_v0.0.1/wandb/run-20221206_175628-qbg71l80</code>"
      ],
      "text/plain": [
       "<IPython.core.display.HTML object>"
      ]
     },
     "metadata": {},
     "output_type": "display_data"
    },
    {
     "data": {
      "text/html": [
       "Syncing run <strong><a href=\"https://wandb.ai/ghirsch/Astro101_project_v4/runs/qbg71l80\" target=\"_blank\">winter-sweep-12</a></strong> to <a href=\"https://wandb.ai/ghirsch/Astro101_project_v4\" target=\"_blank\">Weights & Biases</a> (<a href=\"https://wandb.me/run\" target=\"_blank\">docs</a>)<br/>Sweep page:  <a href=\"https://wandb.ai/ghirsch/Astro101_project_v4/sweeps/9sbj5834\" target=\"_blank\">https://wandb.ai/ghirsch/Astro101_project_v4/sweeps/9sbj5834</a>"
      ],
      "text/plain": [
       "<IPython.core.display.HTML object>"
      ]
     },
     "metadata": {},
     "output_type": "display_data"
    },
    {
     "name": "stdout",
     "output_type": "stream",
     "text": [
      "Epoch 1/45\n",
      "8/8 [==============================] - 3s 156ms/step - loss: 2.3129 - val_loss: 1.5197 - _timestamp: 1670378211.0000 - _runtime: 23.0000\n",
      "Epoch 2/45\n",
      "8/8 [==============================] - 0s 65ms/step - loss: 1.3373 - val_loss: 1.2194 - _timestamp: 1670378212.0000 - _runtime: 24.0000\n",
      "Epoch 3/45\n",
      "8/8 [==============================] - 0s 45ms/step - loss: 1.1561 - val_loss: 1.1325 - _timestamp: 1670378212.0000 - _runtime: 24.0000\n",
      "Epoch 4/45\n",
      "8/8 [==============================] - 1s 75ms/step - loss: 1.0605 - val_loss: 0.9204 - _timestamp: 1670378213.0000 - _runtime: 25.0000\n",
      "Epoch 5/45\n",
      "8/8 [==============================] - 0s 56ms/step - loss: 0.9054 - val_loss: 0.7278 - _timestamp: 1670378213.0000 - _runtime: 25.0000\n",
      "Epoch 6/45\n",
      "8/8 [==============================] - 0s 24ms/step - loss: 0.7370 - val_loss: 0.7568 - _timestamp: 1670378214.0000 - _runtime: 26.0000\n",
      "Epoch 7/45\n",
      "8/8 [==============================] - 0s 52ms/step - loss: 0.8252 - val_loss: 0.6881 - _timestamp: 1670378214.0000 - _runtime: 26.0000\n",
      "Epoch 8/45\n",
      "8/8 [==============================] - 0s 25ms/step - loss: 0.7744 - val_loss: 0.7335 - _timestamp: 1670378214.0000 - _runtime: 26.0000\n",
      "Epoch 9/45\n",
      "8/8 [==============================] - 0s 30ms/step - loss: 0.8051 - val_loss: 0.9730 - _timestamp: 1670378214.0000 - _runtime: 26.0000\n",
      "Epoch 10/45\n",
      "8/8 [==============================] - 0s 21ms/step - loss: 0.9099 - val_loss: 0.6988 - _timestamp: 1670378214.0000 - _runtime: 26.0000\n",
      "Epoch 11/45\n",
      "8/8 [==============================] - 0s 19ms/step - loss: 0.7891 - val_loss: 0.7737 - _timestamp: 1670378215.0000 - _runtime: 27.0000\n",
      "Epoch 12/45\n",
      "8/8 [==============================] - 0s 20ms/step - loss: 0.7991 - val_loss: 0.8844 - _timestamp: 1670378215.0000 - _runtime: 27.0000\n",
      "Epoch 13/45\n",
      "8/8 [==============================] - 0s 20ms/step - loss: 0.8105 - val_loss: 0.7137 - _timestamp: 1670378215.0000 - _runtime: 27.0000\n",
      "Epoch 14/45\n",
      "8/8 [==============================] - 0s 30ms/step - loss: 0.7221 - val_loss: 0.6993 - _timestamp: 1670378215.0000 - _runtime: 27.0000\n",
      "Epoch 15/45\n",
      "8/8 [==============================] - 0s 35ms/step - loss: 0.6956 - val_loss: 0.6593 - _timestamp: 1670378215.0000 - _runtime: 27.0000\n",
      "Epoch 16/45\n",
      "8/8 [==============================] - 0s 18ms/step - loss: 0.6971 - val_loss: 0.7708 - _timestamp: 1670378216.0000 - _runtime: 28.0000\n",
      "Epoch 17/45\n",
      "8/8 [==============================] - 0s 19ms/step - loss: 0.8553 - val_loss: 0.7858 - _timestamp: 1670378216.0000 - _runtime: 28.0000\n",
      "Epoch 18/45\n",
      "8/8 [==============================] - 0s 19ms/step - loss: 0.8541 - val_loss: 0.7510 - _timestamp: 1670378216.0000 - _runtime: 28.0000\n",
      "Epoch 19/45\n",
      "8/8 [==============================] - 0s 13ms/step - loss: 0.7355 - val_loss: 0.6997 - _timestamp: 1670378216.0000 - _runtime: 28.0000\n",
      "Epoch 20/45\n",
      "8/8 [==============================] - 0s 37ms/step - loss: 0.7131 - val_loss: 0.5038 - _timestamp: 1670378216.0000 - _runtime: 28.0000\n",
      "Epoch 21/45\n",
      "8/8 [==============================] - 0s 34ms/step - loss: 0.7084 - val_loss: 0.5850 - _timestamp: 1670378216.0000 - _runtime: 28.0000\n",
      "Epoch 22/45\n",
      "8/8 [==============================] - 0s 34ms/step - loss: 0.7302 - val_loss: 0.6082 - _timestamp: 1670378217.0000 - _runtime: 29.0000\n",
      "Epoch 23/45\n",
      "8/8 [==============================] - 0s 18ms/step - loss: 0.6733 - val_loss: 0.5455 - _timestamp: 1670378217.0000 - _runtime: 29.0000\n",
      "Epoch 24/45\n",
      "8/8 [==============================] - 0s 22ms/step - loss: 0.7143 - val_loss: 0.5695 - _timestamp: 1670378217.0000 - _runtime: 29.0000\n",
      "Epoch 25/45\n",
      "8/8 [==============================] - 0s 14ms/step - loss: 0.6822 - val_loss: 0.6296 - _timestamp: 1670378217.0000 - _runtime: 29.0000\n",
      "Epoch 26/45\n",
      "8/8 [==============================] - 0s 13ms/step - loss: 0.7211 - val_loss: 0.6604 - _timestamp: 1670378217.0000 - _runtime: 29.0000\n",
      "Epoch 27/45\n",
      "8/8 [==============================] - 0s 12ms/step - loss: 0.6808 - val_loss: 0.6502 - _timestamp: 1670378217.0000 - _runtime: 29.0000\n",
      "Epoch 28/45\n",
      "8/8 [==============================] - 0s 9ms/step - loss: 0.6663 - val_loss: 0.5379 - _timestamp: 1670378217.0000 - _runtime: 29.0000\n",
      "Epoch 29/45\n",
      "8/8 [==============================] - 0s 12ms/step - loss: 0.6345 - val_loss: 0.7904 - _timestamp: 1670378218.0000 - _runtime: 30.0000\n",
      "Epoch 30/45\n",
      "8/8 [==============================] - 0s 10ms/step - loss: 0.6942 - val_loss: 0.7734 - _timestamp: 1670378218.0000 - _runtime: 30.0000\n",
      "Epoch 31/45\n",
      "8/8 [==============================] - 0s 10ms/step - loss: 0.7876 - val_loss: 0.6470 - _timestamp: 1670378218.0000 - _runtime: 30.0000\n",
      "Epoch 32/45\n",
      "8/8 [==============================] - 0s 17ms/step - loss: 0.7283 - val_loss: 0.6118 - _timestamp: 1670378218.0000 - _runtime: 30.0000\n",
      "Epoch 33/45\n",
      "8/8 [==============================] - 0s 17ms/step - loss: 0.6305 - val_loss: 0.7216 - _timestamp: 1670378218.0000 - _runtime: 30.0000\n",
      "Epoch 34/45\n",
      "8/8 [==============================] - 0s 11ms/step - loss: 0.7275 - val_loss: 0.5490 - _timestamp: 1670378218.0000 - _runtime: 30.0000\n",
      "Epoch 35/45\n",
      "8/8 [==============================] - 0s 16ms/step - loss: 0.8649 - val_loss: 0.7034 - _timestamp: 1670378218.0000 - _runtime: 30.0000\n",
      "Epoch 36/45\n",
      "8/8 [==============================] - 0s 28ms/step - loss: 0.8454 - val_loss: 0.5763 - _timestamp: 1670378218.0000 - _runtime: 30.0000\n",
      "Epoch 37/45\n",
      "8/8 [==============================] - 0s 20ms/step - loss: 0.6562 - val_loss: 0.6223 - _timestamp: 1670378219.0000 - _runtime: 31.0000\n",
      "Epoch 38/45\n",
      "8/8 [==============================] - 0s 23ms/step - loss: 0.6346 - val_loss: 0.7004 - _timestamp: 1670378219.0000 - _runtime: 31.0000\n",
      "Epoch 39/45\n",
      "8/8 [==============================] - 0s 13ms/step - loss: 0.6957 - val_loss: 0.5771 - _timestamp: 1670378219.0000 - _runtime: 31.0000\n",
      "Epoch 40/45\n",
      "8/8 [==============================] - 0s 21ms/step - loss: 0.6318 - val_loss: 0.5621 - _timestamp: 1670378219.0000 - _runtime: 31.0000\n",
      "Epoch 41/45\n",
      "8/8 [==============================] - 0s 13ms/step - loss: 0.6091 - val_loss: 0.6560 - _timestamp: 1670378219.0000 - _runtime: 31.0000\n",
      "Epoch 42/45\n",
      "8/8 [==============================] - 0s 13ms/step - loss: 0.6758 - val_loss: 0.5406 - _timestamp: 1670378219.0000 - _runtime: 31.0000\n",
      "Epoch 43/45\n",
      "8/8 [==============================] - 0s 16ms/step - loss: 0.6268 - val_loss: 0.6852 - _timestamp: 1670378219.0000 - _runtime: 31.0000\n",
      "Epoch 44/45\n",
      "8/8 [==============================] - 0s 21ms/step - loss: 0.6816 - val_loss: 0.6439 - _timestamp: 1670378219.0000 - _runtime: 31.0000\n",
      "Epoch 45/45\n",
      "8/8 [==============================] - 0s 28ms/step - loss: 0.6463 - val_loss: 0.6182 - _timestamp: 1670378220.0000 - _runtime: 32.0000\n"
     ]
    },
    {
     "data": {
      "text/html": [
       "Waiting for W&B process to finish... <strong style=\"color:green\">(success).</strong>"
      ],
      "text/plain": [
       "<IPython.core.display.HTML object>"
      ]
     },
     "metadata": {},
     "output_type": "display_data"
    },
    {
     "name": "stderr",
     "output_type": "stream",
     "text": [
      "wandb: ERROR Dropped streaming file chunk (see wandb/debug-internal.log)\n",
      "ERROR:root:dropped chunk 404 Client Error: Not Found for url: https://api.wandb.ai/files/ghirsch/Astro101_project_v4/37woihe7/file_stream\n",
      "NoneType: None\n"
     ]
    },
    {
     "data": {
      "application/vnd.jupyter.widget-view+json": {
       "model_id": "1d09fe6e58e54729ae8f7d6fbd5afec7",
       "version_major": 2,
       "version_minor": 0
      },
      "text/plain": [
       "VBox(children=(Label(value='0.000 MB of 1.029 MB uploaded (0.000 MB deduped)\\r'), FloatProgress(value=0.0, max…"
      ]
     },
     "metadata": {},
     "output_type": "display_data"
    },
    {
     "data": {
      "text/html": [
       "<style>\n",
       "    table.wandb td:nth-child(1) { padding: 0 10px; text-align: left ; width: auto;} td:nth-child(2) {text-align: left ; width: 100%}\n",
       "    .wandb-row { display: flex; flex-direction: row; flex-wrap: wrap; justify-content: flex-start; width: 100% }\n",
       "    .wandb-col { display: flex; flex-direction: column; flex-basis: 100%; flex: 1; padding: 10px; }\n",
       "    </style>\n",
       "<div class=\"wandb-row\"><div class=\"wandb-col\"><h3>Run history:</h3><br/><table class=\"wandb\"><tr><td>epoch</td><td>▁▁▁▁▂▂▂▂▂▃▃▃▃▃▃▄▄▄▄▄▅▅▅▅▅▅▆▆▆▆▆▆▇▇▇▇▇███</td></tr><tr><td>loss</td><td>█▄▃▃▂▂▂▂▂▂▂▂▁▁▁▂▂▁▁▁▁▁▁▁▁▁▁▂▁▁▁▂▁▁▁▁▁▁▁▁</td></tr><tr><td>val_loss</td><td>█▆▅▄▃▃▂▃▂▃▄▂▂▂▃▃▂▁▂▂▁▁▂▂▁▃▃▂▂▃▁▂▂▂▂▁▂▁▂▂</td></tr></table><br/></div><div class=\"wandb-col\"><h3>Run summary:</h3><br/><table class=\"wandb\"><tr><td>best_epoch</td><td>19</td></tr><tr><td>best_val_loss</td><td>0.50377</td></tr><tr><td>epoch</td><td>44</td></tr><tr><td>loss</td><td>0.64631</td></tr><tr><td>val_loss</td><td>0.61824</td></tr></table><br/></div></div>"
      ],
      "text/plain": [
       "<IPython.core.display.HTML object>"
      ]
     },
     "metadata": {},
     "output_type": "display_data"
    },
    {
     "data": {
      "text/html": [
       "Synced <strong style=\"color:#cdcd00\">winter-sweep-12</strong>: <a href=\"https://wandb.ai/ghirsch/Astro101_project_v4/runs/qbg71l80\" target=\"_blank\">https://wandb.ai/ghirsch/Astro101_project_v4/runs/qbg71l80</a><br/>Synced 6 W&B file(s), 1 media file(s), 0 artifact file(s) and 1 other file(s)"
      ],
      "text/plain": [
       "<IPython.core.display.HTML object>"
      ]
     },
     "metadata": {},
     "output_type": "display_data"
    },
    {
     "data": {
      "text/html": [
       "Find logs at: <code>./wandb/run-20221206_175628-qbg71l80/logs</code>"
      ],
      "text/plain": [
       "<IPython.core.display.HTML object>"
      ]
     },
     "metadata": {},
     "output_type": "display_data"
    },
    {
     "name": "stderr",
     "output_type": "stream",
     "text": [
      "\u001b[34m\u001b[1mwandb\u001b[0m: Agent Starting Run: y3992xwq with config:\n",
      "\u001b[34m\u001b[1mwandb\u001b[0m: \tbatch_size: 32\n",
      "\u001b[34m\u001b[1mwandb\u001b[0m: \tdropout: 0.32445872897331973\n",
      "\u001b[34m\u001b[1mwandb\u001b[0m: \tepochs: 69\n",
      "\u001b[34m\u001b[1mwandb\u001b[0m: \tlearning_rate: 0.08203472194993167\n",
      "\u001b[34m\u001b[1mwandb\u001b[0m: \tsize_1: 122\n",
      "\u001b[34m\u001b[1mwandb\u001b[0m: \tsize_2: 72\n",
      "\u001b[34m\u001b[1mwandb\u001b[0m: \tsize_3: 219\n",
      "\u001b[34m\u001b[1mwandb\u001b[0m: \tsize_4: 170\n",
      "\u001b[34m\u001b[1mwandb\u001b[0m: \tsize_5: 129\n"
     ]
    },
    {
     "data": {
      "text/html": [
       "wandb version 0.13.6 is available!  To upgrade, please run:\n",
       " $ pip install wandb --upgrade"
      ],
      "text/plain": [
       "<IPython.core.display.HTML object>"
      ]
     },
     "metadata": {},
     "output_type": "display_data"
    },
    {
     "data": {
      "text/html": [
       "Tracking run with wandb version 0.12.20"
      ],
      "text/plain": [
       "<IPython.core.display.HTML object>"
      ]
     },
     "metadata": {},
     "output_type": "display_data"
    },
    {
     "data": {
      "text/html": [
       "Run data is saved locally in <code>/Users/morty/a101_comp/NN_Tutorial/NN_Tutorial_2/Graham-Data-Processing/nn_v0.0.1/wandb/run-20221206_175710-y3992xwq</code>"
      ],
      "text/plain": [
       "<IPython.core.display.HTML object>"
      ]
     },
     "metadata": {},
     "output_type": "display_data"
    },
    {
     "data": {
      "text/html": [
       "Syncing run <strong><a href=\"https://wandb.ai/ghirsch/Astro101_project_v4/runs/y3992xwq\" target=\"_blank\">kind-sweep-13</a></strong> to <a href=\"https://wandb.ai/ghirsch/Astro101_project_v4\" target=\"_blank\">Weights & Biases</a> (<a href=\"https://wandb.me/run\" target=\"_blank\">docs</a>)<br/>Sweep page:  <a href=\"https://wandb.ai/ghirsch/Astro101_project_v4/sweeps/9sbj5834\" target=\"_blank\">https://wandb.ai/ghirsch/Astro101_project_v4/sweeps/9sbj5834</a>"
      ],
      "text/plain": [
       "<IPython.core.display.HTML object>"
      ]
     },
     "metadata": {},
     "output_type": "display_data"
    },
    {
     "name": "stderr",
     "output_type": "stream",
     "text": [
      "wandb: ERROR Dropped streaming file chunk (see wandb/debug-internal.log)\n",
      "ERROR:root:dropped chunk 404 Client Error: Not Found for url: https://api.wandb.ai/files/ghirsch/Astro101_project_v4/37woihe7/file_stream\n",
      "NoneType: None\n"
     ]
    },
    {
     "name": "stdout",
     "output_type": "stream",
     "text": [
      "Epoch 1/69\n",
      "29/29 [==============================] - 1s 10ms/step - loss: 4028.1228 - val_loss: 834.0175 - _timestamp: 1670378257.0000 - _runtime: 27.0000\n",
      "Epoch 2/69\n",
      "29/29 [==============================] - 0s 5ms/step - loss: 264.7024 - val_loss: 23.6160 - _timestamp: 1670378257.0000 - _runtime: 27.0000\n",
      "Epoch 3/69\n",
      "29/29 [==============================] - 0s 5ms/step - loss: 16.6263 - val_loss: 4.4264 - _timestamp: 1670378257.0000 - _runtime: 27.0000\n",
      "Epoch 4/69\n",
      "29/29 [==============================] - 0s 5ms/step - loss: 5.6933 - val_loss: 2.1684 - _timestamp: 1670378258.0000 - _runtime: 28.0000\n",
      "Epoch 5/69\n",
      "29/29 [==============================] - 0s 4ms/step - loss: 3.3673 - val_loss: 1.1505 - _timestamp: 1670378258.0000 - _runtime: 28.0000\n",
      "Epoch 6/69\n",
      "29/29 [==============================] - 0s 4ms/step - loss: 2.0648 - val_loss: 1.1655 - _timestamp: 1670378258.0000 - _runtime: 28.0000\n",
      "Epoch 7/69\n",
      "29/29 [==============================] - 0s 4ms/step - loss: 1.4196 - val_loss: 0.7528 - _timestamp: 1670378258.0000 - _runtime: 28.0000\n",
      "Epoch 8/69\n",
      "29/29 [==============================] - 0s 5ms/step - loss: 1.3876 - val_loss: 1.1318 - _timestamp: 1670378258.0000 - _runtime: 28.0000\n",
      "Epoch 9/69\n",
      "29/29 [==============================] - 0s 3ms/step - loss: 1.2580 - val_loss: 0.8177 - _timestamp: 1670378258.0000 - _runtime: 28.0000\n",
      "Epoch 10/69\n",
      "29/29 [==============================] - 2s 68ms/step - loss: 1.2463 - val_loss: 0.9133 - _timestamp: 1670378260.0000 - _runtime: 30.0000\n",
      "Epoch 11/69\n",
      "29/29 [==============================] - 0s 10ms/step - loss: 1.1876 - val_loss: 0.8840 - _timestamp: 1670378260.0000 - _runtime: 30.0000\n",
      "Epoch 12/69\n",
      "29/29 [==============================] - 0s 7ms/step - loss: 1.1776 - val_loss: 0.7759 - _timestamp: 1670378261.0000 - _runtime: 31.0000\n",
      "Epoch 13/69\n",
      "29/29 [==============================] - 0s 12ms/step - loss: 1.1649 - val_loss: 0.7376 - _timestamp: 1670378261.0000 - _runtime: 31.0000\n",
      "Epoch 14/69\n",
      "29/29 [==============================] - 0s 5ms/step - loss: 1.0972 - val_loss: 0.9254 - _timestamp: 1670378261.0000 - _runtime: 31.0000\n",
      "Epoch 15/69\n",
      "29/29 [==============================] - 0s 6ms/step - loss: 1.2415 - val_loss: 0.9834 - _timestamp: 1670378261.0000 - _runtime: 31.0000\n",
      "Epoch 16/69\n",
      "29/29 [==============================] - 0s 6ms/step - loss: 1.1624 - val_loss: 0.9370 - _timestamp: 1670378262.0000 - _runtime: 32.0000\n",
      "Epoch 17/69\n",
      "29/29 [==============================] - 0s 6ms/step - loss: 1.0212 - val_loss: 0.7531 - _timestamp: 1670378262.0000 - _runtime: 32.0000\n",
      "Epoch 18/69\n",
      "29/29 [==============================] - 0s 7ms/step - loss: 0.9002 - val_loss: 0.7084 - _timestamp: 1670378262.0000 - _runtime: 32.0000\n",
      "Epoch 19/69\n",
      "29/29 [==============================] - 0s 5ms/step - loss: 0.8331 - val_loss: 0.7303 - _timestamp: 1670378262.0000 - _runtime: 32.0000\n",
      "Epoch 20/69\n",
      "29/29 [==============================] - 0s 7ms/step - loss: 1.0223 - val_loss: 0.7736 - _timestamp: 1670378262.0000 - _runtime: 32.0000\n",
      "Epoch 21/69\n",
      "29/29 [==============================] - 0s 5ms/step - loss: 0.9510 - val_loss: 0.7239 - _timestamp: 1670378262.0000 - _runtime: 32.0000\n",
      "Epoch 22/69\n",
      "29/29 [==============================] - 0s 10ms/step - loss: 1.0066 - val_loss: 0.7535 - _timestamp: 1670378263.0000 - _runtime: 33.0000\n",
      "Epoch 23/69\n",
      "29/29 [==============================] - 0s 13ms/step - loss: 0.9045 - val_loss: 0.6814 - _timestamp: 1670378263.0000 - _runtime: 33.0000\n",
      "Epoch 24/69\n",
      "29/29 [==============================] - 0s 7ms/step - loss: 0.8734 - val_loss: 1.0336 - _timestamp: 1670378263.0000 - _runtime: 33.0000\n",
      "Epoch 25/69\n",
      "29/29 [==============================] - 0s 9ms/step - loss: 0.9755 - val_loss: 0.6471 - _timestamp: 1670378263.0000 - _runtime: 33.0000\n",
      "Epoch 26/69\n",
      "29/29 [==============================] - 0s 9ms/step - loss: 0.8150 - val_loss: 0.6408 - _timestamp: 1670378264.0000 - _runtime: 34.0000\n",
      "Epoch 27/69\n",
      "29/29 [==============================] - 0s 5ms/step - loss: 0.8147 - val_loss: 0.6686 - _timestamp: 1670378264.0000 - _runtime: 34.0000\n",
      "Epoch 28/69\n",
      "29/29 [==============================] - 0s 6ms/step - loss: 0.9526 - val_loss: 0.7489 - _timestamp: 1670378264.0000 - _runtime: 34.0000\n",
      "Epoch 29/69\n",
      "29/29 [==============================] - 0s 10ms/step - loss: 0.7989 - val_loss: 0.8399 - _timestamp: 1670378265.0000 - _runtime: 35.0000\n",
      "Epoch 30/69\n",
      "29/29 [==============================] - 0s 14ms/step - loss: 0.7403 - val_loss: 0.6263 - _timestamp: 1670378265.0000 - _runtime: 35.0000\n",
      "Epoch 31/69\n",
      "29/29 [==============================] - 0s 10ms/step - loss: 0.7124 - val_loss: 0.5757 - _timestamp: 1670378265.0000 - _runtime: 35.0000\n",
      "Epoch 32/69\n",
      "29/29 [==============================] - 0s 15ms/step - loss: 0.7562 - val_loss: 0.5365 - _timestamp: 1670378265.0000 - _runtime: 35.0000\n",
      "Epoch 33/69\n",
      "29/29 [==============================] - 0s 9ms/step - loss: 0.8500 - val_loss: 0.6367 - _timestamp: 1670378266.0000 - _runtime: 36.0000\n",
      "Epoch 34/69\n",
      "29/29 [==============================] - 0s 11ms/step - loss: 0.8083 - val_loss: 0.6521 - _timestamp: 1670378266.0000 - _runtime: 36.0000\n",
      "Epoch 35/69\n",
      "29/29 [==============================] - 0s 8ms/step - loss: 0.7795 - val_loss: 0.6228 - _timestamp: 1670378267.0000 - _runtime: 37.0000\n",
      "Epoch 36/69\n",
      "29/29 [==============================] - 0s 9ms/step - loss: 0.7157 - val_loss: 0.5779 - _timestamp: 1670378267.0000 - _runtime: 37.0000\n",
      "Epoch 37/69\n",
      "29/29 [==============================] - 0s 11ms/step - loss: 0.7372 - val_loss: 0.7823 - _timestamp: 1670378267.0000 - _runtime: 37.0000\n",
      "Epoch 38/69\n",
      "29/29 [==============================] - 0s 7ms/step - loss: 0.7699 - val_loss: 0.6390 - _timestamp: 1670378267.0000 - _runtime: 37.0000\n",
      "Epoch 39/69\n",
      "29/29 [==============================] - 0s 14ms/step - loss: 0.7080 - val_loss: 0.5948 - _timestamp: 1670378268.0000 - _runtime: 38.0000\n",
      "Epoch 40/69\n",
      "29/29 [==============================] - 0s 8ms/step - loss: 0.7090 - val_loss: 0.6235 - _timestamp: 1670378268.0000 - _runtime: 38.0000\n",
      "Epoch 41/69\n",
      "29/29 [==============================] - 0s 6ms/step - loss: 0.7402 - val_loss: 0.5402 - _timestamp: 1670378268.0000 - _runtime: 38.0000\n",
      "Epoch 42/69\n",
      "29/29 [==============================] - 0s 8ms/step - loss: 0.7250 - val_loss: 0.5574 - _timestamp: 1670378268.0000 - _runtime: 38.0000\n",
      "Epoch 43/69\n",
      "29/29 [==============================] - 0s 7ms/step - loss: 0.7009 - val_loss: 0.6382 - _timestamp: 1670378269.0000 - _runtime: 39.0000\n",
      "Epoch 44/69\n",
      "29/29 [==============================] - 0s 6ms/step - loss: 0.7346 - val_loss: 0.6458 - _timestamp: 1670378269.0000 - _runtime: 39.0000\n",
      "Epoch 45/69\n",
      "29/29 [==============================] - 0s 5ms/step - loss: 0.6762 - val_loss: 0.5482 - _timestamp: 1670378269.0000 - _runtime: 39.0000\n",
      "Epoch 46/69\n",
      "29/29 [==============================] - 0s 5ms/step - loss: 0.6763 - val_loss: 0.5781 - _timestamp: 1670378269.0000 - _runtime: 39.0000\n",
      "Epoch 47/69\n",
      "29/29 [==============================] - 0s 7ms/step - loss: 0.6629 - val_loss: 0.4919 - _timestamp: 1670378269.0000 - _runtime: 39.0000\n",
      "Epoch 48/69\n",
      "29/29 [==============================] - 0s 4ms/step - loss: 0.6715 - val_loss: 0.5465 - _timestamp: 1670378269.0000 - _runtime: 39.0000\n",
      "Epoch 49/69\n",
      "29/29 [==============================] - 0s 3ms/step - loss: 0.6554 - val_loss: 0.5440 - _timestamp: 1670378269.0000 - _runtime: 39.0000\n",
      "Epoch 50/69\n",
      "29/29 [==============================] - 0s 4ms/step - loss: 0.6652 - val_loss: 0.5147 - _timestamp: 1670378270.0000 - _runtime: 40.0000\n",
      "Epoch 51/69\n",
      "29/29 [==============================] - 0s 4ms/step - loss: 0.6659 - val_loss: 0.5784 - _timestamp: 1670378270.0000 - _runtime: 40.0000\n",
      "Epoch 52/69\n",
      "29/29 [==============================] - 0s 4ms/step - loss: 0.6529 - val_loss: 0.5098 - _timestamp: 1670378270.0000 - _runtime: 40.0000\n",
      "Epoch 53/69\n",
      "29/29 [==============================] - 0s 4ms/step - loss: 0.6094 - val_loss: 0.5562 - _timestamp: 1670378270.0000 - _runtime: 40.0000\n",
      "Epoch 54/69\n",
      "29/29 [==============================] - 0s 4ms/step - loss: 0.5697 - val_loss: 0.5645 - _timestamp: 1670378270.0000 - _runtime: 40.0000\n",
      "Epoch 55/69\n",
      "29/29 [==============================] - 0s 5ms/step - loss: 0.6770 - val_loss: 0.5133 - _timestamp: 1670378270.0000 - _runtime: 40.0000\n",
      "Epoch 56/69\n",
      "29/29 [==============================] - 0s 15ms/step - loss: 0.7897 - val_loss: 0.7080 - _timestamp: 1670378271.0000 - _runtime: 41.0000\n",
      "Epoch 57/69\n",
      "29/29 [==============================] - 0s 5ms/step - loss: 0.6878 - val_loss: 0.5937 - _timestamp: 1670378271.0000 - _runtime: 41.0000\n",
      "Epoch 58/69\n",
      "29/29 [==============================] - 0s 7ms/step - loss: 0.6773 - val_loss: 0.5354 - _timestamp: 1670378271.0000 - _runtime: 41.0000\n",
      "Epoch 59/69\n",
      "29/29 [==============================] - 0s 4ms/step - loss: 0.6195 - val_loss: 0.5383 - _timestamp: 1670378271.0000 - _runtime: 41.0000\n",
      "Epoch 60/69\n",
      "29/29 [==============================] - 0s 4ms/step - loss: 0.6853 - val_loss: 0.5692 - _timestamp: 1670378271.0000 - _runtime: 41.0000\n",
      "Epoch 61/69\n",
      "29/29 [==============================] - 0s 4ms/step - loss: 0.7487 - val_loss: 0.7242 - _timestamp: 1670378271.0000 - _runtime: 41.0000\n",
      "Epoch 62/69\n",
      "29/29 [==============================] - 0s 3ms/step - loss: 0.6793 - val_loss: 0.5806 - _timestamp: 1670378271.0000 - _runtime: 41.0000\n",
      "Epoch 63/69\n",
      "29/29 [==============================] - 0s 4ms/step - loss: 0.6986 - val_loss: 0.5965 - _timestamp: 1670378272.0000 - _runtime: 42.0000\n",
      "Epoch 64/69\n",
      "29/29 [==============================] - 0s 4ms/step - loss: 0.6868 - val_loss: 0.6071 - _timestamp: 1670378272.0000 - _runtime: 42.0000\n",
      "Epoch 65/69\n",
      "29/29 [==============================] - 0s 4ms/step - loss: 0.6822 - val_loss: 0.6108 - _timestamp: 1670378272.0000 - _runtime: 42.0000\n",
      "Epoch 66/69\n",
      "29/29 [==============================] - 0s 3ms/step - loss: 0.7134 - val_loss: 0.5069 - _timestamp: 1670378272.0000 - _runtime: 42.0000\n",
      "Epoch 67/69\n",
      "29/29 [==============================] - 0s 3ms/step - loss: 0.6351 - val_loss: 0.5400 - _timestamp: 1670378272.0000 - _runtime: 42.0000\n",
      "Epoch 68/69\n",
      "29/29 [==============================] - 0s 4ms/step - loss: 0.6108 - val_loss: 0.6282 - _timestamp: 1670378272.0000 - _runtime: 42.0000\n",
      "Epoch 69/69\n",
      "29/29 [==============================] - 0s 3ms/step - loss: 0.6290 - val_loss: 0.5589 - _timestamp: 1670378272.0000 - _runtime: 42.0000\n"
     ]
    },
    {
     "data": {
      "text/html": [
       "Waiting for W&B process to finish... <strong style=\"color:green\">(success).</strong>"
      ],
      "text/plain": [
       "<IPython.core.display.HTML object>"
      ]
     },
     "metadata": {},
     "output_type": "display_data"
    },
    {
     "data": {
      "application/vnd.jupyter.widget-view+json": {
       "model_id": "fe14a2176b36429784c9ad6b8ef5563e",
       "version_major": 2,
       "version_minor": 0
      },
      "text/plain": [
       "VBox(children=(Label(value='1.057 MB of 1.057 MB uploaded (0.000 MB deduped)\\r'), FloatProgress(value=1.0, max…"
      ]
     },
     "metadata": {},
     "output_type": "display_data"
    },
    {
     "data": {
      "text/html": [
       "<style>\n",
       "    table.wandb td:nth-child(1) { padding: 0 10px; text-align: left ; width: auto;} td:nth-child(2) {text-align: left ; width: 100%}\n",
       "    .wandb-row { display: flex; flex-direction: row; flex-wrap: wrap; justify-content: flex-start; width: 100% }\n",
       "    .wandb-col { display: flex; flex-direction: column; flex-basis: 100%; flex: 1; padding: 10px; }\n",
       "    </style>\n",
       "<div class=\"wandb-row\"><div class=\"wandb-col\"><h3>Run history:</h3><br/><table class=\"wandb\"><tr><td>epoch</td><td>▁▁▁▂▂▂▂▂▂▃▃▃▃▃▃▄▄▄▄▄▅▅▅▅▅▅▆▆▆▆▆▇▇▇▇▇▇███</td></tr><tr><td>loss</td><td>█▁▁▁▁▁▁▁▁▁▁▁▁▁▁▁▁▁▁▁▁▁▁▁▁▁▁▁▁▁▁▁▁▁▁▁▁▁▁▁</td></tr><tr><td>val_loss</td><td>█▁▁▁▁▁▁▁▁▁▁▁▁▁▁▁▁▁▁▁▁▁▁▁▁▁▁▁▁▁▁▁▁▁▁▁▁▁▁▁</td></tr></table><br/></div><div class=\"wandb-col\"><h3>Run summary:</h3><br/><table class=\"wandb\"><tr><td>best_epoch</td><td>46</td></tr><tr><td>best_val_loss</td><td>0.49192</td></tr><tr><td>epoch</td><td>68</td></tr><tr><td>loss</td><td>0.62897</td></tr><tr><td>val_loss</td><td>0.5589</td></tr></table><br/></div></div>"
      ],
      "text/plain": [
       "<IPython.core.display.HTML object>"
      ]
     },
     "metadata": {},
     "output_type": "display_data"
    },
    {
     "data": {
      "text/html": [
       "Synced <strong style=\"color:#cdcd00\">kind-sweep-13</strong>: <a href=\"https://wandb.ai/ghirsch/Astro101_project_v4/runs/y3992xwq\" target=\"_blank\">https://wandb.ai/ghirsch/Astro101_project_v4/runs/y3992xwq</a><br/>Synced 6 W&B file(s), 1 media file(s), 0 artifact file(s) and 1 other file(s)"
      ],
      "text/plain": [
       "<IPython.core.display.HTML object>"
      ]
     },
     "metadata": {},
     "output_type": "display_data"
    },
    {
     "data": {
      "text/html": [
       "Find logs at: <code>./wandb/run-20221206_175710-y3992xwq/logs</code>"
      ],
      "text/plain": [
       "<IPython.core.display.HTML object>"
      ]
     },
     "metadata": {},
     "output_type": "display_data"
    },
    {
     "name": "stderr",
     "output_type": "stream",
     "text": [
      "\u001b[34m\u001b[1mwandb\u001b[0m: Sweep Agent: Waiting for job.\n",
      "wandb: ERROR Dropped streaming file chunk (see wandb/debug-internal.log)\n",
      "ERROR:root:dropped chunk 404 Client Error: Not Found for url: https://api.wandb.ai/files/ghirsch/Astro101_project_v4/37woihe7/file_stream\n",
      "NoneType: None\n",
      "\u001b[34m\u001b[1mwandb\u001b[0m: Job received.\n",
      "\u001b[34m\u001b[1mwandb\u001b[0m: Agent Starting Run: zkugec33 with config:\n",
      "\u001b[34m\u001b[1mwandb\u001b[0m: \tbatch_size: 96\n",
      "\u001b[34m\u001b[1mwandb\u001b[0m: \tdropout: 0.33898408648737005\n",
      "\u001b[34m\u001b[1mwandb\u001b[0m: \tepochs: 57\n",
      "\u001b[34m\u001b[1mwandb\u001b[0m: \tlearning_rate: 0.05568425093202788\n",
      "\u001b[34m\u001b[1mwandb\u001b[0m: \tsize_1: 240\n",
      "\u001b[34m\u001b[1mwandb\u001b[0m: \tsize_2: 142\n",
      "\u001b[34m\u001b[1mwandb\u001b[0m: \tsize_3: 136\n",
      "\u001b[34m\u001b[1mwandb\u001b[0m: \tsize_4: 103\n",
      "\u001b[34m\u001b[1mwandb\u001b[0m: \tsize_5: 204\n"
     ]
    },
    {
     "data": {
      "text/html": [
       "wandb version 0.13.6 is available!  To upgrade, please run:\n",
       " $ pip install wandb --upgrade"
      ],
      "text/plain": [
       "<IPython.core.display.HTML object>"
      ]
     },
     "metadata": {},
     "output_type": "display_data"
    },
    {
     "data": {
      "text/html": [
       "Tracking run with wandb version 0.12.20"
      ],
      "text/plain": [
       "<IPython.core.display.HTML object>"
      ]
     },
     "metadata": {},
     "output_type": "display_data"
    },
    {
     "data": {
      "text/html": [
       "Run data is saved locally in <code>/Users/morty/a101_comp/NN_Tutorial/NN_Tutorial_2/Graham-Data-Processing/nn_v0.0.1/wandb/run-20221206_175811-zkugec33</code>"
      ],
      "text/plain": [
       "<IPython.core.display.HTML object>"
      ]
     },
     "metadata": {},
     "output_type": "display_data"
    },
    {
     "data": {
      "text/html": [
       "Syncing run <strong><a href=\"https://wandb.ai/ghirsch/Astro101_project_v4/runs/zkugec33\" target=\"_blank\">northern-sweep-14</a></strong> to <a href=\"https://wandb.ai/ghirsch/Astro101_project_v4\" target=\"_blank\">Weights & Biases</a> (<a href=\"https://wandb.me/run\" target=\"_blank\">docs</a>)<br/>Sweep page:  <a href=\"https://wandb.ai/ghirsch/Astro101_project_v4/sweeps/9sbj5834\" target=\"_blank\">https://wandb.ai/ghirsch/Astro101_project_v4/sweeps/9sbj5834</a>"
      ],
      "text/plain": [
       "<IPython.core.display.HTML object>"
      ]
     },
     "metadata": {},
     "output_type": "display_data"
    },
    {
     "name": "stdout",
     "output_type": "stream",
     "text": [
      "Epoch 1/57\n",
      "10/10 [==============================] - 1s 30ms/step - loss: 2304.2126 - val_loss: 221.2895 - _timestamp: 1670378311.0000 - _runtime: 20.0000\n",
      "Epoch 2/57\n",
      "10/10 [==============================] - 0s 6ms/step - loss: 445.3776 - val_loss: 299.6058 - _timestamp: 1670378312.0000 - _runtime: 21.0000\n",
      "Epoch 3/57\n",
      "10/10 [==============================] - 0s 9ms/step - loss: 321.4841 - val_loss: 344.2290 - _timestamp: 1670378312.0000 - _runtime: 21.0000\n",
      "Epoch 4/57\n",
      "10/10 [==============================] - 0s 17ms/step - loss: 131.7992 - val_loss: 33.0712 - _timestamp: 1670378312.0000 - _runtime: 21.0000\n",
      "Epoch 5/57\n",
      "10/10 [==============================] - 0s 19ms/step - loss: 35.6003 - val_loss: 16.2012 - _timestamp: 1670378312.0000 - _runtime: 21.0000\n",
      "Epoch 6/57\n",
      "10/10 [==============================] - 0s 12ms/step - loss: 12.3988 - val_loss: 5.8482 - _timestamp: 1670378312.0000 - _runtime: 21.0000\n",
      "Epoch 7/57\n",
      "10/10 [==============================] - 0s 13ms/step - loss: 5.0811 - val_loss: 2.5105 - _timestamp: 1670378312.0000 - _runtime: 21.0000\n",
      "Epoch 8/57\n",
      "10/10 [==============================] - 0s 15ms/step - loss: 2.4034 - val_loss: 1.1760 - _timestamp: 1670378312.0000 - _runtime: 21.0000\n",
      "Epoch 9/57\n",
      "10/10 [==============================] - 0s 19ms/step - loss: 1.7262 - val_loss: 0.8227 - _timestamp: 1670378313.0000 - _runtime: 22.0000\n",
      "Epoch 10/57\n",
      "10/10 [==============================] - 0s 15ms/step - loss: 1.3469 - val_loss: 0.7862 - _timestamp: 1670378313.0000 - _runtime: 22.0000\n",
      "Epoch 11/57\n",
      "10/10 [==============================] - 0s 17ms/step - loss: 1.2653 - val_loss: 0.7843 - _timestamp: 1670378313.0000 - _runtime: 22.0000\n",
      "Epoch 12/57\n",
      "10/10 [==============================] - 0s 15ms/step - loss: 1.0906 - val_loss: 0.7193 - _timestamp: 1670378313.0000 - _runtime: 22.0000\n",
      "Epoch 13/57\n",
      "10/10 [==============================] - 0s 18ms/step - loss: 1.0025 - val_loss: 0.6694 - _timestamp: 1670378313.0000 - _runtime: 22.0000\n",
      "Epoch 14/57\n",
      "10/10 [==============================] - 0s 33ms/step - loss: 0.9056 - val_loss: 0.6487 - _timestamp: 1670378313.0000 - _runtime: 22.0000\n",
      "Epoch 15/57\n",
      "10/10 [==============================] - 0s 9ms/step - loss: 0.8998 - val_loss: 0.6646 - _timestamp: 1670378314.0000 - _runtime: 23.0000\n",
      "Epoch 16/57\n",
      "10/10 [==============================] - 0s 12ms/step - loss: 0.8410 - val_loss: 0.6962 - _timestamp: 1670378314.0000 - _runtime: 23.0000\n",
      "Epoch 17/57\n",
      " 1/10 [==>...........................] - ETA: 0s - loss: 0.6918"
     ]
    },
    {
     "name": "stderr",
     "output_type": "stream",
     "text": [
      "wandb: ERROR Dropped streaming file chunk (see wandb/debug-internal.log)\n",
      "ERROR:root:dropped chunk 404 Client Error: Not Found for url: https://api.wandb.ai/files/ghirsch/Astro101_project_v4/37woihe7/file_stream\n",
      "NoneType: None\n"
     ]
    },
    {
     "name": "stdout",
     "output_type": "stream",
     "text": [
      "10/10 [==============================] - 0s 10ms/step - loss: 0.9640 - val_loss: 0.6573 - _timestamp: 1670378314.0000 - _runtime: 23.0000\n",
      "Epoch 18/57\n",
      "10/10 [==============================] - 0s 10ms/step - loss: 0.8275 - val_loss: 0.6787 - _timestamp: 1670378314.0000 - _runtime: 23.0000\n",
      "Epoch 19/57\n",
      "10/10 [==============================] - 0s 19ms/step - loss: 0.8023 - val_loss: 0.6083 - _timestamp: 1670378314.0000 - _runtime: 23.0000\n",
      "Epoch 20/57\n",
      "10/10 [==============================] - 0s 27ms/step - loss: 0.8166 - val_loss: 0.5944 - _timestamp: 1670378314.0000 - _runtime: 23.0000\n",
      "Epoch 21/57\n",
      "10/10 [==============================] - 0s 19ms/step - loss: 0.7659 - val_loss: 0.5929 - _timestamp: 1670378315.0000 - _runtime: 24.0000\n",
      "Epoch 22/57\n",
      "10/10 [==============================] - 0s 18ms/step - loss: 0.7580 - val_loss: 0.5742 - _timestamp: 1670378315.0000 - _runtime: 24.0000\n",
      "Epoch 23/57\n",
      "10/10 [==============================] - 0s 20ms/step - loss: 0.7745 - val_loss: 0.6055 - _timestamp: 1670378315.0000 - _runtime: 24.0000\n",
      "Epoch 24/57\n",
      "10/10 [==============================] - 0s 13ms/step - loss: 0.7945 - val_loss: 0.5761 - _timestamp: 1670378315.0000 - _runtime: 24.0000\n",
      "Epoch 25/57\n",
      "10/10 [==============================] - 0s 21ms/step - loss: 0.7546 - val_loss: 0.5582 - _timestamp: 1670378315.0000 - _runtime: 24.0000\n",
      "Epoch 26/57\n",
      "10/10 [==============================] - 0s 19ms/step - loss: 0.6832 - val_loss: 0.5763 - _timestamp: 1670378316.0000 - _runtime: 25.0000\n",
      "Epoch 27/57\n",
      "10/10 [==============================] - 0s 20ms/step - loss: 0.7438 - val_loss: 0.5662 - _timestamp: 1670378316.0000 - _runtime: 25.0000\n",
      "Epoch 28/57\n",
      "10/10 [==============================] - 0s 22ms/step - loss: 0.7280 - val_loss: 0.5470 - _timestamp: 1670378316.0000 - _runtime: 25.0000\n",
      "Epoch 29/57\n",
      "10/10 [==============================] - 0s 11ms/step - loss: 0.7195 - val_loss: 0.5875 - _timestamp: 1670378316.0000 - _runtime: 25.0000\n",
      "Epoch 30/57\n",
      "10/10 [==============================] - 0s 9ms/step - loss: 0.7366 - val_loss: 0.5775 - _timestamp: 1670378316.0000 - _runtime: 25.0000\n",
      "Epoch 31/57\n",
      "10/10 [==============================] - 0s 7ms/step - loss: 0.6778 - val_loss: 0.6179 - _timestamp: 1670378316.0000 - _runtime: 25.0000\n",
      "Epoch 32/57\n",
      "10/10 [==============================] - 0s 15ms/step - loss: 0.6986 - val_loss: 0.5323 - _timestamp: 1670378316.0000 - _runtime: 25.0000\n",
      "Epoch 33/57\n",
      "10/10 [==============================] - 0s 11ms/step - loss: 0.6888 - val_loss: 0.5467 - _timestamp: 1670378317.0000 - _runtime: 26.0000\n",
      "Epoch 34/57\n",
      "10/10 [==============================] - 0s 10ms/step - loss: 0.7106 - val_loss: 0.6197 - _timestamp: 1670378317.0000 - _runtime: 26.0000\n",
      "Epoch 35/57\n",
      "10/10 [==============================] - 0s 7ms/step - loss: 0.6860 - val_loss: 0.5517 - _timestamp: 1670378317.0000 - _runtime: 26.0000\n",
      "Epoch 36/57\n",
      "10/10 [==============================] - 0s 13ms/step - loss: 0.6678 - val_loss: 0.5473 - _timestamp: 1670378317.0000 - _runtime: 26.0000\n",
      "Epoch 37/57\n",
      "10/10 [==============================] - 0s 11ms/step - loss: 0.7027 - val_loss: 0.6397 - _timestamp: 1670378317.0000 - _runtime: 26.0000\n",
      "Epoch 38/57\n",
      "10/10 [==============================] - 0s 34ms/step - loss: 0.6848 - val_loss: 0.5279 - _timestamp: 1670378317.0000 - _runtime: 26.0000\n",
      "Epoch 39/57\n",
      "10/10 [==============================] - 0s 37ms/step - loss: 0.6205 - val_loss: 0.5015 - _timestamp: 1670378317.0000 - _runtime: 26.0000\n",
      "Epoch 40/57\n",
      "10/10 [==============================] - 0s 17ms/step - loss: 0.5925 - val_loss: 0.5071 - _timestamp: 1670378318.0000 - _runtime: 27.0000\n",
      "Epoch 41/57\n",
      "10/10 [==============================] - 0s 22ms/step - loss: 0.6165 - val_loss: 0.5151 - _timestamp: 1670378318.0000 - _runtime: 27.0000\n",
      "Epoch 42/57\n",
      "10/10 [==============================] - 0s 21ms/step - loss: 0.5939 - val_loss: 0.4804 - _timestamp: 1670378318.0000 - _runtime: 27.0000\n",
      "Epoch 43/57\n",
      "10/10 [==============================] - 0s 15ms/step - loss: 0.6172 - val_loss: 0.4987 - _timestamp: 1670378318.0000 - _runtime: 27.0000\n",
      "Epoch 44/57\n",
      "10/10 [==============================] - 0s 33ms/step - loss: 0.6066 - val_loss: 0.4757 - _timestamp: 1670378318.0000 - _runtime: 27.0000\n",
      "Epoch 45/57\n",
      "10/10 [==============================] - 0s 24ms/step - loss: 0.6514 - val_loss: 0.5062 - _timestamp: 1670378319.0000 - _runtime: 28.0000\n",
      "Epoch 46/57\n",
      "10/10 [==============================] - 0s 24ms/step - loss: 0.5811 - val_loss: 0.4698 - _timestamp: 1670378319.0000 - _runtime: 28.0000\n",
      "Epoch 47/57\n",
      "10/10 [==============================] - 0s 11ms/step - loss: 0.5842 - val_loss: 0.5514 - _timestamp: 1670378319.0000 - _runtime: 28.0000\n",
      "Epoch 48/57\n",
      "10/10 [==============================] - 0s 9ms/step - loss: 0.6435 - val_loss: 0.6506 - _timestamp: 1670378319.0000 - _runtime: 28.0000\n",
      "Epoch 49/57\n",
      "10/10 [==============================] - 0s 8ms/step - loss: 0.7628 - val_loss: 0.5232 - _timestamp: 1670378319.0000 - _runtime: 28.0000\n",
      "Epoch 50/57\n",
      "10/10 [==============================] - 0s 9ms/step - loss: 0.6525 - val_loss: 0.5344 - _timestamp: 1670378319.0000 - _runtime: 28.0000\n",
      "Epoch 51/57\n",
      "10/10 [==============================] - 0s 7ms/step - loss: 0.6048 - val_loss: 0.4844 - _timestamp: 1670378320.0000 - _runtime: 29.0000\n",
      "Epoch 52/57\n",
      "10/10 [==============================] - 0s 11ms/step - loss: 0.6166 - val_loss: 0.4867 - _timestamp: 1670378320.0000 - _runtime: 29.0000\n",
      "Epoch 53/57\n",
      "10/10 [==============================] - 0s 6ms/step - loss: 0.6332 - val_loss: 0.5221 - _timestamp: 1670378320.0000 - _runtime: 29.0000\n",
      "Epoch 54/57\n",
      "10/10 [==============================] - 0s 8ms/step - loss: 0.5999 - val_loss: 0.5092 - _timestamp: 1670378320.0000 - _runtime: 29.0000\n",
      "Epoch 55/57\n",
      "10/10 [==============================] - 0s 13ms/step - loss: 0.6690 - val_loss: 0.4682 - _timestamp: 1670378320.0000 - _runtime: 29.0000\n",
      "Epoch 56/57\n",
      "10/10 [==============================] - 0s 6ms/step - loss: 0.6347 - val_loss: 0.5009 - _timestamp: 1670378320.0000 - _runtime: 29.0000\n",
      "Epoch 57/57\n",
      "10/10 [==============================] - 0s 11ms/step - loss: 0.5402 - val_loss: 0.4572 - _timestamp: 1670378320.0000 - _runtime: 29.0000\n"
     ]
    },
    {
     "data": {
      "text/html": [
       "Waiting for W&B process to finish... <strong style=\"color:green\">(success).</strong>"
      ],
      "text/plain": [
       "<IPython.core.display.HTML object>"
      ]
     },
     "metadata": {},
     "output_type": "display_data"
    },
    {
     "data": {
      "application/vnd.jupyter.widget-view+json": {
       "model_id": "8a18ba97d1d64ade9a4167e27eebfb7c",
       "version_major": 2,
       "version_minor": 0
      },
      "text/plain": [
       "VBox(children=(Label(value='0.294 MB of 0.294 MB uploaded (0.000 MB deduped)\\r'), FloatProgress(value=1.0, max…"
      ]
     },
     "metadata": {},
     "output_type": "display_data"
    },
    {
     "data": {
      "text/html": [
       "<style>\n",
       "    table.wandb td:nth-child(1) { padding: 0 10px; text-align: left ; width: auto;} td:nth-child(2) {text-align: left ; width: 100%}\n",
       "    .wandb-row { display: flex; flex-direction: row; flex-wrap: wrap; justify-content: flex-start; width: 100% }\n",
       "    .wandb-col { display: flex; flex-direction: column; flex-basis: 100%; flex: 1; padding: 10px; }\n",
       "    </style>\n",
       "<div class=\"wandb-row\"><div class=\"wandb-col\"><h3>Run history:</h3><br/><table class=\"wandb\"><tr><td>epoch</td><td>▁▁▁▁▂▂▂▂▂▃▃▃▃▃▃▄▄▄▄▄▅▅▅▅▅▅▆▆▆▆▆▇▇▇▇▇▇███</td></tr><tr><td>loss</td><td>█▂▂▁▁▁▁▁▁▁▁▁▁▁▁▁▁▁▁▁▁▁▁▁▁▁▁▁▁▁▁▁▁▁▁▁▁▁▁▁</td></tr><tr><td>val_loss</td><td>▅▇█▁▁▁▁▁▁▁▁▁▁▁▁▁▁▁▁▁▁▁▁▁▁▁▁▁▁▁▁▁▁▁▁▁▁▁▁▁</td></tr></table><br/></div><div class=\"wandb-col\"><h3>Run summary:</h3><br/><table class=\"wandb\"><tr><td>best_epoch</td><td>56</td></tr><tr><td>best_val_loss</td><td>0.45718</td></tr><tr><td>epoch</td><td>56</td></tr><tr><td>loss</td><td>0.54019</td></tr><tr><td>val_loss</td><td>0.45718</td></tr></table><br/></div></div>"
      ],
      "text/plain": [
       "<IPython.core.display.HTML object>"
      ]
     },
     "metadata": {},
     "output_type": "display_data"
    },
    {
     "data": {
      "text/html": [
       "Synced <strong style=\"color:#cdcd00\">northern-sweep-14</strong>: <a href=\"https://wandb.ai/ghirsch/Astro101_project_v4/runs/zkugec33\" target=\"_blank\">https://wandb.ai/ghirsch/Astro101_project_v4/runs/zkugec33</a><br/>Synced 6 W&B file(s), 1 media file(s), 0 artifact file(s) and 1 other file(s)"
      ],
      "text/plain": [
       "<IPython.core.display.HTML object>"
      ]
     },
     "metadata": {},
     "output_type": "display_data"
    },
    {
     "data": {
      "text/html": [
       "Find logs at: <code>./wandb/run-20221206_175811-zkugec33/logs</code>"
      ],
      "text/plain": [
       "<IPython.core.display.HTML object>"
      ]
     },
     "metadata": {},
     "output_type": "display_data"
    },
    {
     "name": "stderr",
     "output_type": "stream",
     "text": [
      "\u001b[34m\u001b[1mwandb\u001b[0m: Agent Starting Run: 2ht3z1fv with config:\n",
      "\u001b[34m\u001b[1mwandb\u001b[0m: \tbatch_size: 32\n",
      "\u001b[34m\u001b[1mwandb\u001b[0m: \tdropout: 0.5294868434712169\n",
      "\u001b[34m\u001b[1mwandb\u001b[0m: \tepochs: 60\n",
      "\u001b[34m\u001b[1mwandb\u001b[0m: \tlearning_rate: 0.039290578916501465\n",
      "\u001b[34m\u001b[1mwandb\u001b[0m: \tsize_1: 181\n",
      "\u001b[34m\u001b[1mwandb\u001b[0m: \tsize_2: 126\n",
      "\u001b[34m\u001b[1mwandb\u001b[0m: \tsize_3: 132\n",
      "\u001b[34m\u001b[1mwandb\u001b[0m: \tsize_4: 113\n",
      "\u001b[34m\u001b[1mwandb\u001b[0m: \tsize_5: 78\n",
      "wandb: ERROR Dropped streaming file chunk (see wandb/debug-internal.log)\n",
      "ERROR:root:dropped chunk 404 Client Error: Not Found for url: https://api.wandb.ai/files/ghirsch/Astro101_project_v4/37woihe7/file_stream\n",
      "NoneType: None\n"
     ]
    },
    {
     "data": {
      "text/html": [
       "wandb version 0.13.6 is available!  To upgrade, please run:\n",
       " $ pip install wandb --upgrade"
      ],
      "text/plain": [
       "<IPython.core.display.HTML object>"
      ]
     },
     "metadata": {},
     "output_type": "display_data"
    },
    {
     "data": {
      "text/html": [
       "Tracking run with wandb version 0.12.20"
      ],
      "text/plain": [
       "<IPython.core.display.HTML object>"
      ]
     },
     "metadata": {},
     "output_type": "display_data"
    },
    {
     "data": {
      "text/html": [
       "Run data is saved locally in <code>/Users/morty/a101_comp/NN_Tutorial/NN_Tutorial_2/Graham-Data-Processing/nn_v0.0.1/wandb/run-20221206_175856-2ht3z1fv</code>"
      ],
      "text/plain": [
       "<IPython.core.display.HTML object>"
      ]
     },
     "metadata": {},
     "output_type": "display_data"
    },
    {
     "data": {
      "text/html": [
       "Syncing run <strong><a href=\"https://wandb.ai/ghirsch/Astro101_project_v4/runs/2ht3z1fv\" target=\"_blank\">sparkling-sweep-15</a></strong> to <a href=\"https://wandb.ai/ghirsch/Astro101_project_v4\" target=\"_blank\">Weights & Biases</a> (<a href=\"https://wandb.me/run\" target=\"_blank\">docs</a>)<br/>Sweep page:  <a href=\"https://wandb.ai/ghirsch/Astro101_project_v4/sweeps/9sbj5834\" target=\"_blank\">https://wandb.ai/ghirsch/Astro101_project_v4/sweeps/9sbj5834</a>"
      ],
      "text/plain": [
       "<IPython.core.display.HTML object>"
      ]
     },
     "metadata": {},
     "output_type": "display_data"
    },
    {
     "name": "stdout",
     "output_type": "stream",
     "text": [
      "Epoch 1/60\n",
      "29/29 [==============================] - 2s 15ms/step - loss: 40.9498 - val_loss: 2.4923 - _timestamp: 1670378357.0000 - _runtime: 21.0000\n",
      "Epoch 2/60\n",
      "29/29 [==============================] - 0s 9ms/step - loss: 2.3439 - val_loss: 1.1236 - _timestamp: 1670378357.0000 - _runtime: 21.0000\n",
      "Epoch 3/60\n",
      "29/29 [==============================] - 0s 7ms/step - loss: 1.1667 - val_loss: 0.9039 - _timestamp: 1670378358.0000 - _runtime: 22.0000\n",
      "Epoch 4/60\n",
      "29/29 [==============================] - 0s 5ms/step - loss: 1.1446 - val_loss: 1.0795 - _timestamp: 1670378358.0000 - _runtime: 22.0000\n",
      "Epoch 5/60\n",
      "29/29 [==============================] - 0s 10ms/step - loss: 1.1312 - val_loss: 0.8589 - _timestamp: 1670378358.0000 - _runtime: 22.0000\n",
      "Epoch 6/60\n",
      "29/29 [==============================] - 0s 5ms/step - loss: 1.0145 - val_loss: 0.8598 - _timestamp: 1670378358.0000 - _runtime: 22.0000\n",
      "Epoch 7/60\n",
      "29/29 [==============================] - 0s 7ms/step - loss: 0.9214 - val_loss: 0.6951 - _timestamp: 1670378358.0000 - _runtime: 22.0000\n",
      "Epoch 8/60\n",
      "29/29 [==============================] - 0s 5ms/step - loss: 0.9402 - val_loss: 0.7944 - _timestamp: 1670378359.0000 - _runtime: 23.0000\n",
      "Epoch 9/60\n",
      "29/29 [==============================] - 0s 5ms/step - loss: 0.9150 - val_loss: 0.8978 - _timestamp: 1670378359.0000 - _runtime: 23.0000\n",
      "Epoch 10/60\n",
      "29/29 [==============================] - 0s 5ms/step - loss: 0.9342 - val_loss: 0.7497 - _timestamp: 1670378359.0000 - _runtime: 23.0000\n",
      "Epoch 11/60\n",
      "29/29 [==============================] - 0s 7ms/step - loss: 0.9993 - val_loss: 1.0141 - _timestamp: 1670378359.0000 - _runtime: 23.0000\n",
      "Epoch 12/60\n",
      "29/29 [==============================] - 0s 5ms/step - loss: 1.0618 - val_loss: 0.8249 - _timestamp: 1670378359.0000 - _runtime: 23.0000\n",
      "Epoch 13/60\n",
      "29/29 [==============================] - 0s 4ms/step - loss: 0.9926 - val_loss: 0.9544 - _timestamp: 1670378359.0000 - _runtime: 23.0000\n",
      "Epoch 14/60\n",
      "29/29 [==============================] - 0s 6ms/step - loss: 0.9834 - val_loss: 0.7530 - _timestamp: 1670378360.0000 - _runtime: 24.0000\n",
      "Epoch 15/60\n",
      "29/29 [==============================] - 0s 4ms/step - loss: 0.8661 - val_loss: 0.7337 - _timestamp: 1670378360.0000 - _runtime: 24.0000\n",
      "Epoch 16/60\n",
      "29/29 [==============================] - 0s 6ms/step - loss: 0.7652 - val_loss: 0.7786 - _timestamp: 1670378360.0000 - _runtime: 24.0000\n",
      "Epoch 17/60\n",
      "29/29 [==============================] - 0s 5ms/step - loss: 0.8349 - val_loss: 0.8683 - _timestamp: 1670378360.0000 - _runtime: 24.0000\n",
      "Epoch 18/60\n",
      "29/29 [==============================] - 0s 9ms/step - loss: 0.8242 - val_loss: 0.6974 - _timestamp: 1670378360.0000 - _runtime: 24.0000\n",
      "Epoch 19/60\n",
      "29/29 [==============================] - 0s 5ms/step - loss: 0.8594 - val_loss: 0.7098 - _timestamp: 1670378360.0000 - _runtime: 24.0000\n",
      "Epoch 20/60\n",
      "29/29 [==============================] - 0s 6ms/step - loss: 0.8480 - val_loss: 0.7266 - _timestamp: 1670378361.0000 - _runtime: 25.0000\n",
      "Epoch 21/60\n",
      "29/29 [==============================] - 0s 9ms/step - loss: 0.8571 - val_loss: 0.7609 - _timestamp: 1670378361.0000 - _runtime: 25.0000\n",
      "Epoch 22/60\n",
      "29/29 [==============================] - 0s 9ms/step - loss: 0.7989 - val_loss: 0.6197 - _timestamp: 1670378361.0000 - _runtime: 25.0000\n",
      "Epoch 23/60\n",
      "29/29 [==============================] - 0s 4ms/step - loss: 0.8095 - val_loss: 0.7001 - _timestamp: 1670378361.0000 - _runtime: 25.0000\n",
      "Epoch 24/60\n",
      "29/29 [==============================] - 0s 7ms/step - loss: 0.7323 - val_loss: 0.6130 - _timestamp: 1670378361.0000 - _runtime: 25.0000\n",
      "Epoch 25/60\n",
      "29/29 [==============================] - 0s 4ms/step - loss: 0.9701 - val_loss: 0.7104 - _timestamp: 1670378361.0000 - _runtime: 25.0000\n",
      "Epoch 26/60\n",
      "29/29 [==============================] - 0s 4ms/step - loss: 0.8582 - val_loss: 0.7408 - _timestamp: 1670378362.0000 - _runtime: 26.0000\n",
      "Epoch 27/60\n",
      "29/29 [==============================] - 0s 5ms/step - loss: 0.8144 - val_loss: 0.6976 - _timestamp: 1670378362.0000 - _runtime: 26.0000\n",
      "Epoch 28/60\n",
      "29/29 [==============================] - 0s 8ms/step - loss: 0.8068 - val_loss: 0.6344 - _timestamp: 1670378362.0000 - _runtime: 26.0000\n",
      "Epoch 29/60\n",
      "29/29 [==============================] - 0s 7ms/step - loss: 0.8444 - val_loss: 0.7952 - _timestamp: 1670378362.0000 - _runtime: 26.0000\n",
      "Epoch 30/60\n",
      "29/29 [==============================] - 0s 8ms/step - loss: 0.8406 - val_loss: 0.8336 - _timestamp: 1670378362.0000 - _runtime: 26.0000\n",
      "Epoch 31/60\n",
      "29/29 [==============================] - 0s 9ms/step - loss: 1.0957 - val_loss: 0.8050 - _timestamp: 1670378363.0000 - _runtime: 27.0000\n",
      "Epoch 32/60\n",
      "29/29 [==============================] - 0s 12ms/step - loss: 0.8220 - val_loss: 0.6896 - _timestamp: 1670378363.0000 - _runtime: 27.0000\n",
      "Epoch 33/60\n",
      "29/29 [==============================] - 0s 9ms/step - loss: 0.8663 - val_loss: 0.7564 - _timestamp: 1670378363.0000 - _runtime: 27.0000\n",
      "Epoch 34/60\n",
      "29/29 [==============================] - 0s 8ms/step - loss: 0.8995 - val_loss: 0.8191 - _timestamp: 1670378364.0000 - _runtime: 28.0000\n",
      "Epoch 35/60\n",
      "29/29 [==============================] - 0s 6ms/step - loss: 0.8534 - val_loss: 0.6728 - _timestamp: 1670378364.0000 - _runtime: 28.0000\n",
      "Epoch 36/60\n",
      "29/29 [==============================] - 0s 11ms/step - loss: 0.7979 - val_loss: 0.7048 - _timestamp: 1670378364.0000 - _runtime: 28.0000\n",
      "Epoch 37/60\n",
      "29/29 [==============================] - 0s 5ms/step - loss: 0.8308 - val_loss: 0.6360 - _timestamp: 1670378364.0000 - _runtime: 28.0000\n",
      "Epoch 38/60\n",
      "29/29 [==============================] - 0s 6ms/step - loss: 0.8149 - val_loss: 0.6164 - _timestamp: 1670378364.0000 - _runtime: 28.0000\n",
      "Epoch 39/60\n",
      "29/29 [==============================] - 0s 7ms/step - loss: 0.7699 - val_loss: 0.9931 - _timestamp: 1670378365.0000 - _runtime: 29.0000\n",
      "Epoch 40/60\n",
      "29/29 [==============================] - 0s 14ms/step - loss: 0.9216 - val_loss: 1.0529 - _timestamp: 1670378365.0000 - _runtime: 29.0000\n",
      "Epoch 41/60\n",
      "29/29 [==============================] - 0s 5ms/step - loss: 0.8663 - val_loss: 0.7106 - _timestamp: 1670378365.0000 - _runtime: 29.0000\n",
      "Epoch 42/60\n",
      "29/29 [==============================] - 0s 5ms/step - loss: 0.8603 - val_loss: 0.7850 - _timestamp: 1670378365.0000 - _runtime: 29.0000\n",
      "Epoch 43/60\n",
      "29/29 [==============================] - 0s 4ms/step - loss: 0.8506 - val_loss: 0.6901 - _timestamp: 1670378365.0000 - _runtime: 29.0000\n",
      "Epoch 44/60\n",
      "29/29 [==============================] - 0s 4ms/step - loss: 0.7914 - val_loss: 0.9300 - _timestamp: 1670378365.0000 - _runtime: 29.0000\n",
      "Epoch 45/60\n",
      "29/29 [==============================] - 0s 4ms/step - loss: 0.8041 - val_loss: 0.6766 - _timestamp: 1670378366.0000 - _runtime: 30.0000\n",
      "Epoch 46/60\n",
      "29/29 [==============================] - 0s 3ms/step - loss: 0.8776 - val_loss: 0.6512 - _timestamp: 1670378366.0000 - _runtime: 30.0000\n",
      "Epoch 47/60\n",
      "29/29 [==============================] - 0s 3ms/step - loss: 0.8600 - val_loss: 0.9354 - _timestamp: 1670378366.0000 - _runtime: 30.0000\n",
      "Epoch 48/60\n",
      "29/29 [==============================] - 0s 3ms/step - loss: 0.9597 - val_loss: 0.7856 - _timestamp: 1670378366.0000 - _runtime: 30.0000\n",
      "Epoch 49/60\n",
      "29/29 [==============================] - 0s 4ms/step - loss: 0.8944 - val_loss: 0.6669 - _timestamp: 1670378366.0000 - _runtime: 30.0000\n",
      "Epoch 50/60\n",
      "29/29 [==============================] - 0s 3ms/step - loss: 0.7600 - val_loss: 0.7179 - _timestamp: 1670378366.0000 - _runtime: 30.0000\n",
      "Epoch 51/60\n",
      "29/29 [==============================] - 0s 3ms/step - loss: 1.0061 - val_loss: 0.7543 - _timestamp: 1670378366.0000 - _runtime: 30.0000\n",
      "Epoch 52/60\n",
      "29/29 [==============================] - 0s 3ms/step - loss: 0.9102 - val_loss: 0.6859 - _timestamp: 1670378366.0000 - _runtime: 30.0000\n",
      "Epoch 53/60\n",
      "29/29 [==============================] - 0s 3ms/step - loss: 0.9039 - val_loss: 0.9977 - _timestamp: 1670378366.0000 - _runtime: 30.0000\n",
      "Epoch 54/60\n",
      "29/29 [==============================] - 0s 3ms/step - loss: 0.8753 - val_loss: 0.6658 - _timestamp: 1670378366.0000 - _runtime: 30.0000\n",
      "Epoch 55/60\n",
      "29/29 [==============================] - 0s 4ms/step - loss: 0.8575 - val_loss: 0.5922 - _timestamp: 1670378367.0000 - _runtime: 31.0000\n",
      "Epoch 56/60\n",
      "29/29 [==============================] - 0s 9ms/step - loss: 0.8143 - val_loss: 0.9598 - _timestamp: 1670378367.0000 - _runtime: 31.0000\n",
      "Epoch 57/60\n",
      "29/29 [==============================] - 0s 4ms/step - loss: 0.9234 - val_loss: 0.7981 - _timestamp: 1670378367.0000 - _runtime: 31.0000\n",
      "Epoch 58/60\n",
      "29/29 [==============================] - 0s 3ms/step - loss: 0.8466 - val_loss: 0.6583 - _timestamp: 1670378367.0000 - _runtime: 31.0000\n",
      "Epoch 59/60\n",
      "29/29 [==============================] - 0s 3ms/step - loss: 0.7775 - val_loss: 0.7532 - _timestamp: 1670378367.0000 - _runtime: 31.0000\n",
      "Epoch 60/60\n",
      "29/29 [==============================] - 0s 3ms/step - loss: 0.7317 - val_loss: 0.8759 - _timestamp: 1670378367.0000 - _runtime: 31.0000\n"
     ]
    },
    {
     "data": {
      "text/html": [
       "Waiting for W&B process to finish... <strong style=\"color:green\">(success).</strong>"
      ],
      "text/plain": [
       "<IPython.core.display.HTML object>"
      ]
     },
     "metadata": {},
     "output_type": "display_data"
    },
    {
     "data": {
      "application/vnd.jupyter.widget-view+json": {
       "model_id": "f4ac4f09766040baa766169c9000c07b",
       "version_major": 2,
       "version_minor": 0
      },
      "text/plain": [
       "VBox(children=(Label(value='0.827 MB of 0.827 MB uploaded (0.000 MB deduped)\\r'), FloatProgress(value=1.0, max…"
      ]
     },
     "metadata": {},
     "output_type": "display_data"
    },
    {
     "name": "stderr",
     "output_type": "stream",
     "text": [
      "wandb: ERROR Dropped streaming file chunk (see wandb/debug-internal.log)\n",
      "ERROR:root:dropped chunk 404 Client Error: Not Found for url: https://api.wandb.ai/files/ghirsch/Astro101_project_v4/37woihe7/file_stream\n",
      "NoneType: None\n"
     ]
    },
    {
     "data": {
      "text/html": [
       "<style>\n",
       "    table.wandb td:nth-child(1) { padding: 0 10px; text-align: left ; width: auto;} td:nth-child(2) {text-align: left ; width: 100%}\n",
       "    .wandb-row { display: flex; flex-direction: row; flex-wrap: wrap; justify-content: flex-start; width: 100% }\n",
       "    .wandb-col { display: flex; flex-direction: column; flex-basis: 100%; flex: 1; padding: 10px; }\n",
       "    </style>\n",
       "<div class=\"wandb-row\"><div class=\"wandb-col\"><h3>Run history:</h3><br/><table class=\"wandb\"><tr><td>epoch</td><td>▁▁▁▁▂▂▂▂▂▃▃▃▃▃▃▄▄▄▄▄▅▅▅▅▅▅▆▆▆▆▆▆▇▇▇▇▇███</td></tr><tr><td>loss</td><td>█▁▁▁▁▁▁▁▁▁▁▁▁▁▁▁▁▁▁▁▁▁▁▁▁▁▁▁▁▁▁▁▁▁▁▁▁▁▁▁</td></tr><tr><td>val_loss</td><td>█▃▃▂▁▂▂▃▂▂▂▂▁▁▁▁▁▂▁▂▂▁▂▁▁▁▃▁▁▂▁▂▁▁▁▂▁▂▁▂</td></tr></table><br/></div><div class=\"wandb-col\"><h3>Run summary:</h3><br/><table class=\"wandb\"><tr><td>best_epoch</td><td>54</td></tr><tr><td>best_val_loss</td><td>0.59216</td></tr><tr><td>epoch</td><td>59</td></tr><tr><td>loss</td><td>0.73167</td></tr><tr><td>val_loss</td><td>0.87586</td></tr></table><br/></div></div>"
      ],
      "text/plain": [
       "<IPython.core.display.HTML object>"
      ]
     },
     "metadata": {},
     "output_type": "display_data"
    },
    {
     "data": {
      "text/html": [
       "Synced <strong style=\"color:#cdcd00\">sparkling-sweep-15</strong>: <a href=\"https://wandb.ai/ghirsch/Astro101_project_v4/runs/2ht3z1fv\" target=\"_blank\">https://wandb.ai/ghirsch/Astro101_project_v4/runs/2ht3z1fv</a><br/>Synced 6 W&B file(s), 1 media file(s), 0 artifact file(s) and 1 other file(s)"
      ],
      "text/plain": [
       "<IPython.core.display.HTML object>"
      ]
     },
     "metadata": {},
     "output_type": "display_data"
    },
    {
     "data": {
      "text/html": [
       "Find logs at: <code>./wandb/run-20221206_175856-2ht3z1fv/logs</code>"
      ],
      "text/plain": [
       "<IPython.core.display.HTML object>"
      ]
     },
     "metadata": {},
     "output_type": "display_data"
    },
    {
     "name": "stderr",
     "output_type": "stream",
     "text": [
      "wandb: ERROR Dropped streaming file chunk (see wandb/debug-internal.log)\n",
      "ERROR:root:dropped chunk 404 Client Error: Not Found for url: https://api.wandb.ai/files/ghirsch/Astro101_project_v4/37woihe7/file_stream\n",
      "NoneType: None\n",
      "wandb: Network error (ConnectionError), entering retry loop.\n",
      "wandb: Network error (ConnectionError), entering retry loop.\n"
     ]
    }
   ],
   "source": [
    "# file to load the nn\n",
    "\n",
    "import pandas as pd\n",
    "import numpy as np\n",
    "import os\n",
    "import tensorflow as tf\n",
    "from keras import layers\n",
    "from keras.models import Model, Sequential\n",
    "from keras.optimizers import Adam\n",
    "from keras.callbacks import ModelCheckpoint\n",
    "import wandb\n",
    "from wandb.keras import WandbCallback\n",
    "\n",
    "# read in our data\n",
    "DATA_DIR = '/Users/morty/a101_comp/NN_Tutorial/NN_Tutorial_2/Graham-Data-Processing/var_output3/'\n",
    "\n",
    "# check if keras recognizes gpu\n",
    "print(\"Num GPUs Available: \", len(tf.config.list_physical_devices('GPU')))\n",
    "\n",
    "train_x_ds = np.load(os.path.join(DATA_DIR, 'train_x_ds.npy'))\n",
    "val_x_ds = np.load(os.path.join(DATA_DIR, 'val_x_ds.npy'))\n",
    "train_y_ds = np.load(os.path.join(DATA_DIR, 'train_y_ds.npy'))\n",
    "val_y_ds = np.load(os.path.join(DATA_DIR, 'val_y_ds.npy'))\n",
    "\n",
    "input_shape = train_x_ds[0].shape\n",
    "output_len = len(train_y_ds[0])\n",
    "\n",
    "# build model functions--------------------------------\n",
    "def build_model(size1, size2, size3, size4, size5, dropout, learning_rate):\n",
    "    model = Sequential()\n",
    "\n",
    "    model.add(layers.Dense(size1))\n",
    "    model.add(layers.Dense(size2))\n",
    "    model.add(layers.Dense(size3))\n",
    "    model.add(layers.Dense(size4))\n",
    "    model.add(layers.Dense(size5))\n",
    "\n",
    "    model.add(layers.Dropout(dropout))\n",
    "    model.add(layers.Dense(output_len))\n",
    "\n",
    "    # return len of class size\n",
    "    model.add(layers.Dense(output_len))\n",
    "    model.add(layers.Activation('softmax'))\n",
    "\n",
    "    optimizer = Adam(learning_rate = learning_rate)\n",
    "    model.compile(optimizer=optimizer, loss='categorical_crossentropy')\n",
    "\n",
    "    return model\n",
    "\n",
    "\n",
    "def train(config=None):\n",
    "    with wandb.init(config=config):\n",
    "    # If called by wandb.agent, as below,\n",
    "    # this config will be set by Sweep Controller\n",
    "      config = wandb.config\n",
    "\n",
    "      #pprint.pprint(config)\n",
    "\n",
    "      #initialize the neural net; \n",
    "      global model\n",
    "      model = build_model(config.size_1,  config.size_2, config.size_3, \n",
    "              config.size_4, config.size_5, \n",
    "              config.dropout, config.learning_rate)\n",
    "      \n",
    "      #now run training\n",
    "      history = model.fit(\n",
    "        train_x_ds, train_y_ds,\n",
    "        batch_size = config.batch_size,\n",
    "        validation_data=(val_x_ds, val_y_ds),\n",
    "        epochs=config.epochs,\n",
    "        callbacks=[WandbCallback()] #use callbacks to have w&b log stats; will automatically save best model                     \n",
    "      )\n",
    "\n",
    "def train_manual():\n",
    "    global model\n",
    "    model = build_model(128, 128, 128, \n",
    "            128, 128, \n",
    "            .1, .001)\n",
    "    \n",
    "    #now run training\n",
    "    history = model.fit(\n",
    "    train_x_ds, train_y_ds,\n",
    "    batch_size = 64,\n",
    "    validation_data=(val_x_ds, val_y_ds),\n",
    "    epochs=10\n",
    "    )\n",
    "\n",
    "# set dictionary with random search; optimizing val_loss--------------------------\n",
    "sweep_config= {\n",
    "    'method': 'random',\n",
    "    'name': 'val_accuracy',\n",
    "    'goal': 'maximize'\n",
    "}\n",
    "\n",
    "sweep_config['metric']= 'val_accuracy'\n",
    "\n",
    "# now name hyperparameters with nested dictionary\n",
    "# parameters_dict = {\n",
    "#     'epochs': {\n",
    "#        'distribution': 'int_uniform',\n",
    "#        'min': 10,\n",
    "#        'max': 20\n",
    "#     },\n",
    "#     # for build_dataset\n",
    "#      'batch_size': {\n",
    "#        'distribution': 'q_log_uniform',  #we want to specify a distribution type to more efficiently iterate through these hyperparams\n",
    "#        'q': 8,\n",
    "#        'min': np.log(64),\n",
    "#        'max': np.log(256)\n",
    "#     },\n",
    "#     'size_1': {\n",
    "#        'distribution': 'q_log_uniform',\n",
    "#        'q': 8,\n",
    "#        'min': np.log(64),\n",
    "#        'max': np.log(256)\n",
    "#     },\n",
    "#     'size_2': {\n",
    "#        'distribution': 'q_log_uniform',\n",
    "#        'q': 8,\n",
    "#        'min': np.log(64),\n",
    "#        'max': np.log(256)\n",
    "#     },\n",
    "#      'size_3': {\n",
    "#        'distribution': 'q_log_uniform',\n",
    "#        'q': 8,\n",
    "#        'min': np.log(64),\n",
    "#        'max': np.log(256)\n",
    "#     },\n",
    "#      'size_4': {\n",
    "#        'distribution': 'q_log_uniform',\n",
    "#        'q': 8,\n",
    "#        'min': np.log(64),\n",
    "#        'max': np.log(256)\n",
    "#     },\n",
    "#      'size_5': {\n",
    "#        'distribution': 'q_log_uniform',\n",
    "#        'q': 8,\n",
    "#        'min': np.log(64),\n",
    "#        'max': np.log(256)\n",
    "#     },\n",
    "#     'dropout': {\n",
    "#       'distribution': 'uniform',\n",
    "#        'min': 0,\n",
    "#        'max': 0.6\n",
    "#     },\n",
    "#     'learning_rate':{\n",
    "#          #uniform distribution between 0 and 1\n",
    "#          'distribution': 'uniform', \n",
    "#          'min': 0,\n",
    "#          'max': 0.1\n",
    "#      }\n",
    "# }\n",
    "\n",
    "parameters_dict = {\n",
    "    'epochs': {\n",
    "       'distribution': 'int_uniform',\n",
    "       'min': 20,\n",
    "       'max': 100\n",
    "    },\n",
    "    # for build_dataset\n",
    "     'batch_size': {\n",
    "       'values': [32, 64, 96, 128]\n",
    "    },\n",
    "    'size_1': {\n",
    "       'distribution': 'int_uniform',\n",
    "       'min': 64,\n",
    "       'max': 256\n",
    "    },\n",
    "    'size_2': {\n",
    "       'distribution': 'int_uniform',\n",
    "       'min': 64,\n",
    "       'max': 256\n",
    "    },'size_3': {\n",
    "       'distribution': 'int_uniform',\n",
    "       'min': 64,\n",
    "       'max': 256\n",
    "    },'size_4': {\n",
    "       'distribution': 'int_uniform',\n",
    "       'min': 64,\n",
    "       'max': 256\n",
    "    },'size_5': {\n",
    "       'distribution': 'int_uniform',\n",
    "       'min': 64,\n",
    "       'max': 256\n",
    "    },\n",
    "    'dropout': {\n",
    "      'distribution': 'uniform',\n",
    "       'min': 0,\n",
    "       'max': 0.6\n",
    "    },\n",
    "    'learning_rate':{\n",
    "         #uniform distribution between 0 and 1\n",
    "         'distribution': 'uniform', \n",
    "         'min': 0,\n",
    "         'max': 0.1\n",
    "     }\n",
    "}\n",
    "\n",
    "# append parameters to sweep config\n",
    "sweep_config['parameters'] = parameters_dict \n",
    "\n",
    "# login to wandb----------------\n",
    "wandb.init(project=\"Astro101_project_v4\", entity=\"ghirsch\")\n",
    "\n",
    "# initialize sweep agent\n",
    "sweep_id = wandb.sweep(sweep_config, project='Astro101_project_v4', entity=\"ghirsch\")\n",
    "wandb.agent(sweep_id, train, count=15)\n",
    "\n",
    "#train_manual()"
   ]
  },
  {
   "cell_type": "code",
   "execution_count": null,
   "metadata": {},
   "outputs": [],
   "source": []
  }
 ],
 "metadata": {
  "kernelspec": {
   "display_name": "Python 3.8.5 ('base')",
   "language": "python",
   "name": "python3"
  },
  "language_info": {
   "codemirror_mode": {
    "name": "ipython",
    "version": 3
   },
   "file_extension": ".py",
   "mimetype": "text/x-python",
   "name": "python",
   "nbconvert_exporter": "python",
   "pygments_lexer": "ipython3",
   "version": "3.8.5"
  },
  "orig_nbformat": 4,
  "vscode": {
   "interpreter": {
    "hash": "40d3a090f54c6569ab1632332b64b2c03c39dcf918b08424e98f38b5ae0af88f"
   }
  }
 },
 "nbformat": 4,
 "nbformat_minor": 2
}
